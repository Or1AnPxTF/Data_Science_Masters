{
 "cells": [
  {
   "cell_type": "markdown",
   "id": "0c597e63",
   "metadata": {},
   "source": [
    "### Q1. A company conducted a survey of its employees and found that 70% of the employees use the company's health insurance plan, while 40% of the employees who use the plan are smokers. What is the probability that an employee is a smoker given that he/she uses the health insurance plan?"
   ]
  },
  {
   "cell_type": "markdown",
   "id": "581dec51",
   "metadata": {},
   "source": [
    "P(Smoker | Uses Health Insurance) = P(Smoker and Uses Health Insurance) / P(Uses Health Insurance)\n",
    "\n",
    "Given,\n",
    "\n",
    "* The probability that an employee uses the health insurance plan is 70%, which can be denoted as P(Uses Health Insurance) = 0.70.\n",
    "\n",
    "* The probability that an employee who uses the plan is a smoker is 40%, which can be denoted as P(Smoker and Uses Health Insurance) = 0.40.\n",
    "\n",
    "Now, you can calculate the conditional probability:\n",
    "\n",
    "P(Smoker | Uses Health Insurance) = P(Smoker and Uses Health Insurance) / P(Uses Health Insurance)\n",
    "P(Smoker | Uses Health Insurance) = 0.40 / 0.70\n",
    "P(Smoker | Uses Health Insurance) ≈ 0.5714\n",
    "\n",
    "So, the probability that an employee is a smoker given that he/she uses the health insurance plan is approximately 57.14%."
   ]
  },
  {
   "cell_type": "markdown",
   "id": "e75d4a5f",
   "metadata": {},
   "source": [
    "### Q2. What is the difference between Bernoulli Naive Bayes and Multinomial Naive Bayes?"
   ]
  },
  {
   "cell_type": "markdown",
   "id": "1c0df0e7",
   "metadata": {},
   "source": [
    "Ans)**Bernoulli Naive Bayes** and **Multinomial Naive Bayes** are both variants of the Naive Bayes classification algorithm, but they differ primarily in the type of data they are designed to handle. Bernoulli Naive Bayes is suitable for binary or boolean features, meaning it works best when the data represents the presence or absence of features. For example, in text classification tasks like spam detection, Bernoulli Naive Bayes considers whether a particular word appears in a document or not, ignoring how many times it occurs. It uses the Bernoulli distribution to model the binary occurrence of features.\n",
    "\n",
    "On the other hand, Multinomial Naive Bayes is used for data that involves discrete counts, making it ideal for tasks where the frequency of features matters. This variant is commonly applied in document classification, where the input features are typically word counts or term frequencies. Multinomial Naive Bayes uses the multinomial distribution to model the probability of word occurrences in a document, taking into account how often each word appears.\n",
    "\n",
    "In summary, while Bernoulli Naive Bayes focuses on the presence or absence of features, Multinomial Naive Bayes focuses on the number of times features occur. The choice between the two depends on the nature of the input data and the problem at hand."
   ]
  },
  {
   "cell_type": "markdown",
   "id": "46f630fe",
   "metadata": {},
   "source": [
    "### Q3. How does Bernoulli Naive Bayes handle missing values?"
   ]
  },
  {
   "cell_type": "markdown",
   "id": "0e28d2f3",
   "metadata": {},
   "source": [
    "Bernoulli Naive Bayes, like other Naive Bayes variants, is not well-suited to handling missing values in its standard form. The algorithm assumes that each feature is either present (1) or absent (0), and it relies on these binary values to calculate probabilities for classification.\n",
    "\n",
    "When you have missing values in a Bernoulli Naive Bayes model, we can :\n",
    "\n",
    "1. Impute Missing Values: You can fill in the missing values with a suitable imputation technique. For binary data, you might impute missing values with the most common value (0 or 1) or use more advanced imputation methods, such as k-Nearest Neighbors imputation or predictive modeling techniques. However, the choice of imputation method can affect the results, so it should be done carefully.\n",
    "\n",
    "2. Remove Instances with Missing Values: Another approach is to remove instances (data points) that have missing values. This approach can work if the number of instances with missing values is relatively small and doesn't significantly impact the overall dataset. However, it can lead to a loss of information.\n",
    "\n",
    "3. Encode Missing Values as a Separate Category: Instead of imputing missing values, you can encode them as a separate category (e.g., -1 or \"missing\"). This approach retains the information that a value is missing and allows the Naive Bayes classifier to consider it as a separate feature. However, you should be cautious about how you handle these missing value categories during probability calculations.\n",
    "\n",
    "4. Modify the Algorithm: You could modify the Bernoulli Naive Bayes algorithm to handle missing values explicitly. This would involve adapting the probability calculations to account for missing values as a distinct category. However, this modification can be complex and might require redefining the basic assumptions of the Naive Bayes model.\n",
    "\n",
    "In practice, the choice of how to handle missing values depends on the specific dataset and problem at hand. It's important to consider the impact of missing data on your classification results and choose the most appropriate approach based on your data and the goals of your analysis."
   ]
  },
  {
   "cell_type": "markdown",
   "id": "62a8490b",
   "metadata": {},
   "source": [
    "### Q4. Can Gaussian Naive Bayes be used for multi-class classification?"
   ]
  },
  {
   "cell_type": "markdown",
   "id": "c4164b1f",
   "metadata": {},
   "source": [
    "Yes, Gaussian Naive Bayes can be used for multi-class classification tasks. Gaussian Naive Bayes is a variant of the Naive Bayes algorithm that is specifically designed for continuous data where features are assumed to follow a Gaussian (normal) distribution. It can be adapted for multi-class classification by extending the basic binary classification setup.\n",
    "\n",
    "Using Gaussian Naive Bayes for multi-class classification:\n",
    "\n",
    "1. Data Preparation: Ensure that your dataset is appropriately prepared, and your features are continuous variables or can be approximated as continuous. If you have categorical features, you may need to convert them into continuous representations, such as using one-hot encoding.\n",
    "\n",
    "2. Model Training: When using Gaussian Naive Bayes for multi-class classification, you will create a separate model for each class. For example, if you have K classes, you would train K separate Gaussian Naive Bayes models, each one corresponding to a different class.\n",
    "\n",
    "3. Probability Estimation: In each model, you estimate the mean and variance of each feature for the instances belonging to that class. You assume that the features are normally distributed within each class. This estimation is typically done using the maximum likelihood method.\n",
    "\n",
    "4. Class Prediction: To classify a new data point, you calculate the likelihood of the data point belonging to each class based on the Gaussian probability density function with the estimated mean and variance for each feature in that class. You then use Bayes' theorem to calculate the posterior probability of each class, given the observed data, and assign the class with the highest posterior probability as the predicted class for the data point.\n",
    "\n",
    "In summary, Gaussian Naive Bayes can be used for multi-class classification by treating each class as a separate binary classification problem and using Gaussian probability density functions to model the feature distributions within each class. It's a simple and effective algorithm for multi-class classification when your data is continuous or can be reasonably approximated as such."
   ]
  },
  {
   "cell_type": "markdown",
   "id": "3f683c43",
   "metadata": {},
   "source": [
    "### Q5. Assignment:"
   ]
  },
  {
   "cell_type": "markdown",
   "id": "86df88ae",
   "metadata": {},
   "source": [
    "* Data preparation:\n",
    "Download the \"Spambase Data Set\" from the UCI Machine Learning Repository (https://archive.ics.uci.edu/ml/datasets/Spambase). This dataset contains email messages, where the goal is to predict whether a message is spam or not based on several input features.\n",
    "\n",
    "* Implementation:\n",
    "Implement Bernoulli Naive Bayes, Multinomial Naive Bayes, and Gaussian Naive Bayes classifiers using the scikit-learn library in Python. Use 10-fold cross-validation to evaluate the performance of each classifier on the dataset. You should use the default hyperparameters for each classifier.\n",
    "\n",
    "* Results:\n",
    "Report the following performance metrics for each classifier: Accuracy Precision Recall F1 score\n",
    "\n",
    "* Discussion:\n",
    "Discuss the results you obtained. Which variant of Naive Bayes performed the best? Why do you think that is the case? Are there any limitations of Naive Bayes that you observed?\n",
    "\n",
    "* Conclusion:\n",
    "Summarise your findings and provide some suggestions for future work. Note: This dataset contains a binary classification problem with multiple features. The dataset is relatively small, but it can be used to demonstrate the performance of the different variants of Naive Bayes on a real-world problem."
   ]
  },
  {
   "cell_type": "code",
   "execution_count": 5,
   "id": "de071bef",
   "metadata": {},
   "outputs": [],
   "source": [
    "import pandas as pd\n",
    "import numpy as np\n",
    "import seaborn as sns\n",
    "import matplotlib.pyplot as plt\n",
    "from sklearn.model_selection import train_test_split\n",
    "from sklearn.naive_bayes import GaussianNB,BernoulliNB,MultinomialNB\n",
    "from sklearn.model_selection import cross_val_score\n",
    "from sklearn.metrics import accuracy_score,classification_report,confusion_matrix"
   ]
  },
  {
   "cell_type": "code",
   "execution_count": 6,
   "id": "0158833e",
   "metadata": {},
   "outputs": [
    {
     "name": "stdout",
     "output_type": "stream",
     "text": [
      "| SPAM E-MAIL DATABASE ATTRIBUTES (in .names format)\n",
      "|\n",
      "| 48 continuous real [0,100] attributes of type word_freq_WORD \n",
      "| = percentage of words in the e-mail that match WORD,\n",
      "| i.e. 100 * (number of times the WORD appears in the e-mail) / \n",
      "| total number of words in e-mail.  A \"word\" in this case is any \n",
      "| string of alphanumeric characters bounded by non-alphanumeric \n",
      "| characters or end-of-string.\n",
      "|\n",
      "| 6 continuous real [0,100] attributes of type char_freq_CHAR\n",
      "| = percentage of characters in the e-mail that match CHAR,\n",
      "| i.e. 100 * (number of CHAR occurences) / total characters in e-mail\n",
      "|\n",
      "| 1 continuous real [1,...] attribute of type capital_run_length_average\n",
      "| = average length of uninterrupted sequences of capital letters\n",
      "|\n",
      "| 1 continuous integer [1,...] attribute of type capital_run_length_longest\n",
      "| = length of longest uninterrupted sequence of capital letters\n",
      "|\n",
      "| 1 continuous integer [1,...] attribute of type capital_run_length_total\n",
      "| = sum of length of uninterrupted sequences of capital letters\n",
      "| = total number of capital letters in the e-mail\n",
      "|\n",
      "| 1 nominal {0,1} class attribute of type spam\n",
      "| = denotes whether the e-mail was considered spam (1) or not (0), \n",
      "| i.e. unsolicited commercial e-mail.  \n",
      "|\n",
      "| For more information, see file 'spambase.DOCUMENTATION' at the\n",
      "| UCI Machine Learning Repository: http://www.ics.uci.edu/~mlearn/MLRepository.html\n",
      "\n",
      "\n",
      "1, 0.    | spam, non-spam classes\n",
      "\n",
      "word_freq_make:         continuous.\n",
      "word_freq_address:      continuous.\n",
      "word_freq_all:          continuous.\n",
      "word_freq_3d:           continuous.\n",
      "word_freq_our:          continuous.\n",
      "word_freq_over:         continuous.\n",
      "word_freq_remove:       continuous.\n",
      "word_freq_internet:     continuous.\n",
      "word_freq_order:        continuous.\n",
      "word_freq_mail:         continuous.\n",
      "word_freq_receive:      continuous.\n",
      "word_freq_will:         continuous.\n",
      "word_freq_people:       continuous.\n",
      "word_freq_report:       continuous.\n",
      "word_freq_addresses:    continuous.\n",
      "word_freq_free:         continuous.\n",
      "word_freq_business:     continuous.\n",
      "word_freq_email:        continuous.\n",
      "word_freq_you:          continuous.\n",
      "word_freq_credit:       continuous.\n",
      "word_freq_your:         continuous.\n",
      "word_freq_font:         continuous.\n",
      "word_freq_000:          continuous.\n",
      "word_freq_money:        continuous.\n",
      "word_freq_hp:           continuous.\n",
      "word_freq_hpl:          continuous.\n",
      "word_freq_george:       continuous.\n",
      "word_freq_650:          continuous.\n",
      "word_freq_lab:          continuous.\n",
      "word_freq_labs:         continuous.\n",
      "word_freq_telnet:       continuous.\n",
      "word_freq_857:          continuous.\n",
      "word_freq_data:         continuous.\n",
      "word_freq_415:          continuous.\n",
      "word_freq_85:           continuous.\n",
      "word_freq_technology:   continuous.\n",
      "word_freq_1999:         continuous.\n",
      "word_freq_parts:        continuous.\n",
      "word_freq_pm:           continuous.\n",
      "word_freq_direct:       continuous.\n",
      "word_freq_cs:           continuous.\n",
      "word_freq_meeting:      continuous.\n",
      "word_freq_original:     continuous.\n",
      "word_freq_project:      continuous.\n",
      "word_freq_re:           continuous.\n",
      "word_freq_edu:          continuous.\n",
      "word_freq_table:        continuous.\n",
      "word_freq_conference:   continuous.\n",
      "char_freq_;:            continuous.\n",
      "char_freq_(:            continuous.\n",
      "char_freq_[:            continuous.\n",
      "char_freq_!:            continuous.\n",
      "char_freq_$:            continuous.\n",
      "char_freq_#:            continuous.\n",
      "capital_run_length_average: continuous.\n",
      "capital_run_length_longest: continuous.\n",
      "capital_run_length_total:   continuous.\n",
      "\n"
     ]
    }
   ],
   "source": [
    "with open('spambase.names','r') as f:\n",
    "    a = f.read()\n",
    "    \n",
    "print(a)"
   ]
  },
  {
   "cell_type": "code",
   "execution_count": 7,
   "id": "3dd66588",
   "metadata": {},
   "outputs": [
    {
     "name": "stdout",
     "output_type": "stream",
     "text": [
      "1. Title:  SPAM E-mail Database\n",
      "\n",
      "2. Sources:\n",
      "   (a) Creators: Mark Hopkins, Erik Reeber, George Forman, Jaap Suermondt\n",
      "        Hewlett-Packard Labs, 1501 Page Mill Rd., Palo Alto, CA 94304\n",
      "   (b) Donor: George Forman (gforman at nospam hpl.hp.com)  650-857-7835\n",
      "   (c) Generated: June-July 1999\n",
      "\n",
      "3. Past Usage:\n",
      "   (a) Hewlett-Packard Internal-only Technical Report. External forthcoming.\n",
      "   (b) Determine whether a given email is spam or not.\n",
      "   (c) ~7% misclassification error.\n",
      "       False positives (marking good mail as spam) are very undesirable.\n",
      "       If we insist on zero false positives in the training/testing set,\n",
      "       20-25% of the spam passed through the filter.\n",
      "\n",
      "4. Relevant Information:\n",
      "        The \"spam\" concept is diverse: advertisements for products/web\n",
      "        sites, make money fast schemes, chain letters, pornography...\n",
      "\tOur collection of spam e-mails came from our postmaster and \n",
      "\tindividuals who had filed spam.  Our collection of non-spam \n",
      "\te-mails came from filed work and personal e-mails, and hence\n",
      "\tthe word 'george' and the area code '650' are indicators of \n",
      "\tnon-spam.  These are useful when constructing a personalized \n",
      "\tspam filter.  One would either have to blind such non-spam \n",
      "\tindicators or get a very wide collection of non-spam to \n",
      "\tgenerate a general purpose spam filter.\n",
      "\n",
      "        For background on spam:\n",
      "        Cranor, Lorrie F., LaMacchia, Brian A.  Spam! \n",
      "        Communications of the ACM, 41(8):74-83, 1998.\n",
      "\n",
      "5. Number of Instances: 4601 (1813 Spam = 39.4%)\n",
      "\n",
      "6. Number of Attributes: 58 (57 continuous, 1 nominal class label)\n",
      "\n",
      "7. Attribute Information:\n",
      "The last column of 'spambase.data' denotes whether the e-mail was \n",
      "considered spam (1) or not (0), i.e. unsolicited commercial e-mail.  \n",
      "Most of the attributes indicate whether a particular word or\n",
      "character was frequently occuring in the e-mail.  The run-length\n",
      "attributes (55-57) measure the length of sequences of consecutive \n",
      "capital letters.  For the statistical measures of each attribute, \n",
      "see the end of this file.  Here are the definitions of the attributes:\n",
      "\n",
      "48 continuous real [0,100] attributes of type word_freq_WORD \n",
      "= percentage of words in the e-mail that match WORD,\n",
      "i.e. 100 * (number of times the WORD appears in the e-mail) / \n",
      "total number of words in e-mail.  A \"word\" in this case is any \n",
      "string of alphanumeric characters bounded by non-alphanumeric \n",
      "characters or end-of-string.\n",
      "\n",
      "6 continuous real [0,100] attributes of type char_freq_CHAR\n",
      "= percentage of characters in the e-mail that match CHAR,\n",
      "i.e. 100 * (number of CHAR occurences) / total characters in e-mail\n",
      "\n",
      "1 continuous real [1,...] attribute of type capital_run_length_average\n",
      "= average length of uninterrupted sequences of capital letters\n",
      "\n",
      "1 continuous integer [1,...] attribute of type capital_run_length_longest\n",
      "= length of longest uninterrupted sequence of capital letters\n",
      "\n",
      "1 continuous integer [1,...] attribute of type capital_run_length_total\n",
      "= sum of length of uninterrupted sequences of capital letters\n",
      "= total number of capital letters in the e-mail\n",
      "\n",
      "1 nominal {0,1} class attribute of type spam\n",
      "= denotes whether the e-mail was considered spam (1) or not (0), \n",
      "i.e. unsolicited commercial e-mail.  \n",
      "\n",
      "\n",
      "8. Missing Attribute Values: None\n",
      "\n",
      "9. Class Distribution:\n",
      "\tSpam\t  1813  (39.4%)\n",
      "\tNon-Spam  2788  (60.6%)\n",
      "\n",
      "\n",
      "Attribute Statistics:\n",
      "   Min: Max:   Average:  Std.Dev: Coeff.Var_%: \n",
      "1  0    4.54   0.10455   0.30536  292          \n",
      "2  0    14.28  0.21301   1.2906   606          \n",
      "3  0    5.1    0.28066   0.50414  180          \n",
      "4  0    42.81  0.065425  1.3952   2130         \n",
      "5  0    10     0.31222   0.67251  215          \n",
      "6  0    5.88   0.095901  0.27382  286          \n",
      "7  0    7.27   0.11421   0.39144  343          \n",
      "8  0    11.11  0.10529   0.40107  381          \n",
      "9  0    5.26   0.090067  0.27862  309          \n",
      "10 0    18.18  0.23941   0.64476  269          \n",
      "11 0    2.61   0.059824  0.20154  337          \n",
      "12 0    9.67   0.5417    0.8617   159          \n",
      "13 0    5.55   0.09393   0.30104  320          \n",
      "14 0    10     0.058626  0.33518  572          \n",
      "15 0    4.41   0.049205  0.25884  526          \n",
      "16 0    20     0.24885   0.82579  332          \n",
      "17 0    7.14   0.14259   0.44406  311          \n",
      "18 0    9.09   0.18474   0.53112  287          \n",
      "19 0    18.75  1.6621    1.7755   107          \n",
      "20 0    18.18  0.085577  0.50977  596          \n",
      "21 0    11.11  0.80976   1.2008   148          \n",
      "22 0    17.1   0.1212    1.0258   846          \n",
      "23 0    5.45   0.10165   0.35029  345          \n",
      "24 0    12.5   0.094269  0.44264  470          \n",
      "25 0    20.83  0.5495    1.6713   304          \n",
      "26 0    16.66  0.26538   0.88696  334          \n",
      "27 0    33.33  0.7673    3.3673   439          \n",
      "28 0    9.09   0.12484   0.53858  431          \n",
      "29 0    14.28  0.098915  0.59333  600          \n",
      "30 0    5.88   0.10285   0.45668  444          \n",
      "31 0    12.5   0.064753  0.40339  623          \n",
      "32 0    4.76   0.047048  0.32856  698          \n",
      "33 0    18.18  0.097229  0.55591  572          \n",
      "34 0    4.76   0.047835  0.32945  689          \n",
      "35 0    20     0.10541   0.53226  505          \n",
      "36 0    7.69   0.097477  0.40262  413          \n",
      "37 0    6.89   0.13695   0.42345  309          \n",
      "38 0    8.33   0.013201  0.22065  1670         \n",
      "39 0    11.11  0.078629  0.43467  553          \n",
      "40 0    4.76   0.064834  0.34992  540          \n",
      "41 0    7.14   0.043667  0.3612   827          \n",
      "42 0    14.28  0.13234   0.76682  579          \n",
      "43 0    3.57   0.046099  0.22381  486          \n",
      "44 0    20     0.079196  0.62198  785          \n",
      "45 0    21.42  0.30122   1.0117   336          \n",
      "46 0    22.05  0.17982   0.91112  507          \n",
      "47 0    2.17   0.0054445 0.076274 1400         \n",
      "48 0    10     0.031869  0.28573  897          \n",
      "49 0    4.385  0.038575  0.24347  631          \n",
      "50 0    9.752  0.13903   0.27036  194          \n",
      "51 0    4.081  0.016976  0.10939  644          \n",
      "52 0    32.478 0.26907   0.81567  303          \n",
      "53 0    6.003  0.075811  0.24588  324          \n",
      "54 0    19.829 0.044238  0.42934  971          \n",
      "55 1    1102.5 5.1915    31.729   611          \n",
      "56 1    9989   52.173    194.89   374          \n",
      "57 1    15841  283.29    606.35   214          \n",
      "58 0    1      0.39404   0.4887   124          \n",
      "\n",
      "\n",
      "This file: 'spambase.DOCUMENTATION' at the UCI Machine Learning Repository\n",
      "http://www.ics.uci.edu/~mlearn/MLRepository.html\n",
      "\n"
     ]
    }
   ],
   "source": [
    "with open('spambase.DOCUMENTATION','r') as f:\n",
    "    b = f.read()\n",
    "    \n",
    "print(b)"
   ]
  },
  {
   "cell_type": "code",
   "execution_count": 8,
   "id": "3ea58137",
   "metadata": {},
   "outputs": [
    {
     "data": {
      "text/html": [
       "<div>\n",
       "<style scoped>\n",
       "    .dataframe tbody tr th:only-of-type {\n",
       "        vertical-align: middle;\n",
       "    }\n",
       "\n",
       "    .dataframe tbody tr th {\n",
       "        vertical-align: top;\n",
       "    }\n",
       "\n",
       "    .dataframe thead th {\n",
       "        text-align: right;\n",
       "    }\n",
       "</style>\n",
       "<table border=\"1\" class=\"dataframe\">\n",
       "  <thead>\n",
       "    <tr style=\"text-align: right;\">\n",
       "      <th></th>\n",
       "      <th>0</th>\n",
       "      <th>1</th>\n",
       "      <th>2</th>\n",
       "      <th>3</th>\n",
       "      <th>4</th>\n",
       "      <th>5</th>\n",
       "      <th>6</th>\n",
       "      <th>7</th>\n",
       "      <th>8</th>\n",
       "      <th>9</th>\n",
       "      <th>...</th>\n",
       "      <th>48</th>\n",
       "      <th>49</th>\n",
       "      <th>50</th>\n",
       "      <th>51</th>\n",
       "      <th>52</th>\n",
       "      <th>53</th>\n",
       "      <th>54</th>\n",
       "      <th>55</th>\n",
       "      <th>56</th>\n",
       "      <th>57</th>\n",
       "    </tr>\n",
       "  </thead>\n",
       "  <tbody>\n",
       "    <tr>\n",
       "      <th>0</th>\n",
       "      <td>0.00</td>\n",
       "      <td>0.64</td>\n",
       "      <td>0.64</td>\n",
       "      <td>0.0</td>\n",
       "      <td>0.32</td>\n",
       "      <td>0.00</td>\n",
       "      <td>0.00</td>\n",
       "      <td>0.00</td>\n",
       "      <td>0.00</td>\n",
       "      <td>0.00</td>\n",
       "      <td>...</td>\n",
       "      <td>0.00</td>\n",
       "      <td>0.000</td>\n",
       "      <td>0.0</td>\n",
       "      <td>0.778</td>\n",
       "      <td>0.000</td>\n",
       "      <td>0.000</td>\n",
       "      <td>3.756</td>\n",
       "      <td>61</td>\n",
       "      <td>278</td>\n",
       "      <td>1</td>\n",
       "    </tr>\n",
       "    <tr>\n",
       "      <th>1</th>\n",
       "      <td>0.21</td>\n",
       "      <td>0.28</td>\n",
       "      <td>0.50</td>\n",
       "      <td>0.0</td>\n",
       "      <td>0.14</td>\n",
       "      <td>0.28</td>\n",
       "      <td>0.21</td>\n",
       "      <td>0.07</td>\n",
       "      <td>0.00</td>\n",
       "      <td>0.94</td>\n",
       "      <td>...</td>\n",
       "      <td>0.00</td>\n",
       "      <td>0.132</td>\n",
       "      <td>0.0</td>\n",
       "      <td>0.372</td>\n",
       "      <td>0.180</td>\n",
       "      <td>0.048</td>\n",
       "      <td>5.114</td>\n",
       "      <td>101</td>\n",
       "      <td>1028</td>\n",
       "      <td>1</td>\n",
       "    </tr>\n",
       "    <tr>\n",
       "      <th>2</th>\n",
       "      <td>0.06</td>\n",
       "      <td>0.00</td>\n",
       "      <td>0.71</td>\n",
       "      <td>0.0</td>\n",
       "      <td>1.23</td>\n",
       "      <td>0.19</td>\n",
       "      <td>0.19</td>\n",
       "      <td>0.12</td>\n",
       "      <td>0.64</td>\n",
       "      <td>0.25</td>\n",
       "      <td>...</td>\n",
       "      <td>0.01</td>\n",
       "      <td>0.143</td>\n",
       "      <td>0.0</td>\n",
       "      <td>0.276</td>\n",
       "      <td>0.184</td>\n",
       "      <td>0.010</td>\n",
       "      <td>9.821</td>\n",
       "      <td>485</td>\n",
       "      <td>2259</td>\n",
       "      <td>1</td>\n",
       "    </tr>\n",
       "    <tr>\n",
       "      <th>3</th>\n",
       "      <td>0.00</td>\n",
       "      <td>0.00</td>\n",
       "      <td>0.00</td>\n",
       "      <td>0.0</td>\n",
       "      <td>0.63</td>\n",
       "      <td>0.00</td>\n",
       "      <td>0.31</td>\n",
       "      <td>0.63</td>\n",
       "      <td>0.31</td>\n",
       "      <td>0.63</td>\n",
       "      <td>...</td>\n",
       "      <td>0.00</td>\n",
       "      <td>0.137</td>\n",
       "      <td>0.0</td>\n",
       "      <td>0.137</td>\n",
       "      <td>0.000</td>\n",
       "      <td>0.000</td>\n",
       "      <td>3.537</td>\n",
       "      <td>40</td>\n",
       "      <td>191</td>\n",
       "      <td>1</td>\n",
       "    </tr>\n",
       "    <tr>\n",
       "      <th>4</th>\n",
       "      <td>0.00</td>\n",
       "      <td>0.00</td>\n",
       "      <td>0.00</td>\n",
       "      <td>0.0</td>\n",
       "      <td>0.63</td>\n",
       "      <td>0.00</td>\n",
       "      <td>0.31</td>\n",
       "      <td>0.63</td>\n",
       "      <td>0.31</td>\n",
       "      <td>0.63</td>\n",
       "      <td>...</td>\n",
       "      <td>0.00</td>\n",
       "      <td>0.135</td>\n",
       "      <td>0.0</td>\n",
       "      <td>0.135</td>\n",
       "      <td>0.000</td>\n",
       "      <td>0.000</td>\n",
       "      <td>3.537</td>\n",
       "      <td>40</td>\n",
       "      <td>191</td>\n",
       "      <td>1</td>\n",
       "    </tr>\n",
       "  </tbody>\n",
       "</table>\n",
       "<p>5 rows × 58 columns</p>\n",
       "</div>"
      ],
      "text/plain": [
       "     0     1     2    3     4     5     6     7     8     9   ...    48  \\\n",
       "0  0.00  0.64  0.64  0.0  0.32  0.00  0.00  0.00  0.00  0.00  ...  0.00   \n",
       "1  0.21  0.28  0.50  0.0  0.14  0.28  0.21  0.07  0.00  0.94  ...  0.00   \n",
       "2  0.06  0.00  0.71  0.0  1.23  0.19  0.19  0.12  0.64  0.25  ...  0.01   \n",
       "3  0.00  0.00  0.00  0.0  0.63  0.00  0.31  0.63  0.31  0.63  ...  0.00   \n",
       "4  0.00  0.00  0.00  0.0  0.63  0.00  0.31  0.63  0.31  0.63  ...  0.00   \n",
       "\n",
       "      49   50     51     52     53     54   55    56  57  \n",
       "0  0.000  0.0  0.778  0.000  0.000  3.756   61   278   1  \n",
       "1  0.132  0.0  0.372  0.180  0.048  5.114  101  1028   1  \n",
       "2  0.143  0.0  0.276  0.184  0.010  9.821  485  2259   1  \n",
       "3  0.137  0.0  0.137  0.000  0.000  3.537   40   191   1  \n",
       "4  0.135  0.0  0.135  0.000  0.000  3.537   40   191   1  \n",
       "\n",
       "[5 rows x 58 columns]"
      ]
     },
     "execution_count": 8,
     "metadata": {},
     "output_type": "execute_result"
    }
   ],
   "source": [
    "df = pd.read_csv(\"spambase.data\",header=None)\n",
    "df.head()"
   ]
  },
  {
   "cell_type": "code",
   "execution_count": 9,
   "id": "da61ce7e",
   "metadata": {},
   "outputs": [
    {
     "data": {
      "text/plain": [
       "0    2788\n",
       "1    1813\n",
       "Name: 57, dtype: int64"
      ]
     },
     "execution_count": 9,
     "metadata": {},
     "output_type": "execute_result"
    }
   ],
   "source": [
    "df[57].value_counts()"
   ]
  },
  {
   "cell_type": "code",
   "execution_count": 10,
   "id": "67832aa6",
   "metadata": {},
   "outputs": [],
   "source": [
    "X = df.iloc[:,:-1]\n",
    "y = df[57]"
   ]
  },
  {
   "cell_type": "code",
   "execution_count": 11,
   "id": "8b37e5d3",
   "metadata": {},
   "outputs": [],
   "source": [
    "X_train,X_test,y_train,y_test = train_test_split(X,y,test_size=0.25,random_state=42)"
   ]
  },
  {
   "cell_type": "code",
   "execution_count": 12,
   "id": "da08b774",
   "metadata": {},
   "outputs": [
    {
     "data": {
      "text/plain": [
       "((3450, 57), (1151, 57))"
      ]
     },
     "execution_count": 12,
     "metadata": {},
     "output_type": "execute_result"
    }
   ],
   "source": [
    "X_train.shape , X_test.shape"
   ]
  },
  {
   "cell_type": "code",
   "execution_count": 13,
   "id": "7f46cf02",
   "metadata": {},
   "outputs": [
    {
     "data": {
      "text/plain": [
       "((3450,), (1151,))"
      ]
     },
     "execution_count": 13,
     "metadata": {},
     "output_type": "execute_result"
    }
   ],
   "source": [
    "y_train.shape , y_test.shape"
   ]
  },
  {
   "cell_type": "code",
   "execution_count": 14,
   "id": "2c053bec",
   "metadata": {},
   "outputs": [],
   "source": [
    "# Initialize classifiers\n",
    "bernoulli_nb = BernoulliNB()\n",
    "multinomial_nb = MultinomialNB()\n",
    "gaussian_nb = GaussianNB()"
   ]
  },
  {
   "cell_type": "code",
   "execution_count": 15,
   "id": "9d45023f",
   "metadata": {},
   "outputs": [],
   "source": [
    "# Perform 10-fold cross-validation and compute mean accuracy\n",
    "bernoulli_scores = cross_val_score(bernoulli_nb, X, y, cv=10, scoring='accuracy')\n",
    "multinomial_scores = cross_val_score(multinomial_nb, X, y, cv=10, scoring='accuracy')\n",
    "gaussian_scores = cross_val_score(gaussian_nb, X, y, cv=10, scoring='accuracy')"
   ]
  },
  {
   "cell_type": "code",
   "execution_count": 16,
   "id": "c4f81c68",
   "metadata": {},
   "outputs": [],
   "source": [
    "# Calculate mean accuracy for each classifier\n",
    "mean_bernoulli_accuracy = bernoulli_scores.mean()\n",
    "mean_multinomial_accuracy = multinomial_scores.mean()\n",
    "mean_gaussian_accuracy = gaussian_scores.mean()"
   ]
  },
  {
   "cell_type": "code",
   "execution_count": 17,
   "id": "bb041be8",
   "metadata": {},
   "outputs": [
    {
     "name": "stdout",
     "output_type": "stream",
     "text": [
      "Bernoulli Naive Bayes Mean Accuracy: 0.8839380364047911\n",
      "Multinomial Naive Bayes Mean Accuracy: 0.7863496180326323\n",
      "Gaussian Naive Bayes Mean Accuracy: 0.8217730830896915\n"
     ]
    }
   ],
   "source": [
    "# Print the results\n",
    "print(\"Bernoulli Naive Bayes Mean Accuracy:\", mean_bernoulli_accuracy)\n",
    "print(\"Multinomial Naive Bayes Mean Accuracy:\", mean_multinomial_accuracy)\n",
    "print(\"Gaussian Naive Bayes Mean Accuracy:\", mean_gaussian_accuracy)"
   ]
  },
  {
   "cell_type": "code",
   "execution_count": 18,
   "id": "166b9315",
   "metadata": {},
   "outputs": [],
   "source": [
    "import seaborn as sns\n",
    "def performance_metrics_calculation(xtest,ytest,model):\n",
    "    y_pred= model.predict(xtest)\n",
    "    print(f\"Accuracy : {accuracy_score(ytest,y_pred)}\")\n",
    "    print(\"-----------------------------------------------\")\n",
    "    print(f\"Classification Report: \\n\\n {classification_report(ytest,y_pred)}\")\n",
    "    print(\"-----------------------------------------------\")\n",
    "    print(\"Confusion Matrix :\")\n",
    "    value = confusion_matrix(ytest,y_pred)\n",
    "    sns.heatmap(value,annot=True,fmt = \".1f\")"
   ]
  },
  {
   "cell_type": "code",
   "execution_count": 19,
   "id": "63ee4868",
   "metadata": {},
   "outputs": [
    {
     "name": "stdout",
     "output_type": "stream",
     "text": [
      "Accuracy : 0.8827106863596872\n",
      "-----------------------------------------------\n",
      "Classification Report: \n",
      "\n",
      "               precision    recall  f1-score   support\n",
      "\n",
      "           0       0.87      0.94      0.90       676\n",
      "           1       0.90      0.80      0.85       475\n",
      "\n",
      "    accuracy                           0.88      1151\n",
      "   macro avg       0.89      0.87      0.88      1151\n",
      "weighted avg       0.88      0.88      0.88      1151\n",
      "\n",
      "-----------------------------------------------\n",
      "Confusion Matrix :\n"
     ]
    },
    {
     "data": {
      "image/png": "[encoded data removed]",
      "text/plain": [
       "<Figure size 432x288 with 2 Axes>"
      ]
     },
     "metadata": {
      "needs_background": "light"
     },
     "output_type": "display_data"
    }
   ],
   "source": [
    "bernoulli_nb.fit(X_train,y_train)\n",
    "performance_metrics_calculation(X_test,y_test,bernoulli_nb)"
   ]
  },
  {
   "cell_type": "code",
   "execution_count": 20,
   "id": "9576cdff",
   "metadata": {},
   "outputs": [
    {
     "name": "stdout",
     "output_type": "stream",
     "text": [
      "Accuracy : 0.7914856646394439\n",
      "-----------------------------------------------\n",
      "Classification Report: \n",
      "\n",
      "               precision    recall  f1-score   support\n",
      "\n",
      "           0       0.81      0.85      0.83       676\n",
      "           1       0.77      0.71      0.74       475\n",
      "\n",
      "    accuracy                           0.79      1151\n",
      "   macro avg       0.79      0.78      0.78      1151\n",
      "weighted avg       0.79      0.79      0.79      1151\n",
      "\n",
      "-----------------------------------------------\n",
      "Confusion Matrix :\n"
     ]
    },
    {
     "data": {
      "image/png": "[encoded data removed]",
      "text/plain": [
       "<Figure size 432x288 with 2 Axes>"
      ]
     },
     "metadata": {
      "needs_background": "light"
     },
     "output_type": "display_data"
    }
   ],
   "source": [
    "multinomial_nb.fit(X_train,y_train)\n",
    "performance_metrics_calculation(X_test,y_test,multinomial_nb)"
   ]
  },
  {
   "cell_type": "code",
   "execution_count": 21,
   "id": "29b6a312",
   "metadata": {},
   "outputs": [
    {
     "name": "stdout",
     "output_type": "stream",
     "text": [
      "Accuracy : 0.8271068635968722\n",
      "-----------------------------------------------\n",
      "Classification Report: \n",
      "\n",
      "               precision    recall  f1-score   support\n",
      "\n",
      "           0       0.95      0.74      0.83       676\n",
      "           1       0.72      0.95      0.82       475\n",
      "\n",
      "    accuracy                           0.83      1151\n",
      "   macro avg       0.84      0.84      0.83      1151\n",
      "weighted avg       0.86      0.83      0.83      1151\n",
      "\n",
      "-----------------------------------------------\n",
      "Confusion Matrix :\n"
     ]
    },
    {
     "data": {
      "image/png": "[encoded data removed]",
      "text/plain": [
       "<Figure size 432x288 with 2 Axes>"
      ]
     },
     "metadata": {
      "needs_background": "light"
     },
     "output_type": "display_data"
    }
   ],
   "source": [
    "gaussian_nb.fit(X_train,y_train)\n",
    "performance_metrics_calculation(X_test,y_test,gaussian_nb)"
   ]
  },
  {
   "cell_type": "markdown",
   "id": "34516c81",
   "metadata": {},
   "source": [
    "### Obervation :\n",
    "* From the comparison of various Naive Bayes algorithms we found out that Bernoulli NB is the best performing compared to Multinomial and Guassian NB.\n",
    "* The accuracy of the Bernoulli NB,Multinomial and Guassian NB after applying 10 fold cross validation is 88.39 , 78.63 and 82.17 respectively"
   ]
  },
  {
   "cell_type": "markdown",
   "id": "aab88c84",
   "metadata": {},
   "source": [
    "### Limitation of Naive Bayes:\n",
    "\n",
    "\n",
    "1. Assumption of Independence: Naive Bayes assumes that all features are conditionally independent given the class label. In reality, this independence assumption may not hold, and features might be correlated. This can lead to suboptimal results, especially when dealing with complex data.\n",
    "\n",
    "\n",
    "2. Sensitivity to Feature Distribution: Naive Bayes methods, especially Gaussian Naive Bayes, assume that features follow specific probability distributions (e.g., Gaussian, Bernoulli, or Multinomial). If this assumption doesn't match the actual data distribution, the model's performance can be negatively affected.\n",
    "\n",
    "\n",
    "3. Difficulty with Continuous Features: In practice, Gaussian Naive Bayes can struggle with continuous features because it assumes a Gaussian distribution for each feature. If the data doesn't follow this distribution, the model might not perform well.\n",
    "\n",
    "\n",
    "4. Zero Frequency Problem: In Multinomial Naive Bayes and Bernoulli Naive Bayes, if a feature-class combination has zero occurrences in the training data, it can lead to zero probabilities when applying Bayes' theorem. This issue can be addressed with smoothing techniques like Laplace smoothing.\n",
    "\n",
    "\n",
    "5. Data Imbalance: When dealing with imbalanced datasets (where one class significantly outnumbers another), Naive Bayes can be biased towards the majority class, as it assumes all classes are equally likely a priori.\n",
    "\n",
    "\n",
    "6. Lack of Feature Importance: Naive Bayes doesn't provide feature importance scores directly. Other algorithms like decision trees or gradient boosting models can offer more insights into which features are most influential in making predictions.\n",
    "\n",
    "\n",
    "7. Sensitive to Irrelevant Features: Naive Bayes can be sensitive to irrelevant features in the dataset. Even though it assumes independence, irrelevant features can still affect the model's performance.\n",
    "\n",
    "\n",
    "8. Difficulty Handling Missing Data: Naive Bayes doesn't handle missing data well, especially in the Gaussian variant, which relies on estimating mean and variance. Missing data can lead to incorrect probability estimates.\n",
    "\n",
    "\n",
    "9. Limited Support for Text Data: While Multinomial Naive Bayes is commonly used for text classification, it doesn't capture the semantic meaning of words or the order of words in a document. More advanced techniques like word embeddings or deep learning are better suited for natural language processing tasks.\n",
    "\n",
    "\n",
    "* Despite these limitations, Naive Bayes can still be a valuable and computationally efficient choice for certain types of classification problems, especially when the independence assumption aligns with the data and the dataset is not too complex."
   ]
  }
 ],
 "metadata": {
  "kernelspec": {
   "display_name": "Python 3 (ipykernel)",
   "language": "python",
   "name": "python3"
  },
  "language_info": {
   "codemirror_mode": {
    "name": "ipython",
    "version": 3
   },
   "file_extension": ".py",
   "mimetype": "text/x-python",
   "name": "python",
   "nbconvert_exporter": "python",
   "pygments_lexer": "ipython3",
   "version": "3.9.7"
  }
 },
 "nbformat": 4,
 "nbformat_minor": 5
}
