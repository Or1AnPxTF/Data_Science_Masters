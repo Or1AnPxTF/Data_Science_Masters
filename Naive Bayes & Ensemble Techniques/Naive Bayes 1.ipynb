{
 "cells": [
  {
   "cell_type": "markdown",
   "id": "0c2348c5",
   "metadata": {},
   "source": [
    "### Q1. What is Bayes' theorem?"
   ]
  },
  {
   "cell_type": "markdown",
   "id": "efdfdb81",
   "metadata": {},
   "source": [
    "Ans) Bayes' theorem is a fundamental concept in probability theory and statistics that provides a framework for updating probability beliefs or estimates based on new evidence or information. It's named after the 18th-century statistician and philosopher Thomas Bayes.\n",
    "\n",
    "The core idea of Bayes' theorem is to calculate the probability of an event (A) occurring given that another event (B) has occurred.\n",
    "\n",
    "This conditional probability, denoted as P(A|B), is calculated using the following formula:\n",
    "\n",
    "P(A|B) = (P(B|A) * P(A)) / P(B)\n",
    "\n",
    "Where:\n",
    "\n",
    "* P(A|B) represents the conditional probability of event A occurring given that event B has occurred.\n",
    "* P(B|A) is the conditional probability of event B occurring given that event A has occurred.\n",
    "* P(A) is the prior probability of event A occurring independently of any information about event B.\n",
    "* P(B) is the prior probability of event B occurring independently of any information about event A.\n",
    "\n",
    "Bayes' theorem allows us to update our belief or estimate of the probability of an event (A) occurring based on new evidence or information (B). It is commonly used in various fields, including machine learning, statistics, and data science, for tasks such as Bayesian inference, spam filtering, medical diagnosis, and more. Bayesian statistics, in particular, is a branch of statistics that relies heavily on Bayes' theorem to update probability distributions based on data and prior beliefs."
   ]
  },
  {
   "cell_type": "markdown",
   "id": "d5109230",
   "metadata": {},
   "source": [
    "### Q2. What is the formula for Bayes' theorem?"
   ]
  },
  {
   "cell_type": "markdown",
   "id": "3fc8ac63",
   "metadata": {},
   "source": [
    "P(A|B) = (P(B|A) * P(A)) / P(B)\n",
    "\n",
    "Where:\n",
    "\n",
    "* P(A|B) represents the conditional probability of event A occurring given that event B has occurred. This is the probability we want to calculate.\n",
    "* P(B|A) is the conditional probability of event B occurring given that event A has occurred.\n",
    "* P(A) is the prior probability of event A occurring independently of any information about event B.\n",
    "* P(B) is the prior probability of event B occurring independently of any information about event A."
   ]
  },
  {
   "cell_type": "markdown",
   "id": "39edf5f9",
   "metadata": {},
   "source": [
    "### Q3. How is Bayes' theorem used in practice?"
   ]
  },
  {
   "cell_type": "markdown",
   "id": "a632a2db",
   "metadata": {},
   "source": [
    "Say we have a set of independent features age,height and weight and overweight as the output feature,\n",
    "\n",
    "Here age,height and weight are independent feature and overweight is the dependent feature\n",
    "\n",
    "age   height   weight   overweight\n",
    "17     170       73         no\n",
    "21     165       91         yes\n",
    "28     178       88         yes\n",
    "42     160       60         no\n",
    "\n",
    "Now we have to find if the pearson is overweight or not based on age height and weight,\n",
    "\n",
    "Considering,\n",
    "\n",
    "Age,height and weight as x1,x2 amd x3 respectively and\n",
    "overweight as y\n",
    "By Using Bayes Theorem ,\n",
    "\n",
    "* P(y/(x1,x2,x3) = (P(y) * P(x1,x2,x3)/y ) / P(x1,x2,x3)\n",
    "* P(y/(x1,x2,x3) = [(P(y) * P(x1/y) * P(x2/y) * P(x3)/y ] / P(x1,x2,x3)\n",
    "* P(yes/(x1,x2,x3) = [(P(yes) * P(x1/yes) * P(x2/yes) * P(x3/yes) ] / P(x1,x2,x3)\n",
    "* P(no/(x1,x2,x3) = [(P(no) * P(x1/no) * P(x2/no) * P(x3/no) ] / P(x1,x2,x3)\n",
    "\n",
    "The Denominator P(x1,x2,x3) is contant and can be ignored in calculation\n",
    "\n",
    "##### Final Formula is ,\n",
    "\n",
    "P(yes/(x1,x2,x3) = (P(yes) * P(x1/yes) * P(x2/yes) * P(x3/yes)\n",
    "P(no/(x1,x2,x3) = (P(no) * P(x1/no) * P(x2/no) * P(x3/no)\n",
    "\n",
    "The one whose probabilty is the highest is considered the output."
   ]
  },
  {
   "cell_type": "markdown",
   "id": "f3dae343",
   "metadata": {},
   "source": [
    "### Q4. What is the relationship between Bayes' theorem and conditional probability?"
   ]
  },
  {
   "cell_type": "markdown",
   "id": "32ee2fca",
   "metadata": {},
   "source": [
    "Bayes' theorem is a mathematical formula that describes how to calculate conditional probabilities, and it provides a framework for updating probability beliefs based on new information or evidence.\n",
    "\n",
    "The relationship between Bayes' theorem and conditional probability is as follows:\n",
    "\n",
    "1. Conditional Probability: Conditional probability is a fundamental concept that deals with the probability of an event occurring given that another event has already occurred. It's denoted as P(A|B), which represents the probability of event A occurring given that event B has occurred.\n",
    "\n",
    "2. Bayes' Theorem: Bayes' theorem is a specific formula that allows you to calculate conditional probabilities. It relates the conditional probability P(A|B) to other probabilities, including the prior probability of A (P(A)), the prior probability of B (P(B)), and the likelihood of B given A (P(B|A)). The formula is as follows:\n",
    "\n",
    "* P(A|B) = (P(B|A) * P(A)) / P(B)\n",
    "\n",
    "P(A|B) is the conditional probability you want to calculate, and it's related to the other probabilities in the equation.\n",
    "Bayes' theorem is a mathematical tool for calculating conditional probabilities, and it formalizes the process of updating probability beliefs in light of new evidence. It's a fundamental concept in Bayesian probability and statistics, and it plays a crucial role in various applications, such as machine learning, and decision-making under uncertainty."
   ]
  },
  {
   "cell_type": "markdown",
   "id": "6d5f9a4a",
   "metadata": {},
   "source": [
    "### Q5. How do you choose which type of Naive Bayes classifier to use for any given problem?"
   ]
  },
  {
   "cell_type": "markdown",
   "id": "db7e84da",
   "metadata": {},
   "source": [
    "There are 3 Types of Naive Bayes classifiers :\n",
    "\n",
    "#### 1.Gaussian Naive Bayes (GNB):\n",
    "\n",
    "* Data Type: GNB is suitable for continuous or real-valued data.\n",
    "* Assumptions: It assumes that the features follow a Gaussian (normal) distribution.\n",
    "* Example Applications: GNB is often used for problems involving continuous features, such as spam detection (with word frequencies as features) or medical diagnosis (with physiological measurements).\n",
    "\n",
    "#### 2.Multinomial Naive Bayes (MNB):\n",
    "\n",
    "* Data Type: MNB is commonly used with discrete data, especially when dealing with text data.\n",
    "* Assumptions: It assumes that the features represent the counts or frequencies of events (e.g., word counts in text documents).\n",
    "* Example Applications: MNB is well-suited for text classification problems like sentiment analysis or document categorization, where features often represent word counts or term frequencies.\n",
    "\n",
    "#### 3.Bernoulli Naive Bayes (BNB):\n",
    "\n",
    "* Data Type: BNB is also used with discrete data, but it's tailored for binary features (i.e., features that are either present or absent).\n",
    "* Assumptions: It assumes that features are binary, where 1 represents the presence of a feature and 0 represents the absence.\n",
    "* Example Applications: BNB is commonly applied in text classification tasks where binary features indicate whether specific words appear in a document or not (e.g., spam or not spam classification based on the presence of certain words)."
   ]
  },
  {
   "cell_type": "markdown",
   "id": "51549c7b",
   "metadata": {},
   "source": [
    "### Q6. Assignment:You have a dataset with two features, X1 and X2, and two possible classes, A and B. You want to use NaiveBayes to classify a new instance with features X1 = 3 and X2 = 4. The following table shows the frequency of each feature value for each class:\n",
    "\n",
    "#####  Class X1=1 X1=2 X1=3 X2=1 X2=2 X2=3 X2=4\n",
    "##### A 3 3 4 4 3 3 3\n",
    "##### B 2 2 1 2 2 2 3\n",
    " \n",
    "### Assuming equal prior probabilities for each class, which class would Naive Bayes predict the new instance to belong to?"
   ]
  },
  {
   "cell_type": "markdown",
   "id": "ded8294a",
   "metadata": {},
   "source": [
    "Assuming equal prior probabilities for each class, which class would Naive Bayes predict the new instance to belong to?\n",
    "Let's denote:\n",
    "\n",
    "* P(A) as the prior probability of class A (given as equal to P(B) in this case because of equal prior probabilities for each class).\n",
    "  * P(X1 = 3 | A) as the conditional probability of observing X1 = 3 given class A.\n",
    "  * P(X2 = 4 | A) as the conditional probability of observing X2 = 4 given class A.\n",
    "  * P(X1 = 3 | B) as the conditional probability of observing X1 = 3 given class B.\n",
    "  * P(X2 = 4 | B) as the conditional probability of observing X2 = 4 given class B.\n",
    "\n",
    "You can calculate these conditional probabilities based on the provided frequency table:\n",
    "\n",
    "* P(X1 = 3 | A) = 4 / (4 + 3) = 4/7\n",
    "* P(X2 = 4 | A) = 3 / (4 + 3) = 3/7\n",
    "* P(X1 = 3 | B) = 1 / (1 + 2) = 1/3\n",
    "* P(X2 = 4 | B) = 3 / (2 + 2 + 3) = 3/7\n",
    "\n",
    "Now, you can use Naive Bayes to calculate the posterior probabilities for each class:\n",
    "\n",
    "#### For class A:\n",
    "\n",
    "P(A | X1 = 3, X2 = 4) = P(X1 = 3 | A) * P(X2 = 4 | A) * P(A)\n",
    "                                 = (4/7) * (3/7) * (1/2)\n",
    "                                  = 6/98\n",
    "                                  = 3/49\n",
    "                                  = 0.06122\n",
    "#### For class B:\n",
    "\n",
    "P(B | X1 = 3, X2 = 4) = P(X1 = 3 | B) * P(X2 = 4 | B) * P(B)\n",
    "                                 = (1/3) * (3/7) * (1/2)\n",
    "                                  = 1/14\n",
    "                                  = 0.07142\n",
    "The Probabilty of class Prediction is calculated as,\n",
    "\n",
    "P(A | X1 = 3, X2 = 4) = 0.06122 / (0.06122 + 0.07142)\n",
    "                                 = 0.4615 * 100\n",
    "                                 = 46.15%\n",
    "\n",
    "P(B | X1 = 3, X2 = 4) = 07142 / (0.06122 + 0.07142)\n",
    "                                 = 0.5384 * 100\n",
    "                                 = 53.84%\n",
    "\n",
    "#### Since Probability of Class B is 53.84 which is greater then Class A of 46.15 , Naive Bayes would predict that the new instance with features X1 = 3 and X2 = 4 belongs to class B."
   ]
  }
 ],
 "metadata": {
  "kernelspec": {
   "display_name": "Python 3 (ipykernel)",
   "language": "python",
   "name": "python3"
  },
  "language_info": {
   "codemirror_mode": {
    "name": "ipython",
    "version": 3
   },
   "file_extension": ".py",
   "mimetype": "text/x-python",
   "name": "python",
   "nbconvert_exporter": "python",
   "pygments_lexer": "ipython3",
   "version": "3.9.7"
  }
 },
 "nbformat": 4,
 "nbformat_minor": 5
}
