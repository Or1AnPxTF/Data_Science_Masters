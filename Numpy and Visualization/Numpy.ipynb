{
 "cells": [
  {
   "cell_type": "markdown",
   "id": "0e602b08",
   "metadata": {},
   "source": [
    "Consider the below code to answer further questions:  \n",
    "import numpy as np  \n",
    "list_ = [ ‘1’ , ’2’ , ‘3’ , ‘4’ , ‘5’ ]  \n",
    "array_list = np.array(object = list_)  "
   ]
  },
  {
   "cell_type": "markdown",
   "id": "88808ba5",
   "metadata": {},
   "source": [
    "### Q1. Is there any difference in the data type of variables list_ and array_list? If there is then write a code to print the data types of both the variables."
   ]
  },
  {
   "cell_type": "code",
   "execution_count": 17,
   "id": "95ebb86a",
   "metadata": {},
   "outputs": [],
   "source": [
    "import numpy as np\n",
    "list_ = [ '1' , '2' , '3' , '4' , '5' ]\n",
    "array_list = np.array(object = list_)"
   ]
  },
  {
   "cell_type": "code",
   "execution_count": 18,
   "id": "95776bd5",
   "metadata": {},
   "outputs": [
    {
     "name": "stdout",
     "output_type": "stream",
     "text": [
      "Type of list_ Variable :  <class 'list'>\n",
      "Type of array_list Variable :  <class 'numpy.ndarray'>\n",
      "Data Type of elements in array_list Variable :  <U1\n"
     ]
    }
   ],
   "source": [
    "print(\"Type of list_ Variable : \",type(list_))\n",
    "print(\"Type of array_list Variable : \",type(array_list))\n",
    "print(\"Data Type of elements in array_list Variable : \",array_list.dtype)"
   ]
  },
  {
   "cell_type": "markdown",
   "id": "51560459",
   "metadata": {},
   "source": [
    "### Q2. Write a code to print the data type of each and every element of both the variables list_ and array_list."
   ]
  },
  {
   "cell_type": "code",
   "execution_count": 19,
   "id": "019353eb",
   "metadata": {},
   "outputs": [
    {
     "name": "stdout",
     "output_type": "stream",
     "text": [
      "Type of list_ 1 Variable : <class 'str'>\n",
      "Type of list_ 2 Variable : <class 'str'>\n",
      "Type of list_ 3 Variable : <class 'str'>\n",
      "Type of list_ 4 Variable : <class 'str'>\n",
      "Type of list_ 5 Variable : <class 'str'>\n",
      "Type of array_list 1 Variable : <class 'numpy.str_'>\n",
      "Type of array_list 2 Variable : <class 'numpy.str_'>\n",
      "Type of array_list 3 Variable : <class 'numpy.str_'>\n",
      "Type of array_list 4 Variable : <class 'numpy.str_'>\n",
      "Type of array_list 5 Variable : <class 'numpy.str_'>\n"
     ]
    }
   ],
   "source": [
    "for i in list_:\n",
    "    print(f\"Type of list_ {i} Variable : {type(i)}\")\n",
    "    \n",
    "for j in array_list:\n",
    "    print(f\"Type of array_list {j} Variable : {type(j)}\")"
   ]
  },
  {
   "cell_type": "markdown",
   "id": "2c110e6b",
   "metadata": {},
   "source": [
    "### Q3. Considering the following changes in the variable, array_list: array_list = np.array(object = list_, dtype = int) Will there be any difference in the data type of the elements present in both the variables, list_ and array_list? If so then print the data types of each and every element present in both the variables, list_ and array_list."
   ]
  },
  {
   "cell_type": "markdown",
   "id": "c54ab056",
   "metadata": {},
   "source": [
    "Ans) list_ contains strings like '1', '2' → so its elements are of type str.  \n",
    "\n",
    "After converting array_list using dtype=int, each element becomes an integer, stored as a NumPy integer type (e.g., numpy.int64)."
   ]
  },
  {
   "cell_type": "code",
   "execution_count": 20,
   "id": "489576be",
   "metadata": {},
   "outputs": [
    {
     "name": "stdout",
     "output_type": "stream",
     "text": [
      "Data types of elements in list_:\n",
      "1: <class 'str'>\n",
      "2: <class 'str'>\n",
      "3: <class 'str'>\n",
      "4: <class 'str'>\n",
      "5: <class 'str'>\n",
      "\n",
      "Data types of elements in array_list:\n",
      "1: <class 'numpy.int32'>\n",
      "2: <class 'numpy.int32'>\n",
      "3: <class 'numpy.int32'>\n",
      "4: <class 'numpy.int32'>\n",
      "5: <class 'numpy.int32'>\n"
     ]
    }
   ],
   "source": [
    "import numpy as np\n",
    "\n",
    "list_ = ['1', '2', '3', '4', '5']\n",
    "array_list = np.array(object=list_, dtype=int)\n",
    "\n",
    "print(\"Data types of elements in list_:\")\n",
    "for item in list_:\n",
    "    print(f\"{item}: {type(item)}\")\n",
    "\n",
    "print(\"\\nData types of elements in array_list:\")\n",
    "for item in array_list:\n",
    "    print(f\"{item}: {type(item)}\")\n"
   ]
  },
  {
   "cell_type": "code",
   "execution_count": 21,
   "id": "29c25d6c",
   "metadata": {},
   "outputs": [],
   "source": [
    "import numpy as np  \n",
    "num_list = [ [ 1 , 2 , 3 ] , [ 4 , 5 , 6 ] ]  \n",
    "num_array = np.array(object = num_list)  "
   ]
  },
  {
   "cell_type": "markdown",
   "id": "837c5ca3",
   "metadata": {},
   "source": [
    "### Q4. Write a code to find the following characteristics of variable, num_array:   \n",
    "(i) shape  \n",
    "(ii) size"
   ]
  },
  {
   "cell_type": "markdown",
   "id": "b4997c9b",
   "metadata": {},
   "source": [
    "Ans)**shape attribute:**  \n",
    "The shape attribute of a NumPy array returns a tuple representing the dimensions of the array.   \n",
    "It provides the number of elements along each axis (dimension) of the array.  \n",
    "The length of the shape tuple corresponds to the number of dimensions (axes) of the array.  \n",
    "The shape attribute is helpful in understanding the structure and dimensions of multi-dimensional arrays.  \n",
    "The shape attribute can be accessed using the .shape notation.  \n",
    "\n",
    "**size attribute:**  \n",
    "The size attribute of a NumPy array returns the total number of elements present in the array.  \n",
    "It represents the total size or length of the array when considering all its dimensions.  \n",
    "The size attribute is similar to the len() function used for Python lists, but it works on multi-dimensional arrays as well.  \n",
    "It is a scalar value (integer) representing the total count of elements in the array.  \n",
    "The size attribute can be accessed using the .size notation.   "
   ]
  },
  {
   "cell_type": "code",
   "execution_count": 22,
   "id": "d0fbe681",
   "metadata": {},
   "outputs": [
    {
     "data": {
      "text/plain": [
       "array([[1, 2, 3],\n",
       "       [4, 5, 6]])"
      ]
     },
     "execution_count": 22,
     "metadata": {},
     "output_type": "execute_result"
    }
   ],
   "source": [
    "num_array"
   ]
  },
  {
   "cell_type": "code",
   "execution_count": 23,
   "id": "efc0378a",
   "metadata": {},
   "outputs": [
    {
     "data": {
      "text/plain": [
       "(2, 3)"
      ]
     },
     "execution_count": 23,
     "metadata": {},
     "output_type": "execute_result"
    }
   ],
   "source": [
    "num_array.shape"
   ]
  },
  {
   "cell_type": "code",
   "execution_count": 24,
   "id": "dde6639c",
   "metadata": {},
   "outputs": [
    {
     "data": {
      "text/plain": [
       "6"
      ]
     },
     "execution_count": 24,
     "metadata": {},
     "output_type": "execute_result"
    }
   ],
   "source": [
    "num_array.size"
   ]
  },
  {
   "cell_type": "markdown",
   "id": "20ec1b55",
   "metadata": {},
   "source": [
    "### Q5. Write a code to create numpy array of 3*3 matrix containing zeros only, using a numpy array creation function.\n",
    "[Hint: The size of the array will be 9 and the shape will be (3,3).]\n"
   ]
  },
  {
   "cell_type": "markdown",
   "id": "96dda2cb",
   "metadata": {},
   "source": [
    "**np.zeros()**  is a function used to create an array filled with zeros.\n",
    "The function allows you to specify the shape and data type of the array you want to create.\n",
    "It is particularly useful when you want to initialize an array with all elements set to zero."
   ]
  },
  {
   "cell_type": "code",
   "execution_count": 25,
   "id": "fd46ae16",
   "metadata": {},
   "outputs": [
    {
     "data": {
      "text/plain": [
       "array([[0., 0., 0.],\n",
       "       [0., 0., 0.],\n",
       "       [0., 0., 0.]])"
      ]
     },
     "execution_count": 25,
     "metadata": {},
     "output_type": "execute_result"
    }
   ],
   "source": [
    "arr = np.zeros((3,3))\n",
    "arr"
   ]
  },
  {
   "cell_type": "code",
   "execution_count": 26,
   "id": "c6807af4",
   "metadata": {},
   "outputs": [
    {
     "data": {
      "text/plain": [
       "(3, 3)"
      ]
     },
     "execution_count": 26,
     "metadata": {},
     "output_type": "execute_result"
    }
   ],
   "source": [
    "arr.size\n",
    "arr.shape"
   ]
  },
  {
   "cell_type": "markdown",
   "id": "688bfc14",
   "metadata": {},
   "source": [
    "### Q6. Create an identity matrix of shape (5,5) using numpy functions?\n",
    "[Hint: An identity matrix is a matrix containing 1 diagonally and other elements will be 0.]"
   ]
  },
  {
   "cell_type": "markdown",
   "id": "28f61e6c",
   "metadata": {},
   "source": [
    "**np.eye()** is a function used to create an identity matrix, which is a square matrix with ones on the main diagonal (from the top-left to the bottom-right) and zeros elsewhere.\n",
    "The identity matrix is denoted by \"I\" or \"𝐈\" and has a unique property that when multiplied with any other matrix, it leaves the other matrix unchanged"
   ]
  },
  {
   "cell_type": "code",
   "execution_count": 27,
   "id": "a5e475c5",
   "metadata": {},
   "outputs": [
    {
     "data": {
      "text/plain": [
       "array([[1., 0., 0., 0., 0.],\n",
       "       [0., 1., 0., 0., 0.],\n",
       "       [0., 0., 1., 0., 0.],\n",
       "       [0., 0., 0., 1., 0.],\n",
       "       [0., 0., 0., 0., 1.]])"
      ]
     },
     "execution_count": 27,
     "metadata": {},
     "output_type": "execute_result"
    }
   ],
   "source": [
    "arr1 = np.eye(5)\n",
    "arr1"
   ]
  },
  {
   "cell_type": "code",
   "execution_count": 28,
   "id": "cca9e2b3",
   "metadata": {},
   "outputs": [
    {
     "data": {
      "text/plain": [
       "(5, 5)"
      ]
     },
     "execution_count": 28,
     "metadata": {},
     "output_type": "execute_result"
    }
   ],
   "source": [
    "arr1.shape"
   ]
  },
  {
   "cell_type": "code",
   "execution_count": 29,
   "id": "ac69187f",
   "metadata": {},
   "outputs": [
    {
     "data": {
      "text/plain": [
       "25"
      ]
     },
     "execution_count": 29,
     "metadata": {},
     "output_type": "execute_result"
    }
   ],
   "source": [
    "arr1.size"
   ]
  }
 ],
 "metadata": {
  "kernelspec": {
   "display_name": "Python 3 (ipykernel)",
   "language": "python",
   "name": "python3"
  },
  "language_info": {
   "codemirror_mode": {
    "name": "ipython",
    "version": 3
   },
   "file_extension": ".py",
   "mimetype": "text/x-python",
   "name": "python",
   "nbconvert_exporter": "python",
   "pygments_lexer": "ipython3",
   "version": "3.9.7"
  }
 },
 "nbformat": 4,
 "nbformat_minor": 5
}
