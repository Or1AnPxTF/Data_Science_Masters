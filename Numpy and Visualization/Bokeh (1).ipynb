{
  "nbformat": 4,
  "nbformat_minor": 0,
  "metadata": {
    "colab": {
      "provenance": []
    },
    "kernelspec": {
      "name": "python3",
      "display_name": "Python 3"
    },
    "language_info": {
      "name": "python"
    }
  },
  "cells": [
    {
      "cell_type": "markdown",
      "source": [
        "Q1. How can you create a Bokeh plot using Python code?"
      ],
      "metadata": {
        "id": "YoD9KDROymNO"
      }
    },
    {
      "cell_type": "code",
      "execution_count": 1,
      "metadata": {
        "id": "KuYOphUQygIF"
      },
      "outputs": [],
      "source": [
        "import bokeh.io\n",
        "import bokeh.plotting"
      ]
    },
    {
      "cell_type": "code",
      "source": [
        "from bokeh.plotting import figure, show\n",
        "from bokeh.io import output_file\n",
        "\n",
        "# Output to an HTML file\n",
        "output_file(\"bokeh_line_plot.html\")\n",
        "\n",
        "# Create a new plot with title and axis labels\n",
        "p = figure(title=\"Simple Line Plot\", x_axis_label='X-axis', y_axis_label='Y-axis')\n",
        "\n",
        "# Sample data\n",
        "x = [1, 2, 3, 4, 5]\n",
        "y = [6, 7, 2, 4, 5]\n",
        "\n",
        "# Add a line renderer with legend and line thickness\n",
        "p.line(x, y, legend_label=\"Line\", line_width=2)\n",
        "\n",
        "# Show the plot\n",
        "show(p)"
      ],
      "metadata": {
        "id": "XEyQoEHuzXBx"
      },
      "execution_count": 6,
      "outputs": []
    },
    {
      "cell_type": "markdown",
      "source": [
        "Q2. What are glyphs in Bokeh, and how can you add them to a Bokeh plot? Explain with an example."
      ],
      "metadata": {
        "id": "2T9_YNFKymQI"
      }
    },
    {
      "cell_type": "markdown",
      "source": [
        "In Bokeh, glyphs are the visual shapes or marks used to represent data on a plot.\n",
        "Think of glyphs as the building blocks of a visualization — like lines, circles, bars, or rectangles.\n",
        "\n",
        "Each glyph method (e.g. circle(), line(), bar()) adds a different shape to the figure."
      ],
      "metadata": {
        "id": "8bNRleSs0eyu"
      }
    },
    {
      "cell_type": "code",
      "source": [
        "from bokeh.plotting import figure, show\n",
        "from bokeh.io import output_file\n",
        "\n",
        "\n",
        "x = [1, 2, 3, 4, 5]\n",
        "y = [6, 7, 2, 4, 5]\n",
        "\n",
        "\n",
        "output_file(\"scatter_plot.html\")\n",
        "\n",
        "# Create a figure object\n",
        "p = figure(title=\"Scatter Plot\", x_axis_label=\"X-axis\", y_axis_label=\"Y-axis\")\n",
        "\n",
        "# Add glyphs (circles) to the plot\n",
        "p.circle(x, y, size=10, color=\"blue\", alpha=0.5)\n",
        "\n",
        "\n",
        "show(p)\n"
      ],
      "metadata": {
        "colab": {
          "base_uri": "https://localhost:8080/"
        },
        "id": "rhmBCOA9zCv9",
        "outputId": "679989cd-ad14-49ad-a3a3-615773495bd6"
      },
      "execution_count": 8,
      "outputs": [
        {
          "output_type": "stream",
          "name": "stderr",
          "text": [
            "BokehDeprecationWarning: 'circle() method with size value' was deprecated in Bokeh 3.4.0 and will be removed, use 'scatter(size=...) instead' instead.\n"
          ]
        }
      ]
    },
    {
      "cell_type": "markdown",
      "source": [
        "Q3. How can you customize the appearance of a Bokeh plot, including the axes, title, and legend?"
      ],
      "metadata": {
        "id": "UNA_vQIuymTb"
      }
    },
    {
      "cell_type": "markdown",
      "source": [
        "You can customize the appearance of a Bokeh plot, including the axes, title, and legend, by using various methods and properties provided by the Bokeh library.\n",
        "\n",
        "*Customizing Axes*:\n",
        "Set axis labels: Use the x_axis_label and y_axis_label properties of the figure object to set labels for the x-axis and y-axis, respectively.\n",
        "Set axis limits: Use the x_range and y_range properties to manually set the range of values displayed on the x-axis and y-axis, respectively.\n",
        "Set tick labels and formatting: Use the xaxis and yaxis attributes of the figure object to access the axis objects and customize the tick labels, formatting, and other properties.\n",
        "\n",
        "*Customizing Title*: Set plot title: Use the title property of the figure object to set the title of the plot.\n",
        "\n",
        "*Customizing Legend*:\n",
        "Add legend: Use the legend attribute of the glyph functions (circle, line, etc.) to add a legend to the plot. Provide a meaningful legend label to identify the glyph.\n",
        "Customize legend appearance: Use the legend attribute of the figure object to access the legend object and customize its appearance, such as position, background color, border, and font properties."
      ],
      "metadata": {
        "id": "Yp-RJAmv1Jpb"
      }
    },
    {
      "cell_type": "code",
      "source": [
        "from bokeh.plotting import figure, show\n",
        "from bokeh.io import output_file\n",
        "\n",
        "output_file(\"bokeh_customized_plot.html\")\n",
        "\n",
        "p = figure(title=\"My Plot\", x_axis_label=\"X\", y_axis_label=\"Y\")\n",
        "\n",
        "x = [1, 2, 3, 4, 5]\n",
        "y = [6, 7, 2, 4, 5]\n",
        "\n",
        "p.line(x, y, legend_label=\"Sample Line\", line_width=2, color=\"blue\")\n",
        "p.circle(x, y, size=8, color=\"red\", legend_label=\"Points\")\n",
        "\n",
        "# Customizing title\n",
        "p.title.text_color = \"darkred\"\n",
        "p.title.text_font_size = \"20pt\"\n",
        "p.title.align = \"center\"\n",
        "\n",
        "# Customizing axes\n",
        "p.xaxis.axis_label_text_color = \"green\"\n",
        "p.yaxis.axis_label_text_font_size = \"14pt\"\n",
        "p.xaxis.major_label_text_color = \"purple\"\n",
        "p.yaxis.major_label_text_font_style = \"bold\"\n",
        "\n",
        "# Customizing legend\n",
        "p.legend.location = \"top_left\"\n",
        "p.legend.background_fill_color = \"lightyellow\"\n",
        "p.legend.title = \"Legend Title\"\n",
        "\n",
        "show(p)"
      ],
      "metadata": {
        "colab": {
          "base_uri": "https://localhost:8080/"
        },
        "id": "gwYq5fSIzCOm",
        "outputId": "59d5540b-5f98-444a-9c53-bfcf8ab113c3"
      },
      "execution_count": 10,
      "outputs": [
        {
          "output_type": "stream",
          "name": "stderr",
          "text": [
            "BokehDeprecationWarning: 'circle() method with size value' was deprecated in Bokeh 3.4.0 and will be removed, use 'scatter(size=...) instead' instead.\n"
          ]
        }
      ]
    },
    {
      "cell_type": "markdown",
      "source": [
        "Q4. What is a Bokeh server, and how can you use it to create interactive plots that can be updated in\n",
        "real time?"
      ],
      "metadata": {
        "id": "5RnXkvz9ymZq"
      }
    },
    {
      "cell_type": "markdown",
      "source": [
        "The *Bokeh server* is a powerful feature that lets you build interactive, live-updating, and Python-backed web applications — all in real time.\n",
        "\n",
        "**It allows:**\n",
        "\n",
        "Python code to run continuously in the background.\n",
        "\n",
        "The browser (frontend) and Python (backend) to communicate live.\n",
        "\n",
        "Widgets (like sliders, dropdowns) to update plots dynamically without reloading the page.\n",
        "\n",
        "**Why Use It?**\n",
        "\n",
        "Use Bokeh Server when:\n",
        "\n",
        "You want real-time interaction\n",
        "\n",
        "You're using widgets (sliders, checkboxes, dropdowns)\n",
        "\n",
        "You want Python logic to run on user input\n",
        "\n",
        "You're handling live data streams\n",
        "\n"
      ],
      "metadata": {
        "id": "zUqGIZdl10B-"
      }
    },
    {
      "cell_type": "code",
      "source": [
        "from bokeh.io import curdoc\n",
        "from bokeh.layouts import column\n",
        "from bokeh.models import Slider\n",
        "from bokeh.plotting import figure\n",
        "\n",
        "# Create a figure\n",
        "plot = figure(title=\"Interactive Bokeh Server Plot\")\n",
        "x = [i for i in range(10)]\n",
        "y = [i**2 for i in x]\n",
        "line = plot.line(x, y, line_width=2)\n",
        "\n",
        "# Add a slider widget\n",
        "slider = Slider(start=0, end=10, value=1, step=0.1, title=\"Scale\")\n",
        "\n",
        "# Update function\n",
        "def update(attr, old, new):\n",
        "    scale = slider.value\n",
        "    new_y = [scale * (i**2) for i in x]\n",
        "    line.data_source.data['y'] = new_y\n",
        "\n",
        "# Attach update function to slider\n",
        "slider.on_change('value', update)\n",
        "\n",
        "# Add to document\n",
        "curdoc().add_root(column(slider, plot))\n"
      ],
      "metadata": {
        "id": "D2zy9QyRy1xe"
      },
      "execution_count": 11,
      "outputs": []
    },
    {
      "cell_type": "markdown",
      "source": [
        "Q5. How can you embed a Bokeh plot into a web page or dashboard using Flask or Django?"
      ],
      "metadata": {
        "id": "lPxFt56oyqsi"
      }
    },
    {
      "cell_type": "markdown",
      "source": [
        "Both Flask and Django are popular Python web frameworks that allow you to integrate Bokeh plots into a web page or dashboard. The process involves generating the Bokeh plot and embedding it in the HTML served by the web framework."
      ],
      "metadata": {
        "id": "9McDdLyo2pGX"
      }
    },
    {
      "cell_type": "markdown",
      "source": [
        "To embed a **Bokeh plot** into a web page or dashboard using Flask or Django, you'll need to follow these steps:\n",
        "\n",
        "***Install Required Packages***: First, make sure you have both Flask/Django and Bokeh installed. You can do this via pip install flask bokeh for Flask or pip install django bokeh for Django.\n",
        "\n",
        "***Create a Web Application***:\n",
        "\n",
        "For Flask, create a basic Flask app that serves an HTML page. In the Flask route, generate your Bokeh plot and use the components() function from Bokeh to generate the JavaScript and HTML elements needed for embedding the plot.\n",
        "\n",
        "For Django, create a Django app and define a view that generates the Bokeh plot. Use the components() function to split the plot into script and div, which can then be passed to a Django template and rendered within the HTML.\n",
        "\n",
        "***Create HTML Templates***: In both cases, create an HTML template where you can embed the script and div generated by the Bokeh plot. This will render the plot in the browser when the page is accessed.\n",
        "\n",
        "***Run the Application***: For Flask, you will use bokeh serve to run the app, and for Django, simply run the Django development server. Once the server is running, visit localhost to see the Bokeh plot displayed on your web page."
      ],
      "metadata": {
        "id": "EwxSxZOU3X2F"
      }
    }
  ]
}