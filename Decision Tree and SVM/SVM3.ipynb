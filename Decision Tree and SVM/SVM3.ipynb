{
 "cells": [
  {
   "cell_type": "markdown",
   "id": "c25eb6e3",
   "metadata": {},
   "source": [
    "### Q1. In order to predict house price based on several characteristics, such as location, square footage, number of bedrooms, etc., you are developing an SVM regression model. Which regression metric in this situation would be the best to employ?"
   ]
  },
  {
   "cell_type": "markdown",
   "id": "f9ff599d",
   "metadata": {},
   "source": [
    "### Root Mean Squared Error (RMSE)\n",
    "\n",
    "##### Reason:\n",
    "\n",
    "House price prediction is a continuous regression problem.\n",
    "\n",
    "RMSE penalizes large errors more heavily because it squares the errors.\n",
    "\n",
    "In housing prices, large prediction errors (like predicting ₹50 lakh instead of ₹1 crore) are very costly — so RMSE highlights and punishes these mistakes.\n",
    "\n",
    "RMSE is interpretable in the same units as the target variable (price in your case), which makes it easy to understand how \"off\" the model is.\n",
    "\n",
    "#### Other metrics \n",
    "\n",
    "* MAE (Mean Absolute Error) — more robust to outliers but doesn't punish large errors as much.\n",
    "\n",
    "* R² score (Coefficient of Determination) — tells you how much of the variance your model explains (higher is better)."
   ]
  },
  {
   "cell_type": "markdown",
   "id": "0ecc6dcb",
   "metadata": {},
   "source": [
    "### Q2. You have built an SVM regression model and are trying to decide between using MSE or R-squared as your evaluation metric. Which metric would be more appropriate if your goal is to predict the actual price of a house as accurately as possible?"
   ]
  },
  {
   "cell_type": "markdown",
   "id": "47630dc2",
   "metadata": {},
   "source": [
    "#### Goal is to predict the actual price of a house as accurately as possible, then Mean Squared Error (MSE) would be more appropriate than R-squared.\n",
    "\n",
    "**MSE (Mean Squared Error)** directly measures the average squared difference between the predicted and actual house prices.\n",
    "\n",
    "It focuses on how far off your predictions are in absolute terms, which is exactly what you want when the price itself is important.\n",
    "\n",
    "Lower MSE means your predictions are closer to the real house prices.\n",
    "\n",
    "#### In contrast:\n",
    "\n",
    "R² score only tells you how well your model explains the variance in the data.\n",
    "\n",
    "A high R² does not necessarily mean that the predictions are very close to the true values — it just means the model captures trends well."
   ]
  },
  {
   "cell_type": "markdown",
   "id": "84c2db12",
   "metadata": {},
   "source": [
    "### Q3. You have a dataset with a significant number of outliers and are trying to select an appropriate regression metric to use with your SVM model. Which metric would be the most appropriate in this scenario?"
   ]
  },
  {
   "cell_type": "markdown",
   "id": "0128744b",
   "metadata": {},
   "source": [
    "In a dataset with a significant number of outliers, the most appropriate regression metric to use would be:\n",
    "\n",
    "**Mean Absolute Error (MAE)**\n",
    "\n",
    "Reasons:\n",
    "\n",
    "* MAE measures the average of the absolute errors (without squaring them).\n",
    "\n",
    "* Unlike MSE, MAE does not heavily penalize large errors (caused by outliers).\n",
    "\n",
    "* This makes MAE more robust and less sensitive to extreme outlier values.\n",
    "\n",
    "As a result, your model evaluation will be fairer and not dominated by just a few bad points."
   ]
  },
  {
   "cell_type": "markdown",
   "id": "46eb8f94",
   "metadata": {},
   "source": [
    "### Q4. You have built an SVM regression model using a polynomial kernel and are trying to select the best metric to evaluate its performance. You have calculated both MSE and RMSE and found that both values are very close. Which metric should you choose to use in this case?"
   ]
  },
  {
   "cell_type": "markdown",
   "id": "c6259929",
   "metadata": {},
   "source": [
    "#### If I have calculated both MSE and RMSE and they are very close,then I will  prefer using RMSE.\n",
    "\n",
    "**Reasons:**\n",
    "\n",
    "* RMSE (Root Mean Squared Error) is simply the square root of MSE.\n",
    "\n",
    "* RMSE has the same units as the target variable (like house price in dollars, square footage, etc.), while MSE is in squared units, which is harder to interpret.\n",
    "\n",
    "* Because of this, RMSE is easier to understand and explain to others — it tells you \"on average, how much error\" you have in the same scale as your predictions."
   ]
  },
  {
   "cell_type": "markdown",
   "id": "00a342dd",
   "metadata": {},
   "source": [
    "### Q5. You are comparing the performance of different SVM regression models using different kernels (linear, polynomial, and RBF) and are trying to select the best evaluation metric. Which metric would be most appropriate if your goal is to measure how well the model explains the variance in the target variable?"
   ]
  },
  {
   "cell_type": "markdown",
   "id": "8bab650b",
   "metadata": {},
   "source": [
    "Goal is to measure how well the model explains the variance in the target variable, the most appropriate evaluation metric is:\n",
    "\n",
    "#### R-squared (R² Score)\n",
    "\n",
    "Reasons:\n",
    "\n",
    "* R² tells you the proportion of variance in the dependent (target) variable that is predictable from the independent variables (features).\n",
    "\n",
    "* It gives a clear idea of how well your model captures the overall patterns in the data.\n",
    "\n",
    "* R² ranges from:   \n",
    "\n",
    "1 → Perfect fit (explains all variance)  \n",
    "\n",
    "0 → No better than a constant mean predictor  \n",
    "\n",
    "* Can even be negative if the model fits worse than a horizontal line.\n",
    "\n"
   ]
  }
 ],
 "metadata": {
  "kernelspec": {
   "display_name": "Python 3 (ipykernel)",
   "language": "python",
   "name": "python3"
  },
  "language_info": {
   "codemirror_mode": {
    "name": "ipython",
    "version": 3
   },
   "file_extension": ".py",
   "mimetype": "text/x-python",
   "name": "python",
   "nbconvert_exporter": "python",
   "pygments_lexer": "ipython3",
   "version": "3.9.7"
  }
 },
 "nbformat": 4,
 "nbformat_minor": 5
}
