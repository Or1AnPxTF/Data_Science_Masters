{
 "cells": [
  {
   "cell_type": "markdown",
   "id": "42651973",
   "metadata": {},
   "source": [
    "#### Consider following code to answer further questions:   \n",
    "import pandas as pd  \n",
    "course_name = [‘Data Science’, ‘Machine Learning’, ‘Big Data’, ‘Data Engineer’]   \n",
    "duration = [2,3,6,4]  \n",
    "df = pd.DataFrame(data = {‘course_name’ : course_name, ‘duration’ : duration}) "
   ]
  },
  {
   "cell_type": "markdown",
   "id": "740e77cc",
   "metadata": {},
   "source": [
    "### Q1. Write a code to print the data present in the second row of the dataframe, df."
   ]
  },
  {
   "cell_type": "code",
   "execution_count": 1,
   "id": "11ba1139",
   "metadata": {},
   "outputs": [
    {
     "data": {
      "text/html": [
       "<div>\n",
       "<style scoped>\n",
       "    .dataframe tbody tr th:only-of-type {\n",
       "        vertical-align: middle;\n",
       "    }\n",
       "\n",
       "    .dataframe tbody tr th {\n",
       "        vertical-align: top;\n",
       "    }\n",
       "\n",
       "    .dataframe thead th {\n",
       "        text-align: right;\n",
       "    }\n",
       "</style>\n",
       "<table border=\"1\" class=\"dataframe\">\n",
       "  <thead>\n",
       "    <tr style=\"text-align: right;\">\n",
       "      <th></th>\n",
       "      <th>course_name</th>\n",
       "      <th>duration</th>\n",
       "    </tr>\n",
       "  </thead>\n",
       "  <tbody>\n",
       "    <tr>\n",
       "      <th>0</th>\n",
       "      <td>Data Science</td>\n",
       "      <td>2</td>\n",
       "    </tr>\n",
       "    <tr>\n",
       "      <th>1</th>\n",
       "      <td>Machine Learning</td>\n",
       "      <td>3</td>\n",
       "    </tr>\n",
       "    <tr>\n",
       "      <th>2</th>\n",
       "      <td>Big Data</td>\n",
       "      <td>6</td>\n",
       "    </tr>\n",
       "    <tr>\n",
       "      <th>3</th>\n",
       "      <td>Data Engineer</td>\n",
       "      <td>4</td>\n",
       "    </tr>\n",
       "  </tbody>\n",
       "</table>\n",
       "</div>"
      ],
      "text/plain": [
       "        course_name  duration\n",
       "0      Data Science         2\n",
       "1  Machine Learning         3\n",
       "2          Big Data         6\n",
       "3     Data Engineer         4"
      ]
     },
     "execution_count": 1,
     "metadata": {},
     "output_type": "execute_result"
    }
   ],
   "source": [
    "import pandas as pd\n",
    "course_name = [\"Data Science\", \"Machine Learning\", \"Big Data\", \"Data Engineer\"]\n",
    "duration = [2,3,6,4]\n",
    "data = {\"course_name\" : course_name, \"duration\" : duration}\n",
    "df = pd.DataFrame(data)\n",
    "df"
   ]
  },
  {
   "cell_type": "code",
   "execution_count": 2,
   "id": "8bc85021",
   "metadata": {},
   "outputs": [
    {
     "data": {
      "text/html": [
       "<div>\n",
       "<style scoped>\n",
       "    .dataframe tbody tr th:only-of-type {\n",
       "        vertical-align: middle;\n",
       "    }\n",
       "\n",
       "    .dataframe tbody tr th {\n",
       "        vertical-align: top;\n",
       "    }\n",
       "\n",
       "    .dataframe thead th {\n",
       "        text-align: right;\n",
       "    }\n",
       "</style>\n",
       "<table border=\"1\" class=\"dataframe\">\n",
       "  <thead>\n",
       "    <tr style=\"text-align: right;\">\n",
       "      <th></th>\n",
       "      <th>course_name</th>\n",
       "      <th>duration</th>\n",
       "    </tr>\n",
       "  </thead>\n",
       "  <tbody>\n",
       "    <tr>\n",
       "      <th>1</th>\n",
       "      <td>Machine Learning</td>\n",
       "      <td>3</td>\n",
       "    </tr>\n",
       "  </tbody>\n",
       "</table>\n",
       "</div>"
      ],
      "text/plain": [
       "        course_name  duration\n",
       "1  Machine Learning         3"
      ]
     },
     "execution_count": 2,
     "metadata": {},
     "output_type": "execute_result"
    }
   ],
   "source": [
    "#to print values present in 2nd row\n",
    "df.iloc[1:2]"
   ]
  },
  {
   "cell_type": "markdown",
   "id": "5e0ff39c",
   "metadata": {},
   "source": [
    "### Q2. What is the difference between the functions loc and iloc in pandas.DataFrame?"
   ]
  },
  {
   "cell_type": "markdown",
   "id": "cc039721",
   "metadata": {},
   "source": [
    "**iloc:** iloc is primarily used for integer-based indexing, allowing you to select rows and columns by their integer positions. It uses zero-based integer indexing, meaning the first row or column has the index 0, the second has index 1, and so on. The syntax for iloc is df.iloc [ row_index, column_index ] . You can use single integers, lists of integers, or slices to specify the rows and columns you want to select. the slicing takes upper limit - 1 value\n",
    "\n",
    "**loc:** loc is used for label-based indexing, allowing you to select rows and columns by their labels or index names. It uses the actual row and column labels (not their integer positions) to perform the selection. The syntax for loc is df.loc[ row_label, column_label ]. You can use single labels, lists of labels, or slices to specify the rows and columns you want to select. the slicing takes upper limit value"
   ]
  },
  {
   "cell_type": "code",
   "execution_count": 3,
   "id": "c818c203",
   "metadata": {},
   "outputs": [
    {
     "data": {
      "text/html": [
       "<div>\n",
       "<style scoped>\n",
       "    .dataframe tbody tr th:only-of-type {\n",
       "        vertical-align: middle;\n",
       "    }\n",
       "\n",
       "    .dataframe tbody tr th {\n",
       "        vertical-align: top;\n",
       "    }\n",
       "\n",
       "    .dataframe thead th {\n",
       "        text-align: right;\n",
       "    }\n",
       "</style>\n",
       "<table border=\"1\" class=\"dataframe\">\n",
       "  <thead>\n",
       "    <tr style=\"text-align: right;\">\n",
       "      <th></th>\n",
       "      <th>course_name</th>\n",
       "      <th>duration</th>\n",
       "    </tr>\n",
       "  </thead>\n",
       "  <tbody>\n",
       "    <tr>\n",
       "      <th>0</th>\n",
       "      <td>Data Science</td>\n",
       "      <td>2</td>\n",
       "    </tr>\n",
       "    <tr>\n",
       "      <th>1</th>\n",
       "      <td>Machine Learning</td>\n",
       "      <td>3</td>\n",
       "    </tr>\n",
       "    <tr>\n",
       "      <th>2</th>\n",
       "      <td>Big Data</td>\n",
       "      <td>6</td>\n",
       "    </tr>\n",
       "  </tbody>\n",
       "</table>\n",
       "</div>"
      ],
      "text/plain": [
       "        course_name  duration\n",
       "0      Data Science         2\n",
       "1  Machine Learning         3\n",
       "2          Big Data         6"
      ]
     },
     "execution_count": 3,
     "metadata": {},
     "output_type": "execute_result"
    }
   ],
   "source": [
    "df.iloc[0:3]"
   ]
  },
  {
   "cell_type": "code",
   "execution_count": 4,
   "id": "fca7c532",
   "metadata": {},
   "outputs": [
    {
     "data": {
      "text/html": [
       "<div>\n",
       "<style scoped>\n",
       "    .dataframe tbody tr th:only-of-type {\n",
       "        vertical-align: middle;\n",
       "    }\n",
       "\n",
       "    .dataframe tbody tr th {\n",
       "        vertical-align: top;\n",
       "    }\n",
       "\n",
       "    .dataframe thead th {\n",
       "        text-align: right;\n",
       "    }\n",
       "</style>\n",
       "<table border=\"1\" class=\"dataframe\">\n",
       "  <thead>\n",
       "    <tr style=\"text-align: right;\">\n",
       "      <th></th>\n",
       "      <th>course_name</th>\n",
       "      <th>duration</th>\n",
       "    </tr>\n",
       "  </thead>\n",
       "  <tbody>\n",
       "    <tr>\n",
       "      <th>0</th>\n",
       "      <td>Data Science</td>\n",
       "      <td>2</td>\n",
       "    </tr>\n",
       "    <tr>\n",
       "      <th>1</th>\n",
       "      <td>Machine Learning</td>\n",
       "      <td>3</td>\n",
       "    </tr>\n",
       "    <tr>\n",
       "      <th>2</th>\n",
       "      <td>Big Data</td>\n",
       "      <td>6</td>\n",
       "    </tr>\n",
       "    <tr>\n",
       "      <th>3</th>\n",
       "      <td>Data Engineer</td>\n",
       "      <td>4</td>\n",
       "    </tr>\n",
       "  </tbody>\n",
       "</table>\n",
       "</div>"
      ],
      "text/plain": [
       "        course_name  duration\n",
       "0      Data Science         2\n",
       "1  Machine Learning         3\n",
       "2          Big Data         6\n",
       "3     Data Engineer         4"
      ]
     },
     "execution_count": 4,
     "metadata": {},
     "output_type": "execute_result"
    }
   ],
   "source": [
    "df.loc[0:3]"
   ]
  },
  {
   "cell_type": "code",
   "execution_count": 5,
   "id": "47bb4c46",
   "metadata": {},
   "outputs": [
    {
     "data": {
      "text/html": [
       "<div>\n",
       "<style scoped>\n",
       "    .dataframe tbody tr th:only-of-type {\n",
       "        vertical-align: middle;\n",
       "    }\n",
       "\n",
       "    .dataframe tbody tr th {\n",
       "        vertical-align: top;\n",
       "    }\n",
       "\n",
       "    .dataframe thead th {\n",
       "        text-align: right;\n",
       "    }\n",
       "</style>\n",
       "<table border=\"1\" class=\"dataframe\">\n",
       "  <thead>\n",
       "    <tr style=\"text-align: right;\">\n",
       "      <th></th>\n",
       "      <th>course_name</th>\n",
       "    </tr>\n",
       "  </thead>\n",
       "  <tbody>\n",
       "    <tr>\n",
       "      <th>0</th>\n",
       "      <td>Data Science</td>\n",
       "    </tr>\n",
       "    <tr>\n",
       "      <th>1</th>\n",
       "      <td>Machine Learning</td>\n",
       "    </tr>\n",
       "    <tr>\n",
       "      <th>2</th>\n",
       "      <td>Big Data</td>\n",
       "    </tr>\n",
       "  </tbody>\n",
       "</table>\n",
       "</div>"
      ],
      "text/plain": [
       "        course_name\n",
       "0      Data Science\n",
       "1  Machine Learning\n",
       "2          Big Data"
      ]
     },
     "execution_count": 5,
     "metadata": {},
     "output_type": "execute_result"
    }
   ],
   "source": [
    "df.iloc[0:3,[0]]"
   ]
  },
  {
   "cell_type": "code",
   "execution_count": 6,
   "id": "937e6ac7",
   "metadata": {},
   "outputs": [
    {
     "data": {
      "text/html": [
       "<div>\n",
       "<style scoped>\n",
       "    .dataframe tbody tr th:only-of-type {\n",
       "        vertical-align: middle;\n",
       "    }\n",
       "\n",
       "    .dataframe tbody tr th {\n",
       "        vertical-align: top;\n",
       "    }\n",
       "\n",
       "    .dataframe thead th {\n",
       "        text-align: right;\n",
       "    }\n",
       "</style>\n",
       "<table border=\"1\" class=\"dataframe\">\n",
       "  <thead>\n",
       "    <tr style=\"text-align: right;\">\n",
       "      <th></th>\n",
       "      <th>course_name</th>\n",
       "    </tr>\n",
       "  </thead>\n",
       "  <tbody>\n",
       "    <tr>\n",
       "      <th>0</th>\n",
       "      <td>Data Science</td>\n",
       "    </tr>\n",
       "    <tr>\n",
       "      <th>1</th>\n",
       "      <td>Machine Learning</td>\n",
       "    </tr>\n",
       "    <tr>\n",
       "      <th>2</th>\n",
       "      <td>Big Data</td>\n",
       "    </tr>\n",
       "    <tr>\n",
       "      <th>3</th>\n",
       "      <td>Data Engineer</td>\n",
       "    </tr>\n",
       "  </tbody>\n",
       "</table>\n",
       "</div>"
      ],
      "text/plain": [
       "        course_name\n",
       "0      Data Science\n",
       "1  Machine Learning\n",
       "2          Big Data\n",
       "3     Data Engineer"
      ]
     },
     "execution_count": 6,
     "metadata": {},
     "output_type": "execute_result"
    }
   ],
   "source": [
    "df.loc[0:3,['course_name']]"
   ]
  },
  {
   "cell_type": "markdown",
   "id": "465f1e71",
   "metadata": {},
   "source": [
    "### Q3. Reindex the given dataframe using a variable, reindex = [3,0,1,2] and store it in the variable, new_df then find the output for both new_df.loc[2] and new_df.iloc[2]. Did you observe any difference in both the outputs? If so then explain it."
   ]
  },
  {
   "cell_type": "code",
   "execution_count": 7,
   "id": "fd7bd561",
   "metadata": {},
   "outputs": [
    {
     "name": "stdout",
     "output_type": "stream",
     "text": [
      "New DataFrame:\n",
      "       Name  Age\n",
      "3    David   32\n",
      "0    Alice   24\n",
      "1      Bob   27\n",
      "2  Charlie   22\n",
      "\n",
      "Output of new_df.loc[2]:\n",
      "Name    Charlie\n",
      "Age          22\n",
      "Name: 2, dtype: object\n",
      "\n",
      "Output of new_df.iloc[2]:\n",
      "Name    Bob\n",
      "Age      27\n",
      "Name: 1, dtype: object\n"
     ]
    }
   ],
   "source": [
    "import pandas as pd\n",
    "\n",
    "# Create a sample DataFrame\n",
    "df = pd.DataFrame({\n",
    "    'Name': ['Alice', 'Bob', 'Charlie', 'David'],\n",
    "    'Age': [24, 27, 22, 32]\n",
    "})\n",
    "\n",
    "# Define reindex order\n",
    "reindex = [3, 0, 1, 2]\n",
    "\n",
    "# Reindex the DataFrame\n",
    "new_df = df.reindex(reindex)\n",
    "\n",
    "# Display the new DataFrame\n",
    "print(\"New DataFrame:\\n\", new_df)\n",
    "\n",
    "# Output for new_df.loc[2]\n",
    "print(\"\\nOutput of new_df.loc[2]:\")\n",
    "print(new_df.loc[2])         # .loc[2] accesses the row with index label 2, which is Charlie.\n",
    "\n",
    "# Output for new_df.iloc[2]\n",
    "print(\"\\nOutput of new_df.iloc[2]:\")\n",
    "print(new_df.iloc[2])         #.iloc[2] accesses the row at position 2 in new_df, which is Bob.\n"
   ]
  },
  {
   "cell_type": "markdown",
   "id": "681f59f8",
   "metadata": {},
   "source": [
    "Consider the below code to answer further questions:  \n",
    "import pandas as pd   \n",
    "import numpy as np  \n",
    "columns = ['column_1', 'column_2', 'column_3', 'column_4', 'column_5', 'column_6']  \n",
    "indices = [1,2,3,4,5,6]  \n",
    "#Creating a dataframe: \n",
    "df1 = pd.DataFrame(np.random.rand(6,6), columns = columns, index = indices)  "
   ]
  },
  {
   "cell_type": "markdown",
   "id": "8c8b14f0",
   "metadata": {},
   "source": [
    "### Q4. Write a code to find the following statistical measurements for the above dataframe df1:  \n",
    "(i) mean of each and every column present in the dataframe.   \n",
    "(ii) standard deviation of column, ‘column_2’   "
   ]
  },
  {
   "cell_type": "code",
   "execution_count": 8,
   "id": "15dba205",
   "metadata": {},
   "outputs": [],
   "source": [
    "import pandas as pd\n",
    "import numpy as np\n",
    "columns = ['column_1', 'column_2', 'column_3', 'column_4', 'column_5', 'column_6']\n",
    "indices = [1,2,3,4,5,6]\n",
    "#Creating a dataframe: \n",
    "df1 = pd.DataFrame(np.random.rand(6,6), columns = columns, index = indices)"
   ]
  },
  {
   "cell_type": "code",
   "execution_count": 9,
   "id": "0e3d175c",
   "metadata": {},
   "outputs": [
    {
     "data": {
      "text/html": [
       "<div>\n",
       "<style scoped>\n",
       "    .dataframe tbody tr th:only-of-type {\n",
       "        vertical-align: middle;\n",
       "    }\n",
       "\n",
       "    .dataframe tbody tr th {\n",
       "        vertical-align: top;\n",
       "    }\n",
       "\n",
       "    .dataframe thead th {\n",
       "        text-align: right;\n",
       "    }\n",
       "</style>\n",
       "<table border=\"1\" class=\"dataframe\">\n",
       "  <thead>\n",
       "    <tr style=\"text-align: right;\">\n",
       "      <th></th>\n",
       "      <th>column_1</th>\n",
       "      <th>column_2</th>\n",
       "      <th>column_3</th>\n",
       "      <th>column_4</th>\n",
       "      <th>column_5</th>\n",
       "      <th>column_6</th>\n",
       "    </tr>\n",
       "  </thead>\n",
       "  <tbody>\n",
       "    <tr>\n",
       "      <th>count</th>\n",
       "      <td>6.000000</td>\n",
       "      <td>6.000000</td>\n",
       "      <td>6.000000</td>\n",
       "      <td>6.000000</td>\n",
       "      <td>6.000000</td>\n",
       "      <td>6.000000</td>\n",
       "    </tr>\n",
       "    <tr>\n",
       "      <th>mean</th>\n",
       "      <td>0.450102</td>\n",
       "      <td>0.448567</td>\n",
       "      <td>0.658774</td>\n",
       "      <td>0.478471</td>\n",
       "      <td>0.773485</td>\n",
       "      <td>0.582667</td>\n",
       "    </tr>\n",
       "    <tr>\n",
       "      <th>std</th>\n",
       "      <td>0.282161</td>\n",
       "      <td>0.213369</td>\n",
       "      <td>0.212037</td>\n",
       "      <td>0.327092</td>\n",
       "      <td>0.279913</td>\n",
       "      <td>0.306535</td>\n",
       "    </tr>\n",
       "    <tr>\n",
       "      <th>min</th>\n",
       "      <td>0.207316</td>\n",
       "      <td>0.205920</td>\n",
       "      <td>0.339128</td>\n",
       "      <td>0.006831</td>\n",
       "      <td>0.244893</td>\n",
       "      <td>0.221231</td>\n",
       "    </tr>\n",
       "    <tr>\n",
       "      <th>25%</th>\n",
       "      <td>0.263435</td>\n",
       "      <td>0.274993</td>\n",
       "      <td>0.514988</td>\n",
       "      <td>0.274240</td>\n",
       "      <td>0.729531</td>\n",
       "      <td>0.332888</td>\n",
       "    </tr>\n",
       "    <tr>\n",
       "      <th>50%</th>\n",
       "      <td>0.360767</td>\n",
       "      <td>0.444884</td>\n",
       "      <td>0.753657</td>\n",
       "      <td>0.526627</td>\n",
       "      <td>0.906284</td>\n",
       "      <td>0.578688</td>\n",
       "    </tr>\n",
       "    <tr>\n",
       "      <th>75%</th>\n",
       "      <td>0.522022</td>\n",
       "      <td>0.578945</td>\n",
       "      <td>0.817445</td>\n",
       "      <td>0.706977</td>\n",
       "      <td>0.942552</td>\n",
       "      <td>0.824923</td>\n",
       "    </tr>\n",
       "    <tr>\n",
       "      <th>max</th>\n",
       "      <td>0.964996</td>\n",
       "      <td>0.753716</td>\n",
       "      <td>0.832063</td>\n",
       "      <td>0.853535</td>\n",
       "      <td>0.958194</td>\n",
       "      <td>0.959437</td>\n",
       "    </tr>\n",
       "  </tbody>\n",
       "</table>\n",
       "</div>"
      ],
      "text/plain": [
       "       column_1  column_2  column_3  column_4  column_5  column_6\n",
       "count  6.000000  6.000000  6.000000  6.000000  6.000000  6.000000\n",
       "mean   0.450102  0.448567  0.658774  0.478471  0.773485  0.582667\n",
       "std    0.282161  0.213369  0.212037  0.327092  0.279913  0.306535\n",
       "min    0.207316  0.205920  0.339128  0.006831  0.244893  0.221231\n",
       "25%    0.263435  0.274993  0.514988  0.274240  0.729531  0.332888\n",
       "50%    0.360767  0.444884  0.753657  0.526627  0.906284  0.578688\n",
       "75%    0.522022  0.578945  0.817445  0.706977  0.942552  0.824923\n",
       "max    0.964996  0.753716  0.832063  0.853535  0.958194  0.959437"
      ]
     },
     "execution_count": 9,
     "metadata": {},
     "output_type": "execute_result"
    }
   ],
   "source": [
    "df1.describe()"
   ]
  },
  {
   "cell_type": "code",
   "execution_count": 10,
   "id": "1de1f566",
   "metadata": {},
   "outputs": [
    {
     "data": {
      "text/plain": [
       "column_1    0.450102\n",
       "column_2    0.448567\n",
       "column_3    0.658774\n",
       "column_4    0.478471\n",
       "column_5    0.773485\n",
       "column_6    0.582667\n",
       "dtype: float64"
      ]
     },
     "execution_count": 10,
     "metadata": {},
     "output_type": "execute_result"
    }
   ],
   "source": [
    "df1.mean()"
   ]
  },
  {
   "cell_type": "code",
   "execution_count": 11,
   "id": "49b606b4",
   "metadata": {},
   "outputs": [
    {
     "data": {
      "text/html": [
       "<div>\n",
       "<style scoped>\n",
       "    .dataframe tbody tr th:only-of-type {\n",
       "        vertical-align: middle;\n",
       "    }\n",
       "\n",
       "    .dataframe tbody tr th {\n",
       "        vertical-align: top;\n",
       "    }\n",
       "\n",
       "    .dataframe thead th {\n",
       "        text-align: right;\n",
       "    }\n",
       "</style>\n",
       "<table border=\"1\" class=\"dataframe\">\n",
       "  <thead>\n",
       "    <tr style=\"text-align: right;\">\n",
       "      <th></th>\n",
       "      <th>0</th>\n",
       "    </tr>\n",
       "  </thead>\n",
       "  <tbody>\n",
       "    <tr>\n",
       "      <th>column_1</th>\n",
       "      <td>0.282161</td>\n",
       "    </tr>\n",
       "    <tr>\n",
       "      <th>column_2</th>\n",
       "      <td>0.213369</td>\n",
       "    </tr>\n",
       "  </tbody>\n",
       "</table>\n",
       "</div>"
      ],
      "text/plain": [
       "                 0\n",
       "column_1  0.282161\n",
       "column_2  0.213369"
      ]
     },
     "execution_count": 11,
     "metadata": {},
     "output_type": "execute_result"
    }
   ],
   "source": [
    "pd.DataFrame(df1[['column_1','column_2']].std())"
   ]
  },
  {
   "cell_type": "markdown",
   "id": "9f57f166",
   "metadata": {},
   "source": [
    "### Q5. Replace the data present in the second row of column, ‘column_2’ by a string variable then find the mean of column, column_2. If you are getting errors in executing it then explain why.\n",
    "[Hint: To replace the data use df1.loc[] and equate this to string data of your choice.]"
   ]
  },
  {
   "cell_type": "code",
   "execution_count": 12,
   "id": "7ea45dc5",
   "metadata": {},
   "outputs": [
    {
     "data": {
      "text/plain": [
       "column_1    0.561635\n",
       "column_2    0.514729\n",
       "Name: 2, dtype: float64"
      ]
     },
     "execution_count": 12,
     "metadata": {},
     "output_type": "execute_result"
    }
   ],
   "source": [
    "df1.iloc[1,0:2] "
   ]
  },
  {
   "cell_type": "code",
   "execution_count": 13,
   "id": "1ee5ee5a",
   "metadata": {},
   "outputs": [],
   "source": [
    "df1.iloc[1,0:2] = \"test\""
   ]
  },
  {
   "cell_type": "code",
   "execution_count": 14,
   "id": "1b4a0c93",
   "metadata": {},
   "outputs": [
    {
     "data": {
      "text/html": [
       "<div>\n",
       "<style scoped>\n",
       "    .dataframe tbody tr th:only-of-type {\n",
       "        vertical-align: middle;\n",
       "    }\n",
       "\n",
       "    .dataframe tbody tr th {\n",
       "        vertical-align: top;\n",
       "    }\n",
       "\n",
       "    .dataframe thead th {\n",
       "        text-align: right;\n",
       "    }\n",
       "</style>\n",
       "<table border=\"1\" class=\"dataframe\">\n",
       "  <thead>\n",
       "    <tr style=\"text-align: right;\">\n",
       "      <th></th>\n",
       "      <th>column_1</th>\n",
       "      <th>column_2</th>\n",
       "      <th>column_3</th>\n",
       "      <th>column_4</th>\n",
       "      <th>column_5</th>\n",
       "      <th>column_6</th>\n",
       "    </tr>\n",
       "  </thead>\n",
       "  <tbody>\n",
       "    <tr>\n",
       "      <th>1</th>\n",
       "      <td>0.24513</td>\n",
       "      <td>0.241644</td>\n",
       "      <td>0.450782</td>\n",
       "      <td>0.351644</td>\n",
       "      <td>0.908686</td>\n",
       "      <td>0.221231</td>\n",
       "    </tr>\n",
       "    <tr>\n",
       "      <th>2</th>\n",
       "      <td>test</td>\n",
       "      <td>test</td>\n",
       "      <td>0.707605</td>\n",
       "      <td>0.701611</td>\n",
       "      <td>0.903882</td>\n",
       "      <td>0.716723</td>\n",
       "    </tr>\n",
       "  </tbody>\n",
       "</table>\n",
       "</div>"
      ],
      "text/plain": [
       "  column_1  column_2  column_3  column_4  column_5  column_6\n",
       "1  0.24513  0.241644  0.450782  0.351644  0.908686  0.221231\n",
       "2     test      test  0.707605  0.701611  0.903882  0.716723"
      ]
     },
     "execution_count": 14,
     "metadata": {},
     "output_type": "execute_result"
    }
   ],
   "source": [
    "df1.head(2)"
   ]
  },
  {
   "cell_type": "markdown",
   "id": "b41410b9",
   "metadata": {},
   "source": [
    "##### df1.loc[:,[\"column_1\",\"column_2\"]].mean() \n",
    "\n",
    "#### error because :\n",
    "\n",
    "The default value of numeric_only in DataFrame.mean is deprecated. In a future version, it will default to False. In addition, specifying 'numeric_only=None' is deprecated. Select only valid columns or specify the value of numeric_only to silence this warning. df1.loc[:,['column_1','column_2']].mean()"
   ]
  },
  {
   "cell_type": "markdown",
   "id": "fc553b70",
   "metadata": {},
   "source": [
    "### Q6. What do you understand about the windows function in pandas and list the types of windows functions?"
   ]
  },
  {
   "cell_type": "markdown",
   "id": "fbf8abb9",
   "metadata": {},
   "source": [
    "In pandas, a window function is a powerful tool used for performing calculations on a specific subset of data within a defined window or range. These functions allow you to apply aggregate functions, transformations, or other operations over a sliding or rolling window of data points. Window functions are commonly used in time series data and other sequential data to perform calculations over a moving window.\n",
    "\n",
    "Types of Window Functions in pandas:\n",
    "\n",
    "Rolling Windows: Rolling windows are used for calculating statistics over a fixed-size window of consecutive data points. The window \"rolls\" or slides over the data, and the calculation is applied to each window. Common operations include mean, sum, standard deviation, etc.\n",
    "\n",
    "Expanding Windows: Expanding windows gradually include more data points as they move forward. The calculation is performed on all data points from the beginning up to the current point in the window. Useful for computing cumulative statistics or growth rates.\n",
    "\n",
    "Exponentially Weighted Windows: Exponentially weighted windows assign weights to data points based on their position in the window. Data points closer to the current point receive higher weights, and weights decrease exponentially with distance from the current point. Suitable for capturing trends and handling non-stationary data in time series analysis.\n",
    "\n",
    "Aggregation Windows: Aggregation windows allow you to perform custom aggregation operations on windows of data. This can be useful for calculating custom statistics or metrics over specific subsets of data.\n",
    "\n",
    "Rolling and Expanding Windows with Time-Based Index: pandas also supports rolling and expanding windows based on time-based index (e.g., timestamps). These windows provide more flexibility when dealing with time series data and allow you to compute statistics over time periods.\n",
    "\n",
    "To use window functions in pandas, you typically use the rolling() method for rolling windows, expanding() method for expanding windows, and ewm() method for exponentially weighted windows. These methods enable you to specify the window size and apply the desired operation efficiently.\n",
    "\n",
    "Window functions in pandas are incredibly useful for analyzing time series data, smoothing noisy signals, identifying trends, and making predictions based on local patterns. They provide a convenient way to perform data transformations and aggregations over subsets of data and facilitate various advanced data analysis and modeling tasks."
   ]
  },
  {
   "cell_type": "markdown",
   "id": "32738201",
   "metadata": {},
   "source": [
    "### Q7. Write a code to print only the current month and year at the time of answering this question. \n",
    "[Hint: Use pandas.datetime function]"
   ]
  },
  {
   "cell_type": "code",
   "execution_count": 15,
   "id": "bc71495f",
   "metadata": {},
   "outputs": [
    {
     "name": "stdout",
     "output_type": "stream",
     "text": [
      "Current Month : 4\n",
      "Current Year : 2025\n"
     ]
    }
   ],
   "source": [
    "current = pd.Timestamp.now()\n",
    "current\n",
    "type(current)\n",
    "month = current.month\n",
    "year = current.year\n",
    "print(\"Current Month : {}\".format(month))\n",
    "print(\"Current Year : {}\".format(year))"
   ]
  },
  {
   "cell_type": "markdown",
   "id": "5278d18c",
   "metadata": {},
   "source": [
    "### Q8. Write a Python program that takes in two dates as input (in the format YYYY-MM-DD) and calculates the difference between them in days, hours, and minutes using Pandas time delta. The program should prompt the user to enter the dates and display the result."
   ]
  },
  {
   "cell_type": "code",
   "execution_count": 16,
   "id": "a4c73486",
   "metadata": {},
   "outputs": [
    {
     "name": "stdout",
     "output_type": "stream",
     "text": [
      "Enter the start date (YYYY-MM-DD): 2012-08-21\n",
      "Enter the end date (YYYY-MM-DD): 2018-06-15\n",
      "Time difference: 2124 days, 0 hours, and 0 minutes.\n"
     ]
    }
   ],
   "source": [
    "def time_difference_func(start_date, end_date):\n",
    "    \n",
    "    try:\n",
    "        start_timestamp = pd.Timestamp(start_date)\n",
    "        end_timestamp = pd.Timestamp(end_date)\n",
    "    \n",
    "        time_difference = end_timestamp - start_timestamp\n",
    "\n",
    "        # Extract days, hours, and minutes from the timedelta\n",
    "        days = time_difference.days\n",
    "        hours = time_difference.seconds // 3600\n",
    "        minutes = (time_difference.seconds % 3600) // 60\n",
    "        return days, hours, minutes\n",
    "    except Exception as e:\n",
    "        print(f\"Error: {e}\")\n",
    "\n",
    "\n",
    "# Prompt the user to enter two dates in the format YYYY-MM-DD\n",
    "start_date_input = input(\"Enter the start date (YYYY-MM-DD): \")\n",
    "end_date_input = input(\"Enter the end date (YYYY-MM-DD): \")\n",
    "\n",
    "\n",
    "days_diff, hours_diff, minutes_diff = time_difference_func(start_date_input, end_date_input)\n",
    "\n",
    "print(f\"Time difference: {days_diff} days, {hours_diff} hours, and {minutes_diff} minutes.\")"
   ]
  },
  {
   "cell_type": "markdown",
   "id": "5bfbde3e",
   "metadata": {},
   "source": [
    "### Q9. Write a Python program that reads a CSV file containing categorical data and converts a specified column to a categorical data type. The program should prompt the user to enter the file path, column name, and category order, and then display the sorted data."
   ]
  },
  {
   "cell_type": "code",
   "execution_count": 17,
   "id": "e6c761e5",
   "metadata": {},
   "outputs": [],
   "source": [
    "data = pd.DataFrame({\"Name\":[\"Rachit\",\"Yomil\",\"Jayan\",\"Pratham\",\"Malik\",\"Sam\",\"Khushi\",\"Sakshi\"] , \"Gender\":['M','M','M','M','M','M','F','F'],\"Grade\":['A','B','A','B','C','C','A','C']})\n",
    "\n",
    "data.to_csv(\"marks.csv\",index=False)     # \"index=False\": This tells Pandas not to include the row index (0, 1, 2...) in the CSV file, making it cleaner and more usable for reports."
   ]
  },
  {
   "cell_type": "code",
   "execution_count": 18,
   "id": "a3b63795",
   "metadata": {},
   "outputs": [
    {
     "name": "stdout",
     "output_type": "stream",
     "text": [
      "Available columns: ['Name', 'Gender', 'Grade']\n",
      "Enter the column name to convert to categorical (e.g., Gender or Grade): Grade\n",
      "Enter category order separated by commas (e.g., A,B,C or M,F): C,B,A\n",
      "\n",
      "Sorted DataFrame based on the specified categorical order:\n",
      "      Name Gender Grade\n",
      "4    Malik      M     C\n",
      "5      Sam      M     C\n",
      "7   Sakshi      F     C\n",
      "1    Yomil      M     B\n",
      "3  Pratham      M     B\n",
      "0   Rachit      M     A\n",
      "2    Jayan      M     A\n",
      "6   Khushi      F     A\n"
     ]
    }
   ],
   "source": [
    "import pandas as pd\n",
    "\n",
    "# Step 1: Read the CSV file\n",
    "df = pd.read_csv(\"marks.csv\")\n",
    "\n",
    "# Step 2: Get user input\n",
    "print(f\"Available columns: {list(df.columns)}\")\n",
    "column_name = input(\"Enter the column name to convert to categorical (e.g., Gender or Grade): \")\n",
    "order_input = input(\"Enter category order separated by commas (e.g., A,B,C or M,F): \")\n",
    "\n",
    "# Step 3: Convert input string to list of categories\n",
    "category_order = [item.strip() for item in order_input.split(',')]\n",
    "\n",
    "# Step 4: Convert the column to a categorical type with the specified order\n",
    "df[column_name] = pd.Categorical(df[column_name], categories=category_order, ordered=True)\n",
    "\n",
    "# Step 5: Sort the DataFrame based on the categorical column\n",
    "sorted_df = df.sort_values(by=column_name)\n",
    "\n",
    "# Step 6: Display the sorted DataFrame\n",
    "print(\"\\nSorted DataFrame based on the specified categorical order:\")\n",
    "print(sorted_df)"
   ]
  },
  {
   "cell_type": "markdown",
   "id": "f7b35b17",
   "metadata": {},
   "source": [
    "### Q10. Write a Python program that reads a CSV file containing sales data for different products and visualizes the data using a stacked bar chart to show the sales of each product category over time. The program should prompt the user to enter the file path and display the chart."
   ]
  },
  {
   "cell_type": "code",
   "execution_count": 19,
   "id": "a3e00b02",
   "metadata": {},
   "outputs": [],
   "source": [
    "data = pd.DataFrame({\"Date\":[\"20-07-2023\",\"20-07-2023\",\"20-07-2023\",\"21-07-2023\",\"21-07-2023\",\"22-07-2023\",\"23-07-2023\",\"24-07-2023\"] , \"Product Category\":['TV','Fridge','Washing Machine','Washing Machine','TV','Fridge','TV','Washing Machine'],\"Units Sold\":['44','20','18','50','30','35','42','54']})\n",
    "\n",
    "data.to_csv(\"salesdata.csv\",index=False)    # This saves the DataFrame to a .csv file named salesdata.csv."
   ]
  },
  {
   "cell_type": "code",
   "execution_count": 20,
   "id": "a8456bf2",
   "metadata": {},
   "outputs": [
    {
     "name": "stdout",
     "output_type": "stream",
     "text": [
      "Enter the file path for the sales data CSV file: salesdata.csv\n"
     ]
    },
    {
     "data": {
      "image/png": "[encoded data removed]",
      "text/plain": [
       "<Figure size 720x432 with 1 Axes>"
      ]
     },
     "metadata": {
      "needs_background": "light"
     },
     "output_type": "display_data"
    }
   ],
   "source": [
    "import pandas as pd\n",
    "import matplotlib.pyplot as plt\n",
    "\n",
    "# Step 1: Read the CSV file\n",
    "file_path = input(\"Enter the file path for the sales data CSV file: \")\n",
    "df = pd.read_csv(file_path)\n",
    "\n",
    "# Step 2: Convert 'Date' column to datetime format for better handling\n",
    "df['Date'] = pd.to_datetime(df['Date'], format='%d-%m-%Y')\n",
    "\n",
    "# Step 3: Pivot the data to get the 'Product Category' as columns and sum the 'Units Sold' by 'Date'\n",
    "df['Units Sold'] = pd.to_numeric(df['Units Sold'])  # Convert 'Units Sold' to numeric\n",
    "pivot_df = df.pivot_table(index='Date', columns='Product Category', values='Units Sold', aggfunc='sum')\n",
    "\n",
    "# Step 4: Plot a stacked bar chart\n",
    "pivot_df.plot(kind='bar', stacked=True, figsize=(10, 6), color=['#FF5733', '#33FF57', '#3357FF'])\n",
    "\n",
    "# Step 5: Customize the plot\n",
    "plt.title(\"Sales Data Stacked Bar Chart\")\n",
    "plt.xlabel(\"Date\")\n",
    "plt.ylabel(\"Units Sold\")\n",
    "plt.xticks(rotation=45)  # Rotate x-axis labels for better visibility\n",
    "plt.tight_layout()  # Adjust layout to avoid overlap\n",
    "plt.legend(title=\"Product Category\", loc='upper left')\n",
    "\n",
    "# Step 6: Show the plot\n",
    "plt.show()"
   ]
  },
  {
   "cell_type": "markdown",
   "id": "e6b0bcbc",
   "metadata": {},
   "source": [
    "Q11. You are given a CSV file containing student data that includes the student ID and their test score. Write\n",
    "a Python program that reads the CSV file, calculates the mean, median, and mode of the test scores, and\n",
    "displays the results in a table.\n",
    "\n",
    "The program should do the following  \n",
    "I Prompt the user to enter the file path of the CSV file containing the student dataR  \n",
    "I Read the CSV file into a Pandas DataFrameR  \n",
    "I Calculate the mean, median, and mode of the test scores using Pandas toolsR   \n",
    "I Display the mean, median, and mode in a table.  \n",
    "Assume the CSV file contains the following columnsM  \n",
    "I Student ID: The ID of the studentR   \n",
    "I Test Score: The score of the student's test.  \n",
    "Example usage of the program:  \n",
    "Enter the file path of the CSV file containing the student data: student_data.csv  \n",
    "\n",
    "+-----------+--------+\n",
    "|  Statistic | Value |  \n",
    "+-----------+--------+\n",
    "|  Mean | 79.6 |    \n",
    "|  Median | 82 |    \n",
    "|  Mode | 85, 90 |     \n",
    "+-----------+--------+\n",
    "\n",
    "Assume that the CSV file student_data.csv contains the following data: \n",
    "Student ID,Test Score \n",
    "1,85 \n",
    "2,90 \n",
    "3,80 \n",
    "4,75 \n",
    "5,85 \n",
    "6,82 \n",
    "7,78 \n",
    "8,85 \n",
    "9,90 \n",
    "10,85 \n",
    "The program should calculate the mean, median, and mode of the test scores and display the results in a table. "
   ]
  },
  {
   "cell_type": "code",
   "execution_count": 21,
   "id": "b94a5f7d",
   "metadata": {},
   "outputs": [],
   "source": [
    "data = pd.DataFrame({\"Student Id\":[1,2,3,4,5,6,7,8,9,10] ,\"Test Score\":[85,90,80,75,85,82,78,85,90,85]})\n",
    "data.to_csv(\"student_data.csv\",index=False)    #  This saves the DataFrame to a .csv file named student_data.csv ."
   ]
  },
  {
   "cell_type": "code",
   "execution_count": 23,
   "id": "e92e8938",
   "metadata": {},
   "outputs": [
    {
     "name": "stdout",
     "output_type": "stream",
     "text": [
      "Enter the file path of the CSV file containing sales data: student_data.csv\n",
      "DataFrame of the CSV File\n",
      "   Student Id  Test Score\n",
      "0           1          85\n",
      "1           2          90\n",
      "2           3          80\n",
      "3           4          75\n",
      "4           5          85\n",
      "5           6          82\n",
      "6           7          78\n",
      "7           8          85\n",
      "8           9          90\n",
      "9          10          85\n",
      "+-----------+--------+\n",
      "| Statistic | Value |\n",
      "+-----------+--------+\n",
      "| Mean     | 83.5 |\n",
      "| Median   | 85.0 |\n",
      "| Mode     | 85 |\n",
      "+-----------+--------+\n"
     ]
    }
   ],
   "source": [
    "import pandas as pd\n",
    "import matplotlib.pyplot as plt\n",
    "import numpy as np\n",
    "\n",
    "def student_statistics(file_path):\n",
    "    try:\n",
    "        # Read the CSV file into a pandas DataFrame\n",
    "        df = pd.read_csv(file_path)\n",
    "        print(\"DataFrame of the CSV File\")\n",
    "        print(df)\n",
    "        meann = df['Test Score'].mean()\n",
    "        mediann = df['Test Score'].median()\n",
    "        modee = df['Test Score'].mode()[0]\n",
    "        print(\"+-----------+--------+\")\n",
    "        print(\"| Statistic | Value |\")\n",
    "        print(\"+-----------+--------+\")\n",
    "        print(f\"| Mean     | {meann} |\")\n",
    "        print(f\"| Median   | {mediann} |\")\n",
    "        print(f\"| Mode     | {modee} |\")\n",
    "        print(\"+-----------+--------+\")\n",
    "\n",
    "    \n",
    "    except Exception as e:\n",
    "        print(f\"Error: {e}\")\n",
    "\n",
    "if __name__ == \"__main__\":\n",
    "    file_path = input(\"Enter the file path of the CSV file containing sales data: \")\n",
    "    student_statistics(file_path)"
   ]
  },
  {
   "cell_type": "code",
   "execution_count": null,
   "id": "5d66709d",
   "metadata": {},
   "outputs": [],
   "source": []
  }
 ],
 "metadata": {
  "kernelspec": {
   "display_name": "Python 3 (ipykernel)",
   "language": "python",
   "name": "python3"
  },
  "language_info": {
   "codemirror_mode": {
    "name": "ipython",
    "version": 3
   },
   "file_extension": ".py",
   "mimetype": "text/x-python",
   "name": "python",
   "nbconvert_exporter": "python",
   "pygments_lexer": "ipython3",
   "version": "3.9.7"
  }
 },
 "nbformat": 4,
 "nbformat_minor": 5
}
