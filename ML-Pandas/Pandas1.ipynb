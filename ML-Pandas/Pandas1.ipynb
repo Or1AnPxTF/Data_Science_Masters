{
 "cells": [
  {
   "cell_type": "markdown",
   "id": "98b88e0a",
   "metadata": {},
   "source": [
    "### Q1. Create a Pandas Series that contains the following data: 4, 8, 15, 16, 23, and 42. Then, print the series."
   ]
  },
  {
   "cell_type": "code",
   "execution_count": 10,
   "id": "9432e271",
   "metadata": {},
   "outputs": [
    {
     "name": "stdout",
     "output_type": "stream",
     "text": [
      "0     4\n",
      "1     8\n",
      "2    15\n",
      "3    16\n",
      "4    23\n",
      "5    42\n",
      "dtype: int64\n"
     ]
    }
   ],
   "source": [
    "import pandas as pd\n",
    "\n",
    "# Creating the Series\n",
    "data = [4, 8, 15, 16, 23, 42]\n",
    "series = pd.Series(data)\n",
    "\n",
    "# Printing the Series\n",
    "print(series)"
   ]
  },
  {
   "cell_type": "markdown",
   "id": "9fb6bafe",
   "metadata": {},
   "source": [
    "### Q2. Create a variable of list type containing 10 elements in it, and apply pandas.Series function on the variable print it."
   ]
  },
  {
   "cell_type": "code",
   "execution_count": 11,
   "id": "61cff74a",
   "metadata": {},
   "outputs": [
    {
     "name": "stdout",
     "output_type": "stream",
     "text": [
      "0     1\n",
      "1    25\n",
      "2    32\n",
      "3    47\n",
      "4     5\n",
      "5    63\n",
      "6     7\n",
      "7    88\n",
      "8    93\n",
      "9    11\n",
      "dtype: int64\n"
     ]
    }
   ],
   "source": [
    "# Creating a list with 10 elements\n",
    "data_list = [1, 25, 32, 47, 5, 63, 7, 88, 93, 11]\n",
    "\n",
    "# Converting the list into a Pandas Series\n",
    "series_from_list = pd.Series(data_list)\n",
    "\n",
    "# Printing the Series\n",
    "print(series_from_list)\n"
   ]
  },
  {
   "cell_type": "markdown",
   "id": "130d30b2",
   "metadata": {},
   "source": [
    "### Q3. Create a Pandas DataFrame that contains the following data and then, print the DataFrame."
   ]
  },
  {
   "cell_type": "code",
   "execution_count": 12,
   "id": "83347189",
   "metadata": {},
   "outputs": [
    {
     "data": {
      "text/html": [
       "<div>\n",
       "<style scoped>\n",
       "    .dataframe tbody tr th:only-of-type {\n",
       "        vertical-align: middle;\n",
       "    }\n",
       "\n",
       "    .dataframe tbody tr th {\n",
       "        vertical-align: top;\n",
       "    }\n",
       "\n",
       "    .dataframe thead th {\n",
       "        text-align: right;\n",
       "    }\n",
       "</style>\n",
       "<table border=\"1\" class=\"dataframe\">\n",
       "  <thead>\n",
       "    <tr style=\"text-align: right;\">\n",
       "      <th></th>\n",
       "      <th>Name</th>\n",
       "      <th>Age</th>\n",
       "      <th>Gender</th>\n",
       "    </tr>\n",
       "  </thead>\n",
       "  <tbody>\n",
       "    <tr>\n",
       "      <th>0</th>\n",
       "      <td>Alice</td>\n",
       "      <td>25</td>\n",
       "      <td>Female</td>\n",
       "    </tr>\n",
       "    <tr>\n",
       "      <th>1</th>\n",
       "      <td>Bob</td>\n",
       "      <td>30</td>\n",
       "      <td>Male</td>\n",
       "    </tr>\n",
       "    <tr>\n",
       "      <th>2</th>\n",
       "      <td>Claire</td>\n",
       "      <td>27</td>\n",
       "      <td>Female</td>\n",
       "    </tr>\n",
       "  </tbody>\n",
       "</table>\n",
       "</div>"
      ],
      "text/plain": [
       "     Name  Age  Gender\n",
       "0   Alice   25  Female\n",
       "1     Bob   30    Male\n",
       "2  Claire   27  Female"
      ]
     },
     "execution_count": 12,
     "metadata": {},
     "output_type": "execute_result"
    }
   ],
   "source": [
    "data = {\"Name\" : [\"Alice\",\"Bob\",\"Claire\"],\"Age\" : [25,30,27],\"Gender\" : [\"Female\",\"Male\",\"Female\"]}\n",
    "df = pd.DataFrame(data)\n",
    "df"
   ]
  },
  {
   "cell_type": "markdown",
   "id": "6e4abc79",
   "metadata": {},
   "source": [
    "### Q4. What is ‘DataFrame’ in pandas and how is it different from pandas.series? Explain with an example."
   ]
  },
  {
   "cell_type": "markdown",
   "id": "e4136c29",
   "metadata": {},
   "source": [
    "A **DataFrame** in pandas is a 2-dimensional labeled data structure with columns of potentially different types (e.g., integers, strings, etc.). It is similar to a table in a database or an Excel spreadsheet. It allows you to store and manipulate data in rows and columns.\n",
    "\n",
    "A **Series**, on the other hand, is a 1-dimensional labeled array, which can hold any data type (e.g., integers, strings). It is similar to a single column of a DataFrame.\n",
    "\n",
    "A DataFrame is like a table with rows and columns, while a Series is a single column.\n",
    "\n",
    "A DataFrame can hold multiple Series as columns, whereas a Series is a single list-like structure."
   ]
  },
  {
   "cell_type": "code",
   "execution_count": 13,
   "id": "9386fc51",
   "metadata": {},
   "outputs": [
    {
     "name": "stdout",
     "output_type": "stream",
     "text": [
      "    Name  Age\n",
      "0  Alice   25\n",
      "1    Bob   30\n"
     ]
    }
   ],
   "source": [
    "# Example of Dataframe\n",
    "data = {'Name': ['Alice', 'Bob'], 'Age': [25, 30]}\n",
    "df = pd.DataFrame(data)\n",
    "print(df)"
   ]
  },
  {
   "cell_type": "code",
   "execution_count": 14,
   "id": "a8fdbc50",
   "metadata": {},
   "outputs": [
    {
     "name": "stdout",
     "output_type": "stream",
     "text": [
      "0    25\n",
      "1    30\n",
      "dtype: int64\n"
     ]
    }
   ],
   "source": [
    "# Example of Series \n",
    "age_series = pd.Series([25, 30])\n",
    "print(age_series)"
   ]
  },
  {
   "cell_type": "markdown",
   "id": "0bff68c1",
   "metadata": {},
   "source": [
    "### Q5. What are some common functions you can use to manipulate data in a Pandas DataFrame? Can you give an example of when you might use one of these functions?"
   ]
  },
  {
   "cell_type": "markdown",
   "id": "d74b7e68",
   "metadata": {},
   "source": [
    "Some common functions to manipulate data in a DataFrame include:\n",
    "\n",
    "head() - Returns the first N rows of the DataFrame.\n",
    "\n",
    "tail() - Returns the last N rows of the DataFrame.\n",
    "\n",
    "drop() - Removes specified labels (columns or rows).\n",
    "\n",
    "groupby() - Groups the data based on specified columns.\n",
    "\n",
    "sort_values() - Sorts the DataFrame by column values."
   ]
  },
  {
   "cell_type": "code",
   "execution_count": 15,
   "id": "0d3e141e",
   "metadata": {},
   "outputs": [
    {
     "name": "stdout",
     "output_type": "stream",
     "text": [
      "    Name\n",
      "0  Alice\n",
      "1    Bob\n"
     ]
    }
   ],
   "source": [
    "# Example of drop() function:\n",
    "df = pd.DataFrame({'Name': ['Alice', 'Bob'], 'Age': [25, 30]})\n",
    "df_dropped = df.drop('Age', axis=1)  # Drop the 'Age' column\n",
    "print(df_dropped)"
   ]
  },
  {
   "cell_type": "markdown",
   "id": "c55f1aa6",
   "metadata": {},
   "source": [
    "### Q6. Which of the following is mutable in nature Series, DataFrame, Panel?"
   ]
  },
  {
   "cell_type": "markdown",
   "id": "37029c43",
   "metadata": {},
   "source": [
    "DataFrame and Series are mutable in nature, meaning you can change their values after creation.\n",
    "\n",
    "Panel is deprecated in recent versions of pandas and is no longer recommended. However, if available, it is also mutable."
   ]
  },
  {
   "cell_type": "markdown",
   "id": "404a8abf",
   "metadata": {},
   "source": [
    "### Q7. Create a DataFrame using multiple Series. Explain with an example."
   ]
  },
  {
   "cell_type": "code",
   "execution_count": 16,
   "id": "e65fff04",
   "metadata": {},
   "outputs": [
    {
     "name": "stdout",
     "output_type": "stream",
     "text": [
      "      Name  Age     City\n",
      "0     Hari   25    India\n",
      "1     Bose   30  Germany\n",
      "2  Charles   35  England\n"
     ]
    }
   ],
   "source": [
    "# pd.DataFrame() function combines them into a DataFrame where each column is labeled accordingly\n",
    "import pandas as pd\n",
    "\n",
    "# Create multiple Series\n",
    "names = pd.Series(['Hari', 'Bose', 'Charles'])\n",
    "ages = pd.Series([25, 30, 35])\n",
    "cities = pd.Series(['India', 'Germany', 'England'])\n",
    "\n",
    "# Combine Series into a DataFrame\n",
    "df = pd.DataFrame({'Name': names, 'Age': ages, 'City': cities})\n",
    "\n",
    "# Printing the DataFrame\n",
    "print(df)\n"
   ]
  }
 ],
 "metadata": {
  "kernelspec": {
   "display_name": "Python 3 (ipykernel)",
   "language": "python",
   "name": "python3"
  },
  "language_info": {
   "codemirror_mode": {
    "name": "ipython",
    "version": 3
   },
   "file_extension": ".py",
   "mimetype": "text/x-python",
   "name": "python",
   "nbconvert_exporter": "python",
   "pygments_lexer": "ipython3",
   "version": "3.9.7"
  }
 },
 "nbformat": 4,
 "nbformat_minor": 5
}
