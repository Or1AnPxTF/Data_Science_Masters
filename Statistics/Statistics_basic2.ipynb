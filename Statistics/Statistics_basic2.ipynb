{
 "cells": [
  {
   "cell_type": "markdown",
   "id": "23f2423e",
   "metadata": {},
   "source": [
    "### Q1. What are the three measures of central tendency?"
   ]
  },
  {
   "cell_type": "markdown",
   "id": "38269467",
   "metadata": {},
   "source": [
    "Ans)The mean, median, and mode are three different measures of central tendency used to describe the central value of a dataset. They provide information about where the data tends to cluster or concentrate.\n",
    "\n",
    "The three measures of central tendency are:\n",
    "\n",
    "**Mean:** The mean is the arithmetic average of a set of data points. It is calculated by summing all the values and then dividing by the total number of data points. The mean represents the central value around which the data points tend to cluster.\n",
    "\n",
    "**Median:** The median is the middle value of a dataset when the data points are arranged in ascending or descending order. If there is an even number of data points, the median is the average of the two middle values.\n",
    "\n",
    "**Mode:** The mode is the value that appears most frequently in a dataset. It can be a single value (unimodal) or multiple values (bimodal, trimodal, etc.) if there are multiple equally occurring modes."
   ]
  },
  {
   "cell_type": "markdown",
   "id": "d9a2d4ab",
   "metadata": {},
   "source": [
    "### Q2. What is the difference between the mean, median, and mode? How are they used to measure the central tendency of a dataset?"
   ]
  },
  {
   "cell_type": "markdown",
   "id": "e75bfae8",
   "metadata": {},
   "source": [
    "Ans)The mean, median, and mode are three different measures of central tendency used to describe the central value of a dataset. They provide information about where the data tends to cluster or concentrate. The differences between the three measures and how they are used:\n",
    "\n",
    "Mean:\n",
    "Definition: The mean is the arithmetic average of a set of data points. It is calculated by summing all the values and then dividing by the total number of data points.\n",
    "Use: The mean is used to measure the central tendency when we want to find the \"average\" or \"typical\" value of the dataset.\n",
    "Sensitivity to Outliers: The mean is sensitive to outliers, meaning extreme values can significantly impact its value.\n",
    "\n",
    "Median:\n",
    "Definition: The median is the middle value of a dataset when the data points are arranged in ascending or descending order. If there is an even number of data points, the median is the average of the two middle values.\n",
    "Use: The median is used when the dataset is skewed or contains outliers. It provides a measure of central tendency that is not influenced by extreme values.\n",
    "Sensitivity to Outliers: The median is not sensitive to outliers, making it a robust measure of central tendency.\n",
    "\n",
    "Mode:\n",
    "Definition: The mode is the value that appears most frequently in a dataset. It can be a single value (unimodal) or multiple values (bimodal, trimodal, etc.) if there are multiple equally occurring modes.\n",
    "Use: The mode is used to identify the most common occurrence or category in the dataset.\n",
    "Sensitivity to Outliers: The mode is not affected by outliers, as it only considers the frequency of values.\n",
    "\n",
    "The mean, median, and mode are used to measure the central tendency of a dataset in different ways. The mean is useful when the dataset is approximately symmetric and not heavily influenced by outliers. The median is preferred when the dataset is skewed or contains extreme values, as it is robust to such situations. The mode is employed to identify the most common value or category in the dataset, regardless of the data's distribution."
   ]
  },
  {
   "cell_type": "markdown",
   "id": "563638ee",
   "metadata": {},
   "source": [
    "### Q3. Measure the three measures of central tendency for the given height data:\n",
    "[178,177,176,177,178.2,178,175,179,180,175,178.9,176.2,177,172.5,178,176.5]"
   ]
  },
  {
   "cell_type": "code",
   "execution_count": 10,
   "id": "a9459e78",
   "metadata": {},
   "outputs": [
    {
     "data": {
      "text/plain": [
       "177.01875"
      ]
     },
     "execution_count": 10,
     "metadata": {},
     "output_type": "execute_result"
    }
   ],
   "source": [
    "import numpy as np\n",
    "\n",
    "data = [178,177,176,177,178.2,178,175,179,180,175,178.9,176.2,177,172.5,178,176.5]\n",
    "\n",
    "#Mean of the data\n",
    "np.mean(data)\n"
   ]
  },
  {
   "cell_type": "code",
   "execution_count": 11,
   "id": "21702143",
   "metadata": {},
   "outputs": [
    {
     "data": {
      "text/plain": [
       "177.0"
      ]
     },
     "execution_count": 11,
     "metadata": {},
     "output_type": "execute_result"
    }
   ],
   "source": [
    "#Median of the data\n",
    "np.median(data)"
   ]
  },
  {
   "cell_type": "code",
   "execution_count": 12,
   "id": "783d382d",
   "metadata": {},
   "outputs": [
    {
     "data": {
      "text/plain": [
       "ModeResult(mode=array([177.]), count=array([3]))"
      ]
     },
     "execution_count": 12,
     "metadata": {},
     "output_type": "execute_result"
    }
   ],
   "source": [
    "#import stats library for mode calculation\n",
    "from scipy import stats\n",
    "#Mode of the data\n",
    "stats.mode(data)"
   ]
  },
  {
   "cell_type": "markdown",
   "id": "1ad0e08d",
   "metadata": {},
   "source": [
    "### Q4. Find the standard deviation for the given data:\n",
    "[178,177,176,177,178.2,178,175,179,180,175,178.9,176.2,177,172.5,178,176.5]"
   ]
  },
  {
   "cell_type": "code",
   "execution_count": 13,
   "id": "cb47dbe5",
   "metadata": {},
   "outputs": [
    {
     "data": {
      "text/plain": [
       "1.7885814036548633"
      ]
     },
     "execution_count": 13,
     "metadata": {},
     "output_type": "execute_result"
    }
   ],
   "source": [
    "import numpy as np\n",
    "data = [178,177,176,177,178.2,178,175,179,180,175,178.9,176.2,177,172.5,178,176.5]\n",
    "np.std(data)"
   ]
  },
  {
   "cell_type": "markdown",
   "id": "b8bfd471",
   "metadata": {},
   "source": [
    "### Q5. How are measures of dispersion such as range, variance, and standard deviation used to describe the spread of a dataset? Provide an example."
   ]
  },
  {
   "cell_type": "markdown",
   "id": "7e6cdc18",
   "metadata": {},
   "source": [
    "Measures of dispersion, such as range, variance, and standard deviation, are used to describe the spread or variability of a dataset. They provide information about how much the data points deviate from the central tendency measures (mean, median, or mode) and how spread out the values are within the dataset.\n",
    "\n",
    "#### Range:\n",
    "Definition: The range is the simplest measure of dispersion and represents the difference between the maximum and minimum values in a dataset.\n",
    "Use: The range gives an idea of the spread of the data from the lowest to the highest value.\n",
    "Example: Consider the following dataset of test scores: [70, 75, 80, 85, 90]. The range is calculated as 90 (maximum value) - 70 (minimum value) = 20. This means the spread of the test scores in the dataset is 20 points.\n",
    "\n",
    "#### Variance:\n",
    "Definition: Variance is a measure of how far the data points are spread out from the mean. It quantifies the average squared deviation of each data point from the mean.\n",
    "Use: Variance provides an overall measure of dispersion, considering all data points.\n",
    "Calculation: The variance is computed by taking the sum of the squared differences between each data point and the mean, dividing it by the total number of data points (or n-1 for sample variance due to bessels correction to remove bias).\n",
    "Example: Continuing with the test scores dataset, let's assume the mean of the scores is 80. The variance would be calculated as [(70-80)^2 + (75-80)^2 + (80-80)^2 + (85-80)^2 + (90-80)^2] / 5 = 100. The variance of 100 indicates that the test scores have considerable variability from the mean score of 80.\n",
    "\n",
    "#### Standard Deviation:\n",
    "Definition: The standard deviation is the square root of the variance. It is used to describe the typical amount of deviation or dispersion of data points from the mean.\n",
    "Use: Standard deviation provides a measure of the spread of data in the original units of measurement, making it easier to interpret and compare to the mean.\n",
    "Calculation: The standard deviation is computed by taking the square root of the variance.\n",
    "Example: In the test scores dataset, the standard deviation would be the square root of the variance, which is √100 = 10. This indicates that the typical deviation of the test scores from the mean of 80 is 10 points."
   ]
  },
  {
   "cell_type": "markdown",
   "id": "0a8915fc",
   "metadata": {},
   "source": [
    "### Q6. What is a Venn diagram?"
   ]
  },
  {
   "cell_type": "markdown",
   "id": "0dcc390c",
   "metadata": {},
   "source": [
    "A **Venn diagram** is a graphical representation used to illustrate the relationships and similarities between different sets or groups of data. It consists of overlapping circles or ellipses, each representing a separate set or category. The areas of overlap between the circles show the intersections or common elements shared by the sets.\n",
    "\n",
    "Venn diagrams are particularly useful for visualizing set relationships and making comparisons between multiple datasets or categories. They are named after John Venn, a British mathematician and philosopher who introduced them in the 19th century.\n",
    "\n",
    "#### Key features of a Venn diagram:\n",
    "\n",
    "Circles (or Ellipses): Each circle in the diagram represents a different set or category. The circles may overlap to show the shared elements between the sets.\n",
    "\n",
    "Overlapping Areas: The overlapping regions between the circles represent the intersections or common elements that belong to multiple sets simultaneously.\n",
    "\n",
    "Non-overlapping Areas: The non-overlapping areas of each circle represent the elements unique to that particular set.\n",
    "\n",
    "Labels: Venn diagrams often have labels or names associated with each set, making it clear which sets are being compared."
   ]
  },
  {
   "cell_type": "markdown",
   "id": "23f7cb37",
   "metadata": {},
   "source": [
    "### Q7. For the two given sets A = (2,3,4,5,6,7) & B = (0,2,6,8,10). Find:\n",
    "(i) A ∩ B (ii) A ⋃ B"
   ]
  },
  {
   "cell_type": "code",
   "execution_count": 14,
   "id": "7e335541",
   "metadata": {},
   "outputs": [
    {
     "name": "stdout",
     "output_type": "stream",
     "text": [
      "Intersection of A and B is :  {2, 6}\n",
      "Union of A and B is :  {0, 2, 3, 4, 5, 6, 7, 8, 10}\n"
     ]
    }
   ],
   "source": [
    "A = {2,3,4,5,6,7}\n",
    "B = {0,2,6,8,10}\n",
    "\n",
    "a_intersection_b = A.intersection(B)\n",
    "print(\"Intersection of A and B is : \",a_intersection_b)\n",
    "a_union_b = A.union(B)\n",
    "print(\"Union of A and B is : \",a_union_b)"
   ]
  },
  {
   "cell_type": "markdown",
   "id": "6c889322",
   "metadata": {},
   "source": [
    "### Q8. What do you understand about skewness in data?"
   ]
  },
  {
   "cell_type": "markdown",
   "id": "57dd7c2c",
   "metadata": {},
   "source": [
    "Ans)**Skewness** is a statistical term that refers to the asymmetry or lack of symmetry in the distribution of a dataset. In a symmetrical distribution, the data is evenly distributed around the mean, with the left and right sides of the distribution mirroring each other. However, in a skewed distribution, the data is concentrated more towards one tail of the distribution, resulting in a longer tail on one side and a shorter tail on the other.\n",
    "\n",
    "Skewness is an essential concept in data analysis as it helps to understand the shape and characteristics of a dataset. There are three types of skewness:\n",
    "\n",
    "#### Positive Skewness (Right Skewness): \n",
    "In a positively skewed distribution, the majority of the data is concentrated towards the lower values (left side) of the distribution, and the tail extends to the right. This results in a longer right tail and a shorter left tail. The mean is typically greater than the median in positively skewed data.\n",
    "Here the Mean > Median >Mode\n",
    "Example of Positive Skewness:\n",
    "Consider the distribution of household incomes in a country. Most households might have lower incomes, with a few extremely high-income households creating a long right tail.\n",
    "\n",
    "#### Negative Skewness (Left Skewness): \n",
    "In a negatively skewed distribution, the majority of the data is concentrated towards the higher values (right side) of the distribution, and the tail extends to the left. This results in a longer left tail and a shorter right tail. The mean is typically less than the median in negatively skewed data.\n",
    "Here the Mean < Median < Mode\n",
    "Example of Negative Skewness:\n",
    "Consider the distribution of test scores in a difficult exam. Most students might score higher marks, but a few students might perform poorly, leading to a long left tail.\n",
    "\n",
    "#### Zero Skewness (Symmetrical/Gaussian Distribution): \n",
    "In a symmetrical distribution, the data is evenly distributed around the mean, and there is no skewness. The left and right sides of the distribution mirror each other, and the mean and median are approximately equal.\n",
    "Here the Mean = Median = Mode\n",
    "Example of Zero Skewness:\n",
    "The distribution of heights in a population, where most people have average heights and the distribution is symmetrical around the mean height."
   ]
  },
  {
   "cell_type": "markdown",
   "id": "99203829",
   "metadata": {},
   "source": [
    "### Q9. If a data is right skewed then what will be the position of median with respect to mean? "
   ]
  },
  {
   "cell_type": "markdown",
   "id": "7ac2fad2",
   "metadata": {},
   "source": [
    "If a dataset is right-skewed, the median will be positioned to the left of the mean ie the value of median will be smaller than mean.In a right-skewed distribution, the majority of the data is concentrated towards the lower values, resulting in a long tail extending to the right. This elongated tail on the right side is caused by a few extremely high values that pull the mean towards the right. As a result, the mean gets inflated by the presence of these high values, causing it to be larger than the median.\n",
    "\n",
    "The median, on the other hand, is less influenced by extreme values or outliers because it represents the middle value of the dataset when the data is ordered. It is not affected by the specific values in the tail of the distribution.\n",
    "\n",
    "Therefore, in a right-skewed distribution, where the tail is longer on the right, the median will be closer to the bulk of the data on the left side, and it will be to the left of the mean."
   ]
  },
  {
   "cell_type": "markdown",
   "id": "b9ed1753",
   "metadata": {},
   "source": [
    "### Q10. Explain the difference between covariance and correlation. How are these measures used in statistical analysis?"
   ]
  },
  {
   "cell_type": "markdown",
   "id": "c8927dd6",
   "metadata": {},
   "source": [
    "Ans)Covariance and Correlation are useful measures in statistical analysis to assess the relationship between two variables. Covariance gives the direction of the relationship, while correlation provides a standardized measure of both direction and strength.\n",
    "\n",
    "#### Covariance:\n",
    "Covariance measures the degree to which two variables change together. It indicates whether the variables increase or decrease simultaneously. A positive covariance indicates that as one variable increases, the other tends to increase as well. Conversely, a negative covariance indicates that as one variable increases, the other tends to decrease. However, covariance alone does not provide information about the strength or direction of the relationship.\n",
    "\n",
    "Formula for Covariance (for a sample): Cov(X, Y) = Σ((Xi - X̄)(Yi - Ȳ)) / (n - 1)\n",
    "\n",
    "Where:\n",
    "\n",
    "Cov(X, Y) is the covariance between variables X and Y.\n",
    "Xi and Yi are individual data points in the X and Y datasets, respectively.\n",
    "X̄ and Ȳ are the sample means of the X and Y datasets, respectively.\n",
    "n is the number of data points in the datasets.\n",
    "\n",
    "#### Correlation:\n",
    "Correlation, on the other hand, is a standardized measure that provides the strength and direction of the relationship between two variables. It normalizes the covariance by dividing it by the product of the standard deviations of the two variables, resulting in a value between -1 and +1. A correlation of +1 indicates a perfect positive linear relationship, -1 indicates a perfect negative linear relationship, and 0 indicates no linear relationship.\n",
    "\n",
    "Formula for Correlation (for a sample): Corr(X, Y) = Cov(X, Y) / (sX * sY)\n",
    "\n",
    "Where:\n",
    "\n",
    "Corr(X, Y) is the correlation coefficient between variables X and Y.\n",
    "Cov(X, Y) is the covariance between variables X and Y.\n",
    "sX and sY are the sample standard deviations of variables X and Y, respectively.\n",
    "Both covariance and correlation are used to analyze the relationship between two variables in a dataset:\n",
    "\n",
    "#### Covariance: \n",
    "Covariance provides a measure of the direction of the relationship (positive or negative) between two variables. However, the value of covariance itself does not give information about the strength of the relationship or its significance, making it less interpretable than correlation.\n",
    "\n",
    "#### Correlation: \n",
    "Correlation provides a standardized measure of the strength and direction of the linear relationship between two variables. It is widely used because it is scale-independent, making it easier to interpret and compare across different datasets. Positive correlation values indicate that the variables move together, while negative correlation values indicate that they move in opposite directions. A correlation close to +1 or -1 indicates a strong linear relationship, while a correlation close to 0 suggests a weak or no linear relationship."
   ]
  },
  {
   "cell_type": "markdown",
   "id": "a683a778",
   "metadata": {},
   "source": [
    "### Q11. What is the formula for calculating the sample mean? Provide an example calculation for a dataset."
   ]
  },
  {
   "cell_type": "markdown",
   "id": "0b53adea",
   "metadata": {},
   "source": [
    "The sample mean is the average value of a sample (subset) taken from a population. It is used in statistics to estimate the population mean."
   ]
  },
  {
   "cell_type": "code",
   "execution_count": 15,
   "id": "22776289",
   "metadata": {},
   "outputs": [
    {
     "name": "stdout",
     "output_type": "stream",
     "text": [
      "Sample Mean: 20.0\n"
     ]
    }
   ],
   "source": [
    "sample_data = [10, 15, 20, 25, 30]\n",
    "\n",
    "# Calculate sample mean\n",
    "sample_mean = sum(sample_data) / len(sample_data)\n",
    "\n",
    "print(\"Sample Mean:\", sample_mean)\n"
   ]
  },
  {
   "cell_type": "markdown",
   "id": "b189eba6",
   "metadata": {},
   "source": [
    "### Q12. For a normal distribution data what is the relationship between its measure of central tendency?"
   ]
  },
  {
   "cell_type": "markdown",
   "id": "fca2e2d1",
   "metadata": {},
   "source": [
    "In a normal distribution, the data is perfectly symmetrical about the center. This symmetry leads to a unique relationship among the measures of central tendency:\n",
    "\n",
    "**Relationship in a Normal Distribution:**\n",
    "\n",
    "#### Mean=Median=Mode\n",
    "\n",
    "##### Explanation:\n",
    "Mean: The arithmetic average of the data.\n",
    "\n",
    "Median: The middle value when data is ordered.\n",
    "\n",
    "Mode: The most frequently occurring value.\n",
    "\n",
    "In a perfect bell-shaped (Gaussian) curve, the highest point is the mode, which is also the mean and the median because the data is evenly distributed on both sides.\n",
    "\n",
    "#### Visual Insight:\n",
    "If you were to plot a histogram of a normal distribution:\n",
    "\n",
    "The peak would represent the mode.\n",
    "\n",
    "The center of the symmetry is the median.\n",
    "\n",
    "The mean is at the same central point due to balanced values on both sides.\n",
    "\n",
    "#### Why It Matters:\n",
    "This property is important in statistics because it allows us to:\n",
    "\n",
    "Make assumptions about the distribution just by knowing one measure.\n",
    "\n",
    "Apply inferential techniques (e.g., z-scores, confidence intervals) more reliably."
   ]
  },
  {
   "cell_type": "markdown",
   "id": "54833841",
   "metadata": {},
   "source": [
    "### Q13. How is covariance different from correlation?"
   ]
  },
  {
   "cell_type": "markdown",
   "id": "365d2922",
   "metadata": {},
   "source": [
    "**Covariance** indicates the direction of a linear relationship between variables—whether they tend to increase together (positive covariance) or one tends to increase while the other decreases (negative covariance). However, it does not provide information about the strength of that relationship and its value depends on the units of the variables, making it hard to interpret across different datasets.\n",
    "\n",
    "**Correlation** not only shows the direction but also quantifies the strength of the linear relationship. It is a standardized version of covariance, always ranging between -1 and 1, where values close to -1 or 1 indicate strong relationships, and values near 0 suggest a weak or no linear relationship. Unlike covariance, correlation is unitless, which makes it more interpretable and suitable for comparing relationships across different pairs of variables."
   ]
  },
  {
   "cell_type": "markdown",
   "id": "d944362d",
   "metadata": {},
   "source": [
    "### Q14. How do outliers affect measures of central tendency and dispersion? Provide an example."
   ]
  },
  {
   "cell_type": "markdown",
   "id": "77cbb65b",
   "metadata": {},
   "source": [
    "Ans)Outliers can have a significant impact on measures of central tendency and dispersion in a dataset. An outlier is an extreme value that is unusually distant from the rest of the data points. When present in a dataset, outliers can distort the typical characteristics of the data, affecting both the central tendency and the spread of the data."
   ]
  },
  {
   "cell_type": "code",
   "execution_count": 16,
   "id": "3bf3b76a",
   "metadata": {},
   "outputs": [
    {
     "name": "stdout",
     "output_type": "stream",
     "text": [
      "--- Without Outlier ---\n",
      "Mean: 87.29\n",
      "Median: 87.0\n",
      "Mode: 86\n",
      "Standard Deviation: 1.67\n",
      "Range: 5\n",
      "\n",
      "\n"
     ]
    },
    {
     "data": {
      "image/png": "[encoded data removed]",
      "text/plain": [
       "<Figure size 432x288 with 1 Axes>"
      ]
     },
     "metadata": {
      "needs_background": "light"
     },
     "output_type": "display_data"
    },
    {
     "name": "stdout",
     "output_type": "stream",
     "text": [
      "--- With Outlier ---\n",
      "Mean: 138.88\n",
      "Median: 87.5\n",
      "Mode: 86\n",
      "Standard Deviation: 136.5\n",
      "Range: 415\n",
      "\n",
      "\n"
     ]
    },
    {
     "data": {
      "image/png": "[encoded data removed]",
      "text/plain": [
       "<Figure size 432x288 with 1 Axes>"
      ]
     },
     "metadata": {
      "needs_background": "light"
     },
     "output_type": "display_data"
    }
   ],
   "source": [
    "import numpy as np\n",
    "import statistics as stats\n",
    "import matplotlib.pyplot as plt\n",
    "import seaborn as sns\n",
    "\n",
    "# Dataset with an outlier\n",
    "data_with_outlier = [85, 87, 86, 88, 86, 89, 90, 500]\n",
    "\n",
    "# Dataset without outlier\n",
    "data_without_outlier = [85, 87, 86, 88, 86, 89, 90]\n",
    "\n",
    "def analyze_data(data, title):\n",
    "    mean = np.mean(data)\n",
    "    median = np.median(data)\n",
    "    try:\n",
    "        mode = stats.mode(data)\n",
    "    except:\n",
    "        mode = \"No unique mode\"\n",
    "    std_dev = np.std(data)\n",
    "    data_range = np.max(data) - np.min(data)\n",
    "\n",
    "    print(f\"--- {title} ---\")\n",
    "    print(\"Mean:\", round(mean, 2))\n",
    "    print(\"Median:\", median)\n",
    "    print(\"Mode:\", mode)\n",
    "    print(\"Standard Deviation:\", round(std_dev, 2))\n",
    "    print(\"Range:\", data_range)\n",
    "    print(\"\\n\")\n",
    "\n",
    "    # Plotting\n",
    "    sns.boxplot(data=data)\n",
    "    plt.title(f\"Boxplot - {title}\")\n",
    "    plt.show()\n",
    "\n",
    "# Analyze both datasets\n",
    "analyze_data(data_without_outlier, \"Without Outlier\")\n",
    "analyze_data(data_with_outlier, \"With Outlier\")\n"
   ]
  }
 ],
 "metadata": {
  "kernelspec": {
   "display_name": "Python 3 (ipykernel)",
   "language": "python",
   "name": "python3"
  },
  "language_info": {
   "codemirror_mode": {
    "name": "ipython",
    "version": 3
   },
   "file_extension": ".py",
   "mimetype": "text/x-python",
   "name": "python",
   "nbconvert_exporter": "python",
   "pygments_lexer": "ipython3",
   "version": "3.9.7"
  }
 },
 "nbformat": 4,
 "nbformat_minor": 5
}
