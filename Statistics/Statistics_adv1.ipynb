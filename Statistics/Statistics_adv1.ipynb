{
 "cells": [
  {
   "cell_type": "markdown",
   "id": "87510ceb",
   "metadata": {},
   "source": [
    "### Q1. What is the Probability density function?"
   ]
  },
  {
   "cell_type": "markdown",
   "id": "c4f76f77",
   "metadata": {},
   "source": [
    "Ans)The **Probability Density Function (PDF)** is a fundamental concept in probability theory and statistics. It describes the probability distribution of a continuous random variable. In simpler terms, the PDF is a mathematical function that characterizes the likelihood of a continuous random variable taking on a particular value within a given range.\n",
    "\n",
    "For a continuous random variable X, the PDF is denoted as f(x) and is defined as follows:\n",
    "\n",
    "The PDF is non-negative: f(x) ≥ 0 for all x.\n",
    "\n",
    "The area under the PDF curve over the entire range of X is equal to 1. In mathematical terms:\n",
    "\n",
    "∫[a, b] f(x) dx = 1,\n",
    "\n",
    "where the integral ∫[a, b] represents the area under the curve of f(x) from x = a to x = b.\n",
    "\n",
    "The PDF provides valuable information about the probability distribution of a continuous random variable. It shows how the probability is distributed over the entire range of possible values of X. However, unlike the probability mass function (PMF) used for discrete random variables, the PDF does not directly give the probability of obtaining a specific value, but rather the probability density at that point.\n",
    "\n",
    "To find the probability of X falling within a particular interval [a, b], you can integrate the PDF over that interval:\n",
    "\n",
    "P(a ≤ X ≤ b) = ∫[a, b] f(x) dx.\n",
    "\n",
    "\n",
    "1.In Statistics, it is used to calculate the probabilities associated with the random variables.  \n",
    "2.The probability density function is used in modelling the annual data of atmospheric NOx temporal concentration   \n",
    "3.It is used to model the diesel engine combustion.   "
   ]
  },
  {
   "cell_type": "markdown",
   "id": "5f1eb93c",
   "metadata": {},
   "source": [
    "### Q2. What are the types of Probability distribution?"
   ]
  },
  {
   "cell_type": "markdown",
   "id": "4108b5e6",
   "metadata": {},
   "source": [
    "#### 1. Discrete Probability Distributions\n",
    "These deal with random variables that have countable outcomes (like rolling a die).\n",
    "\n",
    "##### Bernoulli Distribution\n",
    "\n",
    "Only two outcomes: success (1) or failure (0).\n",
    "\n",
    "Example: Tossing a coin once.\n",
    "\n",
    "##### Binomial Distribution\n",
    "\n",
    "Number of successes in a fixed number of independent trials.\n",
    "\n",
    "Example: Tossing a coin 10 times and counting heads.\n",
    "\n",
    "##### Poisson Distribution\n",
    "\n",
    "Counts the number of events in a fixed time or space interval.\n",
    "\n",
    "Example: Number of customer arrivals per hour.\n",
    "\n",
    "##### Geometric Distribution\n",
    "\n",
    "Counts the number of trials until the first success.\n",
    "\n",
    "Example: Tossing a coin until you get heads.\n",
    "\n",
    "#### 2. Continuous Probability Distributions\n",
    "These deal with random variables that can take any value within a range.\n",
    "\n",
    "##### Normal Distribution (Gaussian)\n",
    "\n",
    "Bell-shaped, symmetric around the mean.\n",
    "\n",
    "Example: Human heights, exam scores.\n",
    "\n",
    "##### Exponential Distribution\n",
    "\n",
    "Time between events in a Poisson process.\n",
    "\n",
    "Example: Time between arrivals at a bus stop.\n",
    "\n",
    "##### Uniform Distribution\n",
    "\n",
    "All outcomes are equally likely over a range.\n",
    "\n",
    "Example: Random number between 0 and 1.\n",
    "\n",
    "##### Log-Normal Distribution\n",
    "\n",
    "A variable whose logarithm is normally distributed.\n",
    "\n",
    "Example: Distribution of income or stock prices.\n",
    "\n",
    "##### Beta Distribution\n",
    "\n",
    "Defined on the interval [0, 1], used in Bayesian statistics.\n",
    "\n",
    "Example: Modeling probabilities in machine learning."
   ]
  },
  {
   "cell_type": "markdown",
   "id": "2f45b2d6",
   "metadata": {},
   "source": [
    "### Q3. Write a Python function to calculate the probability density function of a normal distribution with given mean and standard deviation at a given point."
   ]
  },
  {
   "cell_type": "markdown",
   "id": "06d661cc",
   "metadata": {},
   "source": [
    "Probability Density Function (PDF) of a Normal Distribution at a given point using the formula:"
   ]
  },
  {
   "attachments": {
    "image.png": {
     "image/png": "[encoded data removed]"
    }
   },
   "cell_type": "markdown",
   "id": "407f844c",
   "metadata": {},
   "source": [
    "![image.png](attachment:image.png)\n",
    "\n",
    "\n",
    "Where:\n",
    "\n",
    "μ = mean\n",
    "\n",
    "σ = standard deviation\n",
    "\n",
    "x = the value at which PDF is evaluated\n",
    "\n"
   ]
  },
  {
   "cell_type": "code",
   "execution_count": 2,
   "id": "492c8cbb",
   "metadata": {},
   "outputs": [
    {
     "data": {
      "text/plain": [
       "0.0044318484119380075"
      ]
     },
     "execution_count": 2,
     "metadata": {},
     "output_type": "execute_result"
    }
   ],
   "source": [
    "import math\n",
    "\n",
    "def normal_pdf(x, mean, std_dev):\n",
    "    variance = std_dev ** 2\n",
    "    exponent = -((x - mean) ** 2) / (2 * variance)\n",
    "    coefficient = 1 / math.sqrt(2 * math.pi * variance)\n",
    "    pdf = coefficient * math.exp(exponent)\n",
    "    return pdf\n",
    "\n",
    "#probability density function for x=5 ,mean = 2 and standard devaiation = 1\n",
    "normal_pdf(5,2,1)"
   ]
  },
  {
   "cell_type": "markdown",
   "id": "2d0a12e2",
   "metadata": {},
   "source": [
    "### Q4. What are the properties of Binomial distribution? Give two examples of events where binomial distribution can be applied."
   ]
  },
  {
   "cell_type": "markdown",
   "id": "3184c43d",
   "metadata": {},
   "source": [
    "The binomial distribution is a discrete probability distribution that models the number of successes in a fixed number of independent Bernoulli trials. A Bernoulli trial is an experiment with two possible outcomes: success (usually represented by \"1\") and failure (usually represented by \"0\").\n",
    "\n",
    "The binomial distribution has the following properties:\n",
    "\n",
    "Fixed Number of Trials (n): The binomial distribution requires a fixed number of independent trials, denoted by \"n.\" Each trial is assumed to be independent of the others, meaning the outcome of one trial does not affect the outcome of the others.\n",
    "\n",
    "Two Outcomes: Each trial can result in one of two possible outcomes: success or failure. The probability of success on any given trial is denoted by \"p,\" and the probability of failure is denoted by \"q,\" where q = 1 - p.\n",
    "\n",
    "Independent and Identically Distributed: The outcomes of each trial are independent and have the same probability of success (p) and failure (q).\n",
    "\n",
    "Discrete: The binomial distribution deals with discrete random variables, meaning that the number of successes must be a whole number.\n",
    "\n",
    "Probability Mass Function (PMF): The probability mass function of the binomial distribution is given by the formula:\n",
    "\n",
    "P(X = k) = C(n, k) * p^k * q^(n-k)\n",
    "\n",
    "where:\n",
    "\n",
    "P(X = k) is the probability of getting exactly \"k\" successes in \"n\" trials. C(n, k) represents the number of ways to choose \"k\" successes out of \"n\" trials, also known as the binomial coefficient (n choose k).\n",
    "\n",
    "Examples of events where the binomial distribution can be applied:\n",
    "\n",
    "Coin Flips: Consider a fair coin being flipped 10 times. Each flip has two possible outcomes: getting a head (success) with a probability of 0.5 and getting a tail (failure) with the same probability. The number of heads obtained in these 10 flips can be modeled using a binomial distribution.\n",
    "\n",
    "Quality Control: A manufacturer tests a batch of 100 light bulbs, where each bulb has a probability of 0.95 of passing quality control (success) and a probability of 0.05 of failing (failure). The number of bulbs that pass quality control out of the 100 bulbs can be modeled using a binomial distribution."
   ]
  },
  {
   "cell_type": "markdown",
   "id": "95ac952c",
   "metadata": {},
   "source": [
    "### Q5. Generate a random sample of size 1000 from a binomial distribution with probability of success 0.4 and plot a histogram of the results using matplotlib."
   ]
  },
  {
   "cell_type": "code",
   "execution_count": 3,
   "id": "b8083a94",
   "metadata": {},
   "outputs": [
    {
     "data": {
      "image/png": "[encoded data removed]",
      "text/plain": [
       "<Figure size 432x216 with 1 Axes>"
      ]
     },
     "metadata": {
      "needs_background": "light"
     },
     "output_type": "display_data"
    }
   ],
   "source": [
    "import numpy as np\n",
    "import matplotlib.pyplot as plt\n",
    "\n",
    "# Generate a random sample of size 1000 from a Binomial distribution\n",
    "n = 1000  # Sample size\n",
    "p = 0.4  # Probability of success\n",
    "sample = np.random.binomial(n, p, size=1000)\n",
    "\n",
    "# Plot a histogram of the results using Fredman diaconis rule i.e. bins='fd'\n",
    "plt.figure(figsize=(6,3))\n",
    "plt.hist(sample,bins='fd',density=True, edgecolor='black')\n",
    "plt.xlabel('Number of Successes')\n",
    "plt.ylabel('Probability')\n",
    "plt.title('Binomial Distribution (n=1000, p=0.4)')\n",
    "plt.show()"
   ]
  },
  {
   "cell_type": "markdown",
   "id": "c4356b24",
   "metadata": {},
   "source": [
    "### Q6. Write a Python function to calculate the cumulative distribution function of a Poisson distribution with given mean at a given point."
   ]
  },
  {
   "cell_type": "markdown",
   "id": "297fcf51",
   "metadata": {},
   "source": [
    "The Cumulative Distribution Function (CDF) of a Poisson distribution gives the probability that a Poisson-distributed random variable is less than or equal to a given value 𝑥."
   ]
  },
  {
   "attachments": {
    "image.png": {
     "image/png": "[encoded data removed]"
    }
   },
   "cell_type": "markdown",
   "id": "ca8d8789",
   "metadata": {},
   "source": [
    "The CDF is calculated as:\n",
    "\n",
    "![image.png](attachment:image.png)\n",
    "\n",
    "\n",
    "Where:\n",
    "\n",
    "λ = mean (rate parameter)\n",
    "\n",
    "\n",
    "x = point at which the CDF is evaluated (can be a non-integer, but only the floor is used)\n",
    "\n",
    "\n",
    "k = running integer from 0 to [x]\n"
   ]
  },
  {
   "cell_type": "code",
   "execution_count": 5,
   "id": "5c3935cc",
   "metadata": {},
   "outputs": [
    {
     "name": "stdout",
     "output_type": "stream",
     "text": [
      "Poison cdf for mean = 6 at x = 2 is 0.06196880441665896\n",
      "Poison cdf using scipy.stats library for mean = 6 at x = 2 is 0.06196880441665898\n"
     ]
    }
   ],
   "source": [
    "import math\n",
    "\n",
    "def poisson_cdf(mean, point):\n",
    "    cdf = 0\n",
    "    for k in range(point + 1):\n",
    "        cdf = cdf + math.exp(-mean) * pow(mean, k) / math.factorial(k)\n",
    "    return cdf\n",
    "\n",
    "\n",
    "#Calculating cdf for mean =6 ,x=2\n",
    "result = poisson_cdf(mean=6,point=2)\n",
    "print(f'Poison cdf for mean = 6 at x = 2 is {result}')\n",
    "\n",
    "\n",
    "#Verifying the above value by importing poission from scipy.stats\n",
    "from scipy.stats import poisson\n",
    "print(f'Poison cdf using scipy.stats library for mean = 6 at x = 2 is {poisson.cdf(2,mu=6)}')"
   ]
  },
  {
   "cell_type": "markdown",
   "id": "3594f9ff",
   "metadata": {},
   "source": [
    "### Q7. How Binomial distribution different from Poisson distribution?"
   ]
  },
  {
   "cell_type": "markdown",
   "id": "d63d7704",
   "metadata": {},
   "source": [
    "The **Binomial distribution** is used when there is a fixed number of independent trials, each with the same probability of success. It describes the probability of getting a certain number of successes (like heads in coin flips) in a set number of trials. The main parameters for the binomial distribution are the number of trials (n) and the probability of success (p).\n",
    "\n",
    "In contrast, the **Poisson distribution** is used to model the number of events occurring within a fixed interval of time or space, assuming these events occur independently and at a constant average rate. It does not require a fixed number of trials, and the only parameter is the average rate of occurrence (λ). Essentially, the Binomial distribution is ideal for scenarios with a defined number of trials and a success/failure outcome, whereas the Poisson distribution is better suited for counting random, rare events over time or space without a set number of attempts. "
   ]
  },
  {
   "cell_type": "markdown",
   "id": "6347ba1b",
   "metadata": {},
   "source": [
    "### Q8. Generate a random sample of size 1000 from a Poisson distribution with mean 5 and calculate the sample mean and variance."
   ]
  },
  {
   "cell_type": "code",
   "execution_count": 6,
   "id": "bc851b20",
   "metadata": {},
   "outputs": [
    {
     "name": "stdout",
     "output_type": "stream",
     "text": [
      "Poission Sample Mean : 4.951\n",
      "Poission Sample Variance : 4.956599\n"
     ]
    }
   ],
   "source": [
    "import numpy as np\n",
    "\n",
    "# Set the random seed for reproducibility\n",
    "np.random.seed(4)\n",
    "\n",
    "#Lam: Known number of occurrences \n",
    "#Size: The shape of the returned array\n",
    "samp = np.random.poisson(lam=5,size=1000)\n",
    "\n",
    "sample_mean = np.mean(samp)\n",
    "sample_variance = np.var(samp)\n",
    "\n",
    "print(\"Poission Sample Mean :\", sample_mean)\n",
    "print(\"Poission Sample Variance :\", sample_variance)"
   ]
  },
  {
   "cell_type": "markdown",
   "id": "9b3fb0f7",
   "metadata": {},
   "source": [
    "### Q9. How mean and variance are related in Binomial distribution and Poisson distribution?"
   ]
  },
  {
   "cell_type": "markdown",
   "id": "2ce976c7",
   "metadata": {},
   "source": [
    "Here's how mean and variance are related in both Binomial and Poisson distributions:\n",
    "\n",
    "#### Binomial Distribution\n",
    "In a binomial distribution:\n",
    "\n",
    "Let 𝑛\n",
    "n = number of trials\n",
    "\n",
    "Let 𝑝\n",
    "p = probability of success\n",
    "\n",
    "Then:\n",
    "\n",
    "Mean (μ) = n⋅p\n",
    "\n",
    "Variance (σ²) = n⋅p⋅(1−p)\n",
    "\n",
    "So, the variance depends on both the probability of success and failure. If p is near 0 or 1, variance becomes small.\n",
    "\n",
    "#### Poisson Distribution\n",
    "In a Poisson distribution:\n",
    "\n",
    "Let \n",
    "\n",
    "λ = average rate of occurrences (mean)\n",
    "\n",
    "Then:\n",
    "\n",
    "Mean (μ) = λ\n",
    "\n",
    "Variance (σ²) = λ\n",
    "\n",
    "Here, the mean and variance are equal. This is a unique and defining feature of the Poisson distribution.\n",
    "\n"
   ]
  },
  {
   "cell_type": "markdown",
   "id": "681ca02d",
   "metadata": {},
   "source": [
    "### Q10. In normal distribution with respect to mean position, where does the least frequent data appear?"
   ]
  },
  {
   "cell_type": "markdown",
   "id": "d1086690",
   "metadata": {},
   "source": [
    "In a normal distribution, also known as a Gaussian distribution, the least frequent data appears at the tails of the distribution, farthest away from the mean.\n",
    "\n",
    "The normal distribution is a symmetric probability distribution, meaning that it is evenly distributed around the mean and the following condition is true.\n",
    "\n",
    "Mean = Median = Mode\n",
    "\n",
    "The highest frequency of data points occurs around the mean, and as we move away from the mean in either direction, the frequency of data points gradually decreases. At the tails of the normal distribution, the data becomes increasingly rare, and the frequency of data points drops significantly. These tails extend indefinitely in both directions.\n",
    "\n",
    "In a normal distribution, the least frequent data appears far away from the mean, at the extreme left and right tails of the distribution."
   ]
  },
  {
   "cell_type": "code",
   "execution_count": 8,
   "id": "caac510d",
   "metadata": {},
   "outputs": [
    {
     "data": {
      "image/png": "[encoded data removed]",
      "text/plain": [
       "<Figure size 720x432 with 1 Axes>"
      ]
     },
     "metadata": {
      "needs_background": "light"
     },
     "output_type": "display_data"
    }
   ],
   "source": [
    "import numpy as np\n",
    "import matplotlib.pyplot as plt\n",
    "from scipy.stats import norm\n",
    "\n",
    "# Parameters for the normal distribution\n",
    "mean = 0\n",
    "std_dev = 1\n",
    "\n",
    "# Generate values\n",
    "x = np.linspace(mean - 4*std_dev, mean + 4*std_dev, 1000)\n",
    "y = norm.pdf(x, mean, std_dev)\n",
    "\n",
    "# Plot the normal distribution\n",
    "plt.figure(figsize=(10, 6))\n",
    "plt.plot(x, y, label='Normal Distribution', color='blue')\n",
    "\n",
    "# Highlight the tails (least frequent data)\n",
    "plt.fill_between(x, y, where=(x < mean - 2*std_dev) | (x > mean + 2*std_dev), \n",
    "                 color='red', alpha=0.4, label='Least Frequent Data (Tails)')\n",
    "\n",
    "# Add vertical line for mean\n",
    "plt.axvline(mean, color='black', linestyle='--', label='Mean')\n",
    "\n",
    "# Labels and legend\n",
    "plt.title('Normal Distribution: Least Frequent Data in Tails')\n",
    "plt.xlabel('Value')\n",
    "plt.ylabel('Probability Density')\n",
    "plt.legend()\n",
    "plt.grid(True)\n",
    "plt.show()\n"
   ]
  }
 ],
 "metadata": {
  "kernelspec": {
   "display_name": "Python 3 (ipykernel)",
   "language": "python",
   "name": "python3"
  },
  "language_info": {
   "codemirror_mode": {
    "name": "ipython",
    "version": 3
   },
   "file_extension": ".py",
   "mimetype": "text/x-python",
   "name": "python",
   "nbconvert_exporter": "python",
   "pygments_lexer": "ipython3",
   "version": "3.9.7"
  }
 },
 "nbformat": 4,
 "nbformat_minor": 5
}
