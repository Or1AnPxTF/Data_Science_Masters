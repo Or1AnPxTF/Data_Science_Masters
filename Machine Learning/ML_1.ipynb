{
 "cells": [
  {
   "cell_type": "markdown",
   "id": "8747888c",
   "metadata": {},
   "source": [
    "### Q1: Explain the following with an example:  \n",
    "a) Artificial Intelligence  \n",
    "b) Machine Learning  \n",
    "c) Deep Learning  "
   ]
  },
  {
   "cell_type": "markdown",
   "id": "3864e958",
   "metadata": {},
   "source": [
    "#### Artificial Intelligence: \n",
    "It refers to the stimulation of human intelligence in machines that are programmed to think and learn like humans.AI enables machines to perform tasks such as problem solving,decision making,speech recogoniztion and languauage translation which typically use human intelligence.\n",
    "\n",
    "Example :   \n",
    "The AI bots like Siri and Google assistant which perform human intelligence tasks based on the way we speak.\n",
    "ChatGpt is also an example AI which posseses human intelligence and perform tasks based on the input we provide\n",
    "\n",
    "#### Machine Learning :\n",
    "It is the subset of AI which involves the development of algorithms and statistical models that invloves computers which allows computers to learn from experience without being mannually programmed/instructed . The system learns from the data and make predictions or decisions based on the patterns and insights found on the data.\n",
    "\n",
    "Example:   \n",
    "Consider Email spam filtering system here instead of hard-coding rules for identifying spam emails, a machine learning algorithm can be trained on a dataset of labeled emails (spam or non-spam) and then the algorithm learns to recognize patterns and characteristics associated with spam emails, allowing it to automatically classify future emails as spam or not.\n",
    "\n",
    "#### Deep Learning :\n",
    "It is a specialized subset of Machine Learning that uses neural networks to model and solve complex problems and is particularly effective in handling large amounts of unstructered data such as images,audio and text.\n",
    "\n",
    "Example:  \n",
    "Image recognition is a common application of deep learning. Here a deep learning model called a Convolutional Neural Network (CNN) can be trained to identify objects in images. By feeding the network a vast dataset of labeled images, it learns to recognize features and patterns in the images. Once trained, the CNN can accurately identify objects in new, unseen images, even if the objects have slight variations in position or appearance."
   ]
  },
  {
   "cell_type": "markdown",
   "id": "8cca5f4e",
   "metadata": {},
   "source": [
    "### Q2: What is supervised learning? List some examples of supervised learning."
   ]
  },
  {
   "cell_type": "markdown",
   "id": "84ecc08b",
   "metadata": {},
   "source": [
    "**Supervised Learning** is a type of machine learning where the algorithm is trained on labelled dataset ie. each input in the training data is associated with the corresponding correct output.During the training the algorithm learns to map inputs to the correct outputs and once trained it can make predictions on the new input data.\n",
    "\n",
    "Examples of supervised learning are :\n",
    "\n",
    "Email Spam Classification : The algorithm is trained on a dataset of emails labeled as spam or not spam. It learns to distinguish between the two labels spam and non-spam emails and can be used to classify new incoming emails.\n",
    "\n",
    "Sentiment Analysis : In this, the algorithm is trained on a dataset of text documents (e.g., customer reviews) along with their associated sentiment labels (positive, negative, neutral). The algorithm learns to predict the sentiments of new text data.\n",
    "\n",
    "House Price Prediction : Say we are given a dataset of houses with features like square footage, number of bedrooms, location, etc., along with their actual sale prices, a supervised learning algorithm can be trained to predict the prices of new houses based on their existing features.\n",
    "\n",
    "Image Classification: A dataset of images with corresponding labels indicating the objects present in the images (e.g., cats, dogs, table, chair , etc.), a supervised learning algorithm can be trained to classify new images into these categories.\n",
    "In supervised Learning the key aspect is that the training data is labeled, allowing the algorithm to learn the mapping between inputs and outputs and make accurate predictions on new, unseen data."
   ]
  },
  {
   "cell_type": "markdown",
   "id": "c9dd1fee",
   "metadata": {},
   "source": [
    "### Q3: What is unsupervised learning? List some examples of unsupervised learning."
   ]
  },
  {
   "cell_type": "markdown",
   "id": "9db7a835",
   "metadata": {},
   "source": [
    "**Unsupervised Learning** is a type of machine learning where the algorithmn is trained on an unlabelled dataset ie. the data does not have corresponding output labels.The goal of unsupervised learning is to find patterns structures and relationships within the data without explicint guidance.Here,instead of predicting specific outputs the algorithm attempts to identify inherit structures and groupings in the data\n",
    "\n",
    "Examples of Unsupervised Learning are:\n",
    "\n",
    "Customer Segmentation : This comes under the catergory of Clustering .Here the algorithm groups the similar data points together based on thier inherit charecteristics. Say for example we are using kmeans clustering algorithm here the data is divided into k cluster each representing its centeroid. Here customers are grouped on bases of specific metrices.\n",
    "\n",
    "Fraud Detection : This comes under category of anomaly detection.Here unsupervised Learning can be used to detect outliers in the data .The algorithm learns patterns from majority of the data and detects the points that deviate from the patterns obtained from the majority of the data.\n",
    "\n",
    "Dimensionality Reduction : This techinque aims to reduce the number of features in the dataset while peserving the important information.Principal Component Analysis (PCA) is a common unsupervised learning method used for dimensionality reduction. It helps in visualizing high-dimensional data, compressing data for efficient storage, and improving the performance of other machine learning algorithms."
   ]
  },
  {
   "cell_type": "markdown",
   "id": "26e14f4d",
   "metadata": {},
   "source": [
    "### Q4: What is the difference between AI, ML, DL, and DS?"
   ]
  },
  {
   "cell_type": "markdown",
   "id": "2a196da2",
   "metadata": {},
   "source": [
    "**Artificial Intelligence** (AI) is the broadest concept that refers to machines or systems mimicking human intelligence. AI enables systems to perform tasks such as reasoning, problem-solving, understanding language, and learning from experience. It includes everything from rule-based systems to advanced robotics and encompasses both machine learning and deep learning.\n",
    "\n",
    "**Machine Learning (ML)** is a subset of AI that focuses on building algorithms that allow systems to learn from data and improve over time without being explicitly programmed. It relies on statistical methods to identify patterns in data and make predictions or decisions. Common ML techniques include regression, classification, clustering, and recommendation systems.\n",
    "\n",
    "**Deep Learning (DL)** is a subset of machine learning that uses neural networks with multiple layers (hence \"deep\") to model complex patterns in large datasets. It is particularly powerful for image recognition, speech processing, and natural language tasks. DL requires more data and computing power but often delivers higher accuracy.\n",
    "\n",
    "**Data Science (DS)** combines domain knowledge, programming, and statistical skills to extract insights from data. It covers the entire data pipeline: data collection, cleaning, analysis, visualization, and decision-making. Data Science often uses AI, ML, and DL techniques to solve business problems and drive data-driven strategies."
   ]
  },
  {
   "cell_type": "markdown",
   "id": "020c6445",
   "metadata": {},
   "source": [
    "### Q5: What are the main differences between supervised, unsupervised, and semi-supervised learning?"
   ]
  },
  {
   "cell_type": "markdown",
   "id": "16c05fe5",
   "metadata": {},
   "source": [
    "#### Supervised Learning:\n",
    "\n",
    "1.Training Data: In supervised learning, the algorithm is trained on a labeled dataset, where each input data point is associated with the corresponding output label.\n",
    "2.Learning Objective: The primary goal of supervised learning is to learn a mapping between inputs and outputs so that the algorithm can make accurate predictions on new, unseen data. It learns from the labeled examples provided during training.\n",
    "Example: In image classification, a supervised learning algorithm is trained on a dataset of images along with their corresponding labels (e.g., cats or dogs). The algorithm learns to associate image features with the correct labels, allowing it to classify new images.\n",
    "\n",
    "#### Unsupervised Learning:\n",
    "\n",
    "1.Training Data: In unsupervised learning, the algorithm is trained on an unlabeled dataset, meaning there are no corresponding output labels provided during training.\n",
    "2.Learning Objective: The main goal of unsupervised learning is to discover patterns, structures, or relationships within the data without explicit guidance from labeled examples. The algorithm tries to find inherent groupings or similarities in the data.\n",
    "Example: In clustering, an unsupervised learning algorithm groups similar data points together based on their similarities. For example, it can be used to segment customers based on their buying behavior without having prior knowledge of their categories.\n",
    "\n",
    "#### Semi-Supervised Learning:\n",
    "\n",
    "1.Training Data: Semi-supervised learning combines elements of both supervised and unsupervised learning. It uses a dataset that contains a mix of labeled and unlabeled data.\n",
    "2.Learning Objective: The objective of semi-supervised learning is to leverage the labeled data to improve the learning process on the unlabeled data. The algorithm aims to learn from the limited labeled examples and the underlying structure of the unlabeled data.\n",
    "Example: In semi-supervised image classification, the algorithm may have a small subset of labeled images and a much larger set of unlabeled images. By leveraging the labeled data and the patterns found in the unlabeled data, the algorithm can generalize better and improve its classification accuracy."
   ]
  },
  {
   "cell_type": "markdown",
   "id": "711aa089",
   "metadata": {},
   "source": [
    "### Q6: What is train, test and validation split? Explain the importance of each term."
   ]
  },
  {
   "cell_type": "markdown",
   "id": "d0d32de2",
   "metadata": {},
   "source": [
    "In machine learning, the process of splitting a dataset into three subsets: training set, test set, and validation set is known as \"train-test-validation split.\" Each subset serves a specific purpose in the machine learning workflow.\n",
    "\n",
    "Let us understand train test validation split with the help of a example:\n",
    "Suppose you are preparing for IIT exams the books available in the market serves as training part.\n",
    "The additional books which are missed out serves as validation part.\n",
    "Finally the Exam ocuring serves as the testing part where our assesment is done.\n",
    "\n",
    "#### Training Set:\n",
    "\n",
    "Importance: The training set is the portion of the dataset used to train the machine learning model. It contains a large amount of labeled data, where both the input features and the corresponding output labels are provided.\n",
    "Purpose: During the training phase, the model learns from the patterns and relationships present in the training data. The objective is to develop a model that generalizes well to unseen data by learning from the patterns in the training set.\n",
    "\n",
    "#### Test Set:\n",
    "\n",
    "Importance: The test set is a separate portion of the dataset that is not used during the training phase. It is used to evaluate the performance and generalization capability of the trained model.\n",
    "Purpose: After the model has been trained on the training set, it is evaluated on the test set to assess how well it performs on unseen data. The test set acts as a proxy for real-world data, and its evaluation provides insights into the model's ability to make accurate predictions on new, unseen examples.\n",
    "\n",
    "#### Validation Set:\n",
    "\n",
    "1.Importance: The validation set is a subset of the training data that is used to tune hyperparameters and assess the model's performance during training.\n",
    "2.Purpose: During the training process, models may have hyperparameters (e.g., learning rate, number of hidden layers, etc.) that need to be set before training. The validation set is used to try out different hyperparameter configurations and select the best one based on the performance on the validation set. It helps prevent overfitting, where a model performs well on the training data but poorly on new data."
   ]
  },
  {
   "cell_type": "markdown",
   "id": "19eef338",
   "metadata": {},
   "source": [
    "### Q7: How can unsupervised learning be used in anomaly detection?"
   ]
  },
  {
   "cell_type": "markdown",
   "id": "5b7c414b",
   "metadata": {},
   "source": [
    "Unsupervised learning is particularly well-suited for anomaly detection because it does not require labeled data, and anomalies are often rare and hard to obtain sufficient labeled examples for supervised learning. Anomaly detection with unsupervised learning involves identifying data points that deviate significantly from the majority of the data, indicating potential anomalies. Here's a general approach to using unsupervised learning for anomaly detection:\n",
    "\n",
    "1.Data Preprocessing:\n",
    "Prepare the dataset: Ensure that the data is properly formatted and normalized, so different features have similar scales. This step is crucial as many unsupervised algorithms are sensitive to the scale of features.\n",
    "\n",
    "2.Feature Selection/Extraction:\n",
    "Depending on the dataset, feature selection or extraction techniques may be applied to retain only the most relevant and informative features, which can help improve the performance of anomaly detection.\n",
    "\n",
    "3.Unsupervised Learning Algorithm:\n",
    "Choose an appropriate unsupervised learning algorithm for anomaly detection. Common techniques used in anomaly detection include:\n",
    "\n",
    "4.Density-Based Methods: \n",
    "Algorithms like DBSCAN (Density-Based Spatial Clustering of Applications with Noise) can be used to identify regions of high density as normal and data points with low density as anomalies.\n",
    "\n",
    "5.Clustering Methods: K-means or hierarchical clustering can be used to cluster normal data points, and any data point that does not belong to any cluster or belongs to a tiny cluster can be considered an anomaly.\n",
    "\n",
    "6.Autoencoders: \n",
    "These neural network architectures can be used for feature extraction and anomaly detection. An autoencoder is trained to reconstruct the input data, and data points with high reconstruction errors may be flagged as anomalies.\n",
    "\n",
    "7.Threshold Selection:\n",
    "After applying the unsupervised learning algorithm, a threshold needs to be set to classify data points as normal or anomalous. The threshold can be determined based on the characteristics of the data or using statistical methods, such as mean and standard deviation.\n",
    "\n",
    "8.Evaluation:\n",
    "Evaluate the performance of the anomaly detection system using appropriate metrics, such as precision, recall, F1-score, or area under the Receiver Operating Characteristic (ROC) curve.\n",
    "\n",
    "9.Adaptive Models:\n",
    "Anomaly detection may require adaptability to changing data patterns. Some unsupervised learning methods can be used in online or incremental learning settings, enabling the model to continuously update itself to handle evolving anomalies."
   ]
  },
  {
   "cell_type": "markdown",
   "id": "19881deb",
   "metadata": {},
   "source": [
    "### Q8: List down some commonly used supervised learning algorithms and unsupervised learning algorithms."
   ]
  },
  {
   "cell_type": "markdown",
   "id": "1fa485a0",
   "metadata": {},
   "source": [
    "#### Supervised Learning Algorithms (used when data has labels):\n",
    "\n",
    "1.Linear Regression\n",
    "\n",
    "2.Logistic Regression\n",
    "\n",
    "3.Decision Trees\n",
    "\n",
    "4.Random Forest\n",
    "\n",
    "5.Support Vector Machines (SVM)\n",
    "\n",
    "6.K-Nearest Neighbors (KNN)\n",
    "\n",
    "7.Naive Bayes\n",
    "\n",
    "8.Gradient Boosting Machines (e.g., XGBoost, LightGBM)\n",
    "\n",
    "9.Neural Networks\n",
    "\n",
    "#### Unsupervised Learning Algorithms (used when data has no labels):\n",
    "\n",
    "1.K-Means Clustering\n",
    "\n",
    "2.Hierarchical Clustering\n",
    "\n",
    "3.DBSCAN (Density-Based Spatial Clustering)\n",
    "\n",
    "4.Principal Component Analysis (PCA)\n",
    "\n",
    "5.Independent Component Analysis (ICA)\n",
    "\n",
    "6.t-SNE (t-distributed Stochastic Neighbor Embedding)\n",
    "\n",
    "7.Autoencoders\n",
    "\n",
    "8.Gaussian Mixture Models (GMM)"
   ]
  }
 ],
 "metadata": {
  "kernelspec": {
   "display_name": "Python 3 (ipykernel)",
   "language": "python",
   "name": "python3"
  },
  "language_info": {
   "codemirror_mode": {
    "name": "ipython",
    "version": 3
   },
   "file_extension": ".py",
   "mimetype": "text/x-python",
   "name": "python",
   "nbconvert_exporter": "python",
   "pygments_lexer": "ipython3",
   "version": "3.9.7"
  }
 },
 "nbformat": 4,
 "nbformat_minor": 5
}
