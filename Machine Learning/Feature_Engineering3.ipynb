{
 "cells": [
  {
   "cell_type": "markdown",
   "id": "7fb96df1",
   "metadata": {},
   "source": [
    "### Q1. What is data encoding? How is it useful in data science?"
   ]
  },
  {
   "cell_type": "markdown",
   "id": "0cc20218",
   "metadata": {},
   "source": [
    "Ans)**Data encoding**, also known as data transformation or data conversion, is the process of converting data from one representation or format to another. In the context of data science, data encoding is used to convert categorical or textual data into numerical form, which is more suitable for machine learning algorithms and data analysis.\n",
    "\n",
    "Data encoding is useful for several reasons:\n",
    "\n",
    "**Numerical Representation:** Many machine learning algorithms and statistical models require numerical inputs. Data encoding enables the conversion of categorical features, such as gender (e.g., \"male\" and \"female\") or city names, into numerical values (e.g., 0 and 1, or 1, 2, 3, etc.) that can be processed by these algorithms.\n",
    "\n",
    "**Data Standardization:** Data encoding helps to standardize data across different sources or systems. By converting data to a common numerical format, data scientists can work with consistent representations of categorical variables.\n",
    "\n",
    "**Efficient Computation:** Numerical data is easier and faster to compute compared to text or categorical data. Machine learning algorithms often involve extensive mathematical operations, and encoding data into numerical form can significantly speed up the computation process.\n",
    "\n",
    "**Feature Engineering:** Data encoding is an essential part of feature engineering, where data scientists transform raw data into meaningful features that can enhance model performance and predictive accuracy.\n",
    "\n",
    "**Handling Missing Values:** Data encoding can also help in handling missing values. For example, if a categorical feature contains missing values, data encoding can assign a specific value to represent those missing entries.\n",
    "\n",
    "##### Common methods of data encoding in data science include:\n",
    "\n",
    "1.Label Encoding: Assigning unique integers to each category in a categorical variable.   \n",
    "2.One-Hot Encoding: Creating binary columns for each category, indicating the presence (1) or absence (0) of that category.   \n",
    "3.Ordinal Encoding: Assigning integers to categories based on a predefined order or ranking.     \n",
    "4.Binary Encoding: Converting categories to binary representation and then encoding them as integers.    \n",
    "5.Hash Encoding: Using hash functions to convert categories into numerical representations.    "
   ]
  },
  {
   "cell_type": "markdown",
   "id": "409f7aa0",
   "metadata": {},
   "source": [
    "### Q2. What is nominal encoding? Provide an example of how you would use it in a real-world scenario."
   ]
  },
  {
   "cell_type": "markdown",
   "id": "79a17734",
   "metadata": {},
   "source": [
    "Ans)One hot encoding, also known as nominal encoding, is a technique used to represent categorical data as numerical data, which is more suitable for machine learning algorithms. In this technique, each category is represented as a binary vector where each bit corresponds to a unique category."
   ]
  },
  {
   "cell_type": "code",
   "execution_count": 10,
   "id": "ba4627e6",
   "metadata": {},
   "outputs": [
    {
     "data": {
      "text/html": [
       "<div>\n",
       "<style scoped>\n",
       "    .dataframe tbody tr th:only-of-type {\n",
       "        vertical-align: middle;\n",
       "    }\n",
       "\n",
       "    .dataframe tbody tr th {\n",
       "        vertical-align: top;\n",
       "    }\n",
       "\n",
       "    .dataframe thead th {\n",
       "        text-align: right;\n",
       "    }\n",
       "</style>\n",
       "<table border=\"1\" class=\"dataframe\">\n",
       "  <thead>\n",
       "    <tr style=\"text-align: right;\">\n",
       "      <th></th>\n",
       "      <th>Car Model</th>\n",
       "      <th>Fuel Type</th>\n",
       "    </tr>\n",
       "  </thead>\n",
       "  <tbody>\n",
       "    <tr>\n",
       "      <th>0</th>\n",
       "      <td>Volkswagon Vento</td>\n",
       "      <td>Diesel</td>\n",
       "    </tr>\n",
       "    <tr>\n",
       "      <th>1</th>\n",
       "      <td>Mecedes GLA 200</td>\n",
       "      <td>Ptrol</td>\n",
       "    </tr>\n",
       "    <tr>\n",
       "      <th>2</th>\n",
       "      <td>Tata Nexon</td>\n",
       "      <td>Electric</td>\n",
       "    </tr>\n",
       "    <tr>\n",
       "      <th>3</th>\n",
       "      <td>BMWX5</td>\n",
       "      <td>Petrol</td>\n",
       "    </tr>\n",
       "    <tr>\n",
       "      <th>4</th>\n",
       "      <td>Maruthi Grand Vitata</td>\n",
       "      <td>Hybrid</td>\n",
       "    </tr>\n",
       "    <tr>\n",
       "      <th>5</th>\n",
       "      <td>XUV500</td>\n",
       "      <td>Diesel</td>\n",
       "    </tr>\n",
       "  </tbody>\n",
       "</table>\n",
       "</div>"
      ],
      "text/plain": [
       "             Car Model  Fuel Type\n",
       "0      Volkswagon Vento    Diesel\n",
       "1       Mecedes GLA 200     Ptrol\n",
       "2            Tata Nexon  Electric\n",
       "3                 BMWX5    Petrol\n",
       "4  Maruthi Grand Vitata    Hybrid\n",
       "5                XUV500    Diesel"
      ]
     },
     "execution_count": 10,
     "metadata": {},
     "output_type": "execute_result"
    }
   ],
   "source": [
    "#For example, if we have a dataset that contains Car Model and Fuel Type:\n",
    "import pandas as pd\n",
    "\n",
    "data = {\"Car Model \": ['Volkswagon Vento','Mecedes GLA 200','Tata Nexon','BMWX5','Maruthi Grand Vitata','XUV500'],\n",
    "        \"Fuel Type\" : ['Diesel','Ptrol','Electric','Petrol','Hybrid','Diesel']}\n",
    "\n",
    "df = pd.DataFrame(data)\n",
    "df"
   ]
  },
  {
   "cell_type": "code",
   "execution_count": 11,
   "id": "57bde8af",
   "metadata": {},
   "outputs": [
    {
     "name": "stdout",
     "output_type": "stream",
     "text": [
      "             Car Model   Fuel Type_Diesel  Fuel Type_Electric  \\\n",
      "0      Volkswagon Vento                 1                   0   \n",
      "1       Mecedes GLA 200                 0                   0   \n",
      "2            Tata Nexon                 0                   1   \n",
      "3                 BMWX5                 0                   0   \n",
      "4  Maruthi Grand Vitata                 0                   0   \n",
      "5                XUV500                 1                   0   \n",
      "\n",
      "   Fuel Type_Hybrid  Fuel Type_Petrol  Fuel Type_Ptrol  \n",
      "0                 0                 0                0  \n",
      "1                 0                 0                1  \n",
      "2                 0                 0                0  \n",
      "3                 0                 1                0  \n",
      "4                 1                 0                0  \n",
      "5                 0                 0                0  \n"
     ]
    }
   ],
   "source": [
    "# Perform nominal encoding (one-hot encoding) on the 'Fuel Type' column\n",
    "encoded_df = pd.get_dummies(df, columns=['Fuel Type'])\n",
    "\n",
    "# Display the encoded DataFrame\n",
    "print(encoded_df)"
   ]
  },
  {
   "cell_type": "code",
   "execution_count": 12,
   "id": "0d68c7eb",
   "metadata": {},
   "outputs": [
    {
     "data": {
      "text/html": [
       "<div>\n",
       "<style scoped>\n",
       "    .dataframe tbody tr th:only-of-type {\n",
       "        vertical-align: middle;\n",
       "    }\n",
       "\n",
       "    .dataframe tbody tr th {\n",
       "        vertical-align: top;\n",
       "    }\n",
       "\n",
       "    .dataframe thead th {\n",
       "        text-align: right;\n",
       "    }\n",
       "</style>\n",
       "<table border=\"1\" class=\"dataframe\">\n",
       "  <thead>\n",
       "    <tr style=\"text-align: right;\">\n",
       "      <th></th>\n",
       "      <th>Car Model</th>\n",
       "      <th>Fuel Type</th>\n",
       "      <th>Car Model</th>\n",
       "      <th>Fuel Type_Diesel</th>\n",
       "      <th>Fuel Type_Electric</th>\n",
       "      <th>Fuel Type_Hybrid</th>\n",
       "      <th>Fuel Type_Petrol</th>\n",
       "      <th>Fuel Type_Ptrol</th>\n",
       "    </tr>\n",
       "  </thead>\n",
       "  <tbody>\n",
       "    <tr>\n",
       "      <th>0</th>\n",
       "      <td>Volkswagon Vento</td>\n",
       "      <td>Diesel</td>\n",
       "      <td>Volkswagon Vento</td>\n",
       "      <td>1</td>\n",
       "      <td>0</td>\n",
       "      <td>0</td>\n",
       "      <td>0</td>\n",
       "      <td>0</td>\n",
       "    </tr>\n",
       "    <tr>\n",
       "      <th>1</th>\n",
       "      <td>Mecedes GLA 200</td>\n",
       "      <td>Ptrol</td>\n",
       "      <td>Mecedes GLA 200</td>\n",
       "      <td>0</td>\n",
       "      <td>0</td>\n",
       "      <td>0</td>\n",
       "      <td>0</td>\n",
       "      <td>1</td>\n",
       "    </tr>\n",
       "    <tr>\n",
       "      <th>2</th>\n",
       "      <td>Tata Nexon</td>\n",
       "      <td>Electric</td>\n",
       "      <td>Tata Nexon</td>\n",
       "      <td>0</td>\n",
       "      <td>1</td>\n",
       "      <td>0</td>\n",
       "      <td>0</td>\n",
       "      <td>0</td>\n",
       "    </tr>\n",
       "    <tr>\n",
       "      <th>3</th>\n",
       "      <td>BMWX5</td>\n",
       "      <td>Petrol</td>\n",
       "      <td>BMWX5</td>\n",
       "      <td>0</td>\n",
       "      <td>0</td>\n",
       "      <td>0</td>\n",
       "      <td>1</td>\n",
       "      <td>0</td>\n",
       "    </tr>\n",
       "    <tr>\n",
       "      <th>4</th>\n",
       "      <td>Maruthi Grand Vitata</td>\n",
       "      <td>Hybrid</td>\n",
       "      <td>Maruthi Grand Vitata</td>\n",
       "      <td>0</td>\n",
       "      <td>0</td>\n",
       "      <td>1</td>\n",
       "      <td>0</td>\n",
       "      <td>0</td>\n",
       "    </tr>\n",
       "    <tr>\n",
       "      <th>5</th>\n",
       "      <td>XUV500</td>\n",
       "      <td>Diesel</td>\n",
       "      <td>XUV500</td>\n",
       "      <td>1</td>\n",
       "      <td>0</td>\n",
       "      <td>0</td>\n",
       "      <td>0</td>\n",
       "      <td>0</td>\n",
       "    </tr>\n",
       "  </tbody>\n",
       "</table>\n",
       "</div>"
      ],
      "text/plain": [
       "             Car Model  Fuel Type            Car Model   Fuel Type_Diesel  \\\n",
       "0      Volkswagon Vento    Diesel      Volkswagon Vento                 1   \n",
       "1       Mecedes GLA 200     Ptrol       Mecedes GLA 200                 0   \n",
       "2            Tata Nexon  Electric            Tata Nexon                 0   \n",
       "3                 BMWX5    Petrol                 BMWX5                 0   \n",
       "4  Maruthi Grand Vitata    Hybrid  Maruthi Grand Vitata                 0   \n",
       "5                XUV500    Diesel                XUV500                 1   \n",
       "\n",
       "   Fuel Type_Electric  Fuel Type_Hybrid  Fuel Type_Petrol  Fuel Type_Ptrol  \n",
       "0                   0                 0                 0                0  \n",
       "1                   0                 0                 0                1  \n",
       "2                   1                 0                 0                0  \n",
       "3                   0                 0                 1                0  \n",
       "4                   0                 1                 0                0  \n",
       "5                   0                 0                 0                0  "
      ]
     },
     "execution_count": 12,
     "metadata": {},
     "output_type": "execute_result"
    }
   ],
   "source": [
    "pd.concat([df,encoded_df],axis =1)"
   ]
  },
  {
   "cell_type": "markdown",
   "id": "5210d6e4",
   "metadata": {},
   "source": [
    "### Q3. In what situations is nominal encoding preferred over one-hot encoding? Provide a practical example."
   ]
  },
  {
   "cell_type": "markdown",
   "id": "aeb7db27",
   "metadata": {},
   "source": [
    "There is like a small difference in Label encoding we give unique numbers to categories like 1,2,3,4,5 etc.Here there is only 1 diension as there is a numerical value assigned to each group\n",
    "\n",
    "But in One-hot encoding, on the other hand, creates a binary column for each category, indicating the presence (1) or absence (0) of that category.Here there is a significant increase in dimension because the more the categories there will same number of dimensions\n",
    "\n",
    "In a model where increase in dimensions leads to complexity in such a case Nominal/Label Encoding is preffered,Whereas a model where Binary inputs are accepted in such a case One Hot Encoding is preffered."
   ]
  },
  {
   "cell_type": "code",
   "execution_count": 19,
   "id": "68239957",
   "metadata": {},
   "outputs": [
    {
     "name": "stdout",
     "output_type": "stream",
     "text": [
      "  Customer Payment_Method  Payment_Encoded\n",
      "0     Aman    Credit Card                1\n",
      "1   Robert         PayPal                2\n",
      "2    Harry  Bank Transfer                0\n",
      "3    David    Credit Card                1\n"
     ]
    }
   ],
   "source": [
    "\"\"\"Suppose you're building a decision tree model to classify customer satisfaction based on the type of payment method \n",
    "(a nominal feature with no order: 'Credit Card', 'PayPal', 'Bank Transfer').\n",
    "\"\"\"\n",
    "\n",
    "import pandas as pd\n",
    "from sklearn.preprocessing import LabelEncoder\n",
    "\n",
    "# Sample dataset\n",
    "data = {'Customer': ['Aman', 'Robert', 'Harry', 'David'],\n",
    "        'Payment_Method': ['Credit Card', 'PayPal', 'Bank Transfer', 'Credit Card']}\n",
    "\n",
    "df = pd.DataFrame(data)\n",
    "\n",
    "# Apply nominal encoding (label encoding)\n",
    "le = LabelEncoder()\n",
    "df['Payment_Encoded'] = le.fit_transform(df['Payment_Method'])\n",
    "\n",
    "print(df)"
   ]
  },
  {
   "cell_type": "markdown",
   "id": "b185bfbb",
   "metadata": {},
   "source": [
    "When not to use nominal encoding:\n",
    "If you use a linear model (e.g., logistic regression), the algorithm may assume an ordinal relationship between labels (0 < 1 < 2), which is incorrect for nominal features — in such cases, one-hot encoding is preferred."
   ]
  },
  {
   "cell_type": "markdown",
   "id": "de098c10",
   "metadata": {},
   "source": [
    "### Q4. Suppose you have a dataset containing categorical data with 5 unique values. Which encoding technique would you use to transform this data into a format suitable for machine learning algorithms? Explain why you made this choice."
   ]
  },
  {
   "cell_type": "markdown",
   "id": "c3a70881",
   "metadata": {},
   "source": [
    "If the dataset contains categorical data with 5 unique values, and there is no inherent order or ranking among the categories, I would prefer to use one-hot encoding to transform the data into a format suitable for machine learning algorithms.\n",
    "\n",
    "Explanation for choosing one-hot encoding:\n",
    "\n",
    "1.Nominal Data: Since the data has 5 unique values with no inherent order, it is nominal data. One-hot encoding is the most appropriate technique for nominal data because it converts each category into a binary vector representation, effectively removing any numerical relationship between the categories.\n",
    "\n",
    "2.Avoiding Ordinality: One-hot encoding ensures that no ordinality is imposed among the categories. Each category is represented as a binary vector with a single '1' and the rest '0's, which prevents the model from interpreting any magnitude or rank relationship among the categories.\n",
    "\n",
    "3.Model Interpretability: One-hot encoding provides better interpretability for the model's predictions. The encoded binary vectors directly represent the presence or absence of each category, making it easier to understand the impact of each category on the model's output.\n",
    "\n",
    "4.Sparse Representation: One-hot encoding creates a sparse representation of the data, which is efficient in terms of memory usage and computation. Only one element in each binary vector is '1', reducing the amount of memory needed to store the encoded features.\n",
    "\n",
    "5.Compatibility with Algorithms: Many machine learning algorithms, such as logistic regression, decision trees, and support vector machines, are designed to work with numerical inputs. One-hot encoding converts categorical data into numerical form, making it compatible with a wide range of machine learning algorithms."
   ]
  },
  {
   "cell_type": "markdown",
   "id": "5cc5423e",
   "metadata": {},
   "source": [
    "### 5. In a machine learning project, you have a dataset with 1000 rows and 5 columns. Two of the columns are categorical, and the remaining three columns are numerical. If you were to use nominal encoding to transform the categorical data, how many new columns would be created? Show your calculations."
   ]
  },
  {
   "cell_type": "markdown",
   "id": "96da733e",
   "metadata": {},
   "source": [
    "When using nominal encoding to transform categorical data, the number of new columns created is equal to the number of unique categories in the original categorical columns. Each unique category is represented as a binary vector, where one column is created for each category.\n",
    "\n",
    "Let's assume the two categorical columns have the following number of unique categories:\n",
    "\n",
    "\n",
    "Categorical Column 1: 4 unique categories  \n",
    "Categorical Column 2: 5 unique categories  \n",
    "\n",
    "To calculate the total number of new columns created:\n",
    "\n",
    "\n",
    "Total New Columns = Unique Categories in Categorical Column 1 + Unique Categories in Categorical Column 2  \n",
    "= 4 + 5  \n",
    "= 9\n",
    "\n",
    "Therefore, when using nominal encoding to transform the two categorical columns, a total of 10 new columns will be created. Each row in the dataset will have 10 binary columns, representing the one-hot encoded values for the 4 unique categories in Categorical Column 1 and the 6 unique categories in Categorical Column 2. The rest of the three numerical columns will remain unchanged in the transformed dataset.\n",
    "\n",
    "\n",
    "Total number of Columns in the dataset = 9 + 3 numerical coloumns\n",
    "= 12"
   ]
  },
  {
   "cell_type": "markdown",
   "id": "384f584c",
   "metadata": {},
   "source": [
    "### Q6. You are working with a dataset containing information about different types of animals, including their species, habitat, and diet. Which encoding technique would you use to transform the categorical data into a format suitable for machine learning algorithms? Justify your answer."
   ]
  },
  {
   "cell_type": "markdown",
   "id": "52907ecf",
   "metadata": {},
   "source": [
    "#### One-Hot Encoding\n",
    "\n",
    "Justification:\n",
    "\n",
    "The categories like species, habitat, and diet are all nominal, meaning they have no natural order (e.g., “Carnivore” isn’t more or less than “Herbivore”).\n",
    "\n",
    "One-hot encoding creates binary columns for each category, avoiding any false assumption of ordinal relationships.\n",
    "\n",
    "This is especially helpful for linear models, logistic regression, k-nearest neighbors, and neural networks, which can be misled by numeric labels (like 0, 1, 2) from label encoding."
   ]
  },
  {
   "cell_type": "code",
   "execution_count": 30,
   "id": "6194a95b",
   "metadata": {},
   "outputs": [
    {
     "name": "stdout",
     "output_type": "stream",
     "text": [
      "   Species_Elephant  Species_Lion  Species_Shark  Habitat_Forest  \\\n",
      "0                 0             1              0               0   \n",
      "1                 1             0              0               1   \n",
      "2                 0             0              1               0   \n",
      "\n",
      "   Habitat_Ocean  Habitat_Savannah  Diet_Carnivore  Diet_Herbivore  \n",
      "0              0                 1               1               0  \n",
      "1              0                 0               0               1  \n",
      "2              1                 0               1               0  \n"
     ]
    }
   ],
   "source": [
    "import pandas as pd\n",
    "\n",
    "data = {\n",
    "    'Species': ['Lion', 'Elephant', 'Shark'],\n",
    "    'Habitat': ['Savannah', 'Forest', 'Ocean'],\n",
    "    'Diet': ['Carnivore', 'Herbivore', 'Carnivore']\n",
    "}\n",
    "\n",
    "df = pd.DataFrame(data)\n",
    "\n",
    "# One-hot encoding the nominal features\n",
    "encoded_df = pd.get_dummies(df)\n",
    "\n",
    "print(encoded_df)\n"
   ]
  },
  {
   "cell_type": "markdown",
   "id": "05e1095c",
   "metadata": {},
   "source": [
    "### Q7.You are working on a project that involves predicting customer churn for a telecommunications company. You have a dataset with 5 features, including the customer's gender, age, contract type, monthly charges, and tenure. Which encoding technique(s) would you use to transform the categorical data into numerical data? Provide a step-by-step explanation of how you would implement the encoding."
   ]
  },
  {
   "cell_type": "code",
   "execution_count": 31,
   "id": "e28f22ac",
   "metadata": {},
   "outputs": [
    {
     "data": {
      "text/html": [
       "<div>\n",
       "<style scoped>\n",
       "    .dataframe tbody tr th:only-of-type {\n",
       "        vertical-align: middle;\n",
       "    }\n",
       "\n",
       "    .dataframe tbody tr th {\n",
       "        vertical-align: top;\n",
       "    }\n",
       "\n",
       "    .dataframe thead th {\n",
       "        text-align: right;\n",
       "    }\n",
       "</style>\n",
       "<table border=\"1\" class=\"dataframe\">\n",
       "  <thead>\n",
       "    <tr style=\"text-align: right;\">\n",
       "      <th></th>\n",
       "      <th>gender</th>\n",
       "      <th>age</th>\n",
       "      <th>contract type</th>\n",
       "      <th>monthly charges</th>\n",
       "      <th>tenure</th>\n",
       "    </tr>\n",
       "  </thead>\n",
       "  <tbody>\n",
       "    <tr>\n",
       "      <th>0</th>\n",
       "      <td>Male</td>\n",
       "      <td>25</td>\n",
       "      <td>month-to-month</td>\n",
       "      <td>50.0</td>\n",
       "      <td>10</td>\n",
       "    </tr>\n",
       "    <tr>\n",
       "      <th>1</th>\n",
       "      <td>Female</td>\n",
       "      <td>35</td>\n",
       "      <td>one year</td>\n",
       "      <td>65.0</td>\n",
       "      <td>20</td>\n",
       "    </tr>\n",
       "    <tr>\n",
       "      <th>2</th>\n",
       "      <td>Male</td>\n",
       "      <td>28</td>\n",
       "      <td>two years</td>\n",
       "      <td>80.0</td>\n",
       "      <td>15</td>\n",
       "    </tr>\n",
       "    <tr>\n",
       "      <th>3</th>\n",
       "      <td>Female</td>\n",
       "      <td>42</td>\n",
       "      <td>month-to-month</td>\n",
       "      <td>55.0</td>\n",
       "      <td>5</td>\n",
       "    </tr>\n",
       "    <tr>\n",
       "      <th>4</th>\n",
       "      <td>Male</td>\n",
       "      <td>30</td>\n",
       "      <td>one year</td>\n",
       "      <td>75.0</td>\n",
       "      <td>12</td>\n",
       "    </tr>\n",
       "  </tbody>\n",
       "</table>\n",
       "</div>"
      ],
      "text/plain": [
       "   gender  age   contract type  monthly charges  tenure\n",
       "0    Male   25  month-to-month             50.0      10\n",
       "1  Female   35        one year             65.0      20\n",
       "2    Male   28       two years             80.0      15\n",
       "3  Female   42  month-to-month             55.0       5\n",
       "4    Male   30        one year             75.0      12"
      ]
     },
     "execution_count": 31,
     "metadata": {},
     "output_type": "execute_result"
    }
   ],
   "source": [
    "import pandas as pd\n",
    "\n",
    "dff= pd.DataFrame({\n",
    "    'gender': ['Male', 'Female', 'Male', 'Female', 'Male'],\n",
    "    'age': [25, 35, 28, 42, 30],\n",
    "    'contract type': ['month-to-month', 'one year', 'two years', 'month-to-month', 'one year'],\n",
    "    'monthly charges': [50.0, 65.0, 80.0, 55.0, 75.0],\n",
    "    'tenure': [10, 20, 15, 5, 12]\n",
    "})\n",
    "\n",
    "dff"
   ]
  },
  {
   "cell_type": "code",
   "execution_count": 37,
   "id": "ae813e88",
   "metadata": {},
   "outputs": [
    {
     "name": "stdout",
     "output_type": "stream",
     "text": [
      "   gender  age   contract type  monthly charges  tenure  gender_Female  \\\n",
      "0    Male   25  month-to-month             50.0      10            0.0   \n",
      "1  Female   35        one year             65.0      20            1.0   \n",
      "2    Male   28       two years             80.0      15            0.0   \n",
      "3  Female   42  month-to-month             55.0       5            1.0   \n",
      "4    Male   30        one year             75.0      12            0.0   \n",
      "\n",
      "   gender_Male  \n",
      "0          1.0  \n",
      "1          0.0  \n",
      "2          1.0  \n",
      "3          0.0  \n",
      "4          1.0  \n"
     ]
    }
   ],
   "source": [
    "import pandas as pd\n",
    "from sklearn.preprocessing import OneHotEncoder\n",
    "\n",
    "dff= pd.DataFrame({\n",
    "    'gender': ['Male', 'Female', 'Male', 'Female', 'Male'],\n",
    "    'age': [25, 35, 28, 42, 30],\n",
    "    'contract type': ['month-to-month', 'one year', 'two years', 'month-to-month', 'one year'],\n",
    "    'monthly charges': [50.0, 65.0, 80.0, 55.0, 75.0],\n",
    "    'tenure': [10, 20, 15, 5, 12]\n",
    "})\n",
    "\n",
    "# One-Hot Encoding for gender\n",
    "encodingg = OneHotEncoder()\n",
    "val = encodingg.fit_transform(dff[['gender']]).toarray()\n",
    "\n",
    "# Use get_feature_names() for older versions of scikit-learn\n",
    "encode_df = pd.DataFrame(val, columns=encodingg.get_feature_names(['gender']))\n",
    "dff = pd.concat([dff, encode_df], axis=1)\n",
    "\n",
    "print(dff)"
   ]
  },
  {
   "cell_type": "code",
   "execution_count": 38,
   "id": "ab8fa2a3",
   "metadata": {},
   "outputs": [
    {
     "data": {
      "text/html": [
       "<div>\n",
       "<style scoped>\n",
       "    .dataframe tbody tr th:only-of-type {\n",
       "        vertical-align: middle;\n",
       "    }\n",
       "\n",
       "    .dataframe tbody tr th {\n",
       "        vertical-align: top;\n",
       "    }\n",
       "\n",
       "    .dataframe thead th {\n",
       "        text-align: right;\n",
       "    }\n",
       "</style>\n",
       "<table border=\"1\" class=\"dataframe\">\n",
       "  <thead>\n",
       "    <tr style=\"text-align: right;\">\n",
       "      <th></th>\n",
       "      <th>gender</th>\n",
       "      <th>age</th>\n",
       "      <th>contract type</th>\n",
       "      <th>monthly charges</th>\n",
       "      <th>tenure</th>\n",
       "      <th>gender_Female</th>\n",
       "      <th>gender_Male</th>\n",
       "      <th>contract_type_ranking</th>\n",
       "    </tr>\n",
       "  </thead>\n",
       "  <tbody>\n",
       "    <tr>\n",
       "      <th>0</th>\n",
       "      <td>Male</td>\n",
       "      <td>25</td>\n",
       "      <td>month-to-month</td>\n",
       "      <td>50.0</td>\n",
       "      <td>10</td>\n",
       "      <td>0.0</td>\n",
       "      <td>1.0</td>\n",
       "      <td>0.0</td>\n",
       "    </tr>\n",
       "    <tr>\n",
       "      <th>1</th>\n",
       "      <td>Female</td>\n",
       "      <td>35</td>\n",
       "      <td>one year</td>\n",
       "      <td>65.0</td>\n",
       "      <td>20</td>\n",
       "      <td>1.0</td>\n",
       "      <td>0.0</td>\n",
       "      <td>1.0</td>\n",
       "    </tr>\n",
       "    <tr>\n",
       "      <th>2</th>\n",
       "      <td>Male</td>\n",
       "      <td>28</td>\n",
       "      <td>two years</td>\n",
       "      <td>80.0</td>\n",
       "      <td>15</td>\n",
       "      <td>0.0</td>\n",
       "      <td>1.0</td>\n",
       "      <td>2.0</td>\n",
       "    </tr>\n",
       "    <tr>\n",
       "      <th>3</th>\n",
       "      <td>Female</td>\n",
       "      <td>42</td>\n",
       "      <td>month-to-month</td>\n",
       "      <td>55.0</td>\n",
       "      <td>5</td>\n",
       "      <td>1.0</td>\n",
       "      <td>0.0</td>\n",
       "      <td>0.0</td>\n",
       "    </tr>\n",
       "    <tr>\n",
       "      <th>4</th>\n",
       "      <td>Male</td>\n",
       "      <td>30</td>\n",
       "      <td>one year</td>\n",
       "      <td>75.0</td>\n",
       "      <td>12</td>\n",
       "      <td>0.0</td>\n",
       "      <td>1.0</td>\n",
       "      <td>1.0</td>\n",
       "    </tr>\n",
       "  </tbody>\n",
       "</table>\n",
       "</div>"
      ],
      "text/plain": [
       "   gender  age   contract type  monthly charges  tenure  gender_Female  \\\n",
       "0    Male   25  month-to-month             50.0      10            0.0   \n",
       "1  Female   35        one year             65.0      20            1.0   \n",
       "2    Male   28       two years             80.0      15            0.0   \n",
       "3  Female   42  month-to-month             55.0       5            1.0   \n",
       "4    Male   30        one year             75.0      12            0.0   \n",
       "\n",
       "   gender_Male  contract_type_ranking  \n",
       "0          1.0                    0.0  \n",
       "1          0.0                    1.0  \n",
       "2          1.0                    2.0  \n",
       "3          0.0                    0.0  \n",
       "4          1.0                    1.0  "
      ]
     },
     "execution_count": 38,
     "metadata": {},
     "output_type": "execute_result"
    }
   ],
   "source": [
    "#Label Encoding for Contract type\n",
    "from sklearn.preprocessing import OrdinalEncoder\n",
    "\n",
    "ordinal = OrdinalEncoder(categories=[[\"month-to-month\",\"one year\",\"two years\"]])\n",
    "dff['contract_type_ranking'] = pd.DataFrame(ordinal.fit_transform(dff[['contract type']]))\n",
    "dff"
   ]
  }
 ],
 "metadata": {
  "kernelspec": {
   "display_name": "Python 3 (ipykernel)",
   "language": "python",
   "name": "python3"
  },
  "language_info": {
   "codemirror_mode": {
    "name": "ipython",
    "version": 3
   },
   "file_extension": ".py",
   "mimetype": "text/x-python",
   "name": "python",
   "nbconvert_exporter": "python",
   "pygments_lexer": "ipython3",
   "version": "3.9.7"
  }
 },
 "nbformat": 4,
 "nbformat_minor": 5
}
