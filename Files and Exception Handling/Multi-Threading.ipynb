{
 "cells": [
  {
   "cell_type": "markdown",
   "id": "f23cf016",
   "metadata": {},
   "source": [
    "### Q1. What is multithreading in python? Why is it used? Name the module used to handle threads in python."
   ]
  },
  {
   "cell_type": "markdown",
   "id": "b241b9a3",
   "metadata": {},
   "source": [
    "**Multithreading** in Python refers to the ability of a program to execute multiple threads concurrently. A thread is a lightweight process, and multithreading allows you to run several tasks at the same time within a single program, making it more efficient in terms of time and resource usage.\n",
    "\n",
    "#### Usage:\n",
    "\n",
    "To improve performance by running tasks concurrently (e.g., in I/O-bound operations).\n",
    "\n",
    "To handle multiple tasks at once, such as user interface updates and file downloads simultaneously.\n",
    "\n",
    "To enhance responsiveness in programs like web servers, GUIs, or network applications.\n",
    "\n",
    "###### Module used to handle threads:\n",
    "The threading module is used in Python to create and manage threads.\n",
    "\n"
   ]
  },
  {
   "cell_type": "markdown",
   "id": "54cca541",
   "metadata": {},
   "source": [
    "### Q2. Why threading module used? Write the use of the following functions\n",
    "\n",
    "1.activeCount()\n",
    "\n",
    "2.currentThread()\n",
    "\n",
    "3.enumerate()"
   ]
  },
  {
   "cell_type": "markdown",
   "id": "cd07cbdd",
   "metadata": {},
   "source": [
    "**Threading module** is used for creating and managing threads in Python. It provides a high-level interface for working with threads and synchronizing them.\n",
    "\n",
    "##### 1.activeCount():\n",
    "Returns the number of Thread objects currently alive.Useful to monitor how many threads are running at a given time.\n",
    "\n",
    "##### 2.currentThread():\n",
    "Returns the current Thread object corresponding to the thread from which it is called.Useful for checking or printing information about the current thread.\n",
    "\n",
    "##### 3.enumerate():\n",
    "Returns a list of all Thread objects currently alive.Useful for iterating over all the threads and performing actions or checking their states."
   ]
  },
  {
   "cell_type": "markdown",
   "id": "ccdcbd3c",
   "metadata": {},
   "source": [
    "### Q3. Explain the following functions\n",
    "\n",
    "1.run()\n",
    "\n",
    "2.start()\n",
    "\n",
    "3.join()\n",
    "\n",
    "4.isAlive()"
   ]
  },
  {
   "cell_type": "markdown",
   "id": "b0dd763c",
   "metadata": {},
   "source": [
    "#### run():\n",
    "This function is the entry point for thread execution. When a thread is started using start(), the run() method is invoked.It contains the code that the thread will execute. If you want to override the run() method, you define your own function in a subclass of Thread.\n",
    "\n",
    "#### start():\n",
    "Starts the thread by invoking the run() method in a new thread of execution.You cannot call run() directly. It needs to be called using start(), which internally calls the run() method.\n",
    "\n",
    "#### join():\n",
    "Blocks the calling thread until the thread whose join() method is called terminates.It ensures that the calling thread waits for the thread to finish before proceeding.\n",
    "\n",
    "#### isAlive():\n",
    "Returns True if the thread is still alive (i.e., the thread is running or has been started but has not finished).Useful for checking whether a thread has completed execution."
   ]
  },
  {
   "cell_type": "markdown",
   "id": "7d3fa8be",
   "metadata": {},
   "source": [
    "### Q4. Write a python program to create two threads. Thread one must print the list of squares and threadtwo must print the list of cubes."
   ]
  },
  {
   "cell_type": "code",
   "execution_count": 4,
   "id": "6d9f23fe",
   "metadata": {},
   "outputs": [
    {
     "name": "stdout",
     "output_type": "stream",
     "text": [
      "Squares: [1, 4, 9, 16, 25]\n",
      "Cubes: [1, 8, 27, 64, 125]\n",
      "Both threads have completed.\n"
     ]
    }
   ],
   "source": [
    "import threading\n",
    "\n",
    "# Function to print squares\n",
    "def print_squares():\n",
    "    squares = [i**2 for i in range(1, 6)]\n",
    "    print(\"Squares:\", squares)\n",
    "\n",
    "# Function to print cubes\n",
    "def print_cubes():\n",
    "    cubes = [i**3 for i in range(1, 6)]\n",
    "    print(\"Cubes:\", cubes)\n",
    "\n",
    "# Create threads\n",
    "thread1 = threading.Thread(target=print_squares)\n",
    "thread2 = threading.Thread(target=print_cubes)\n",
    "\n",
    "# Start the threads\n",
    "thread1.start()\n",
    "thread2.start()\n",
    "\n",
    "# Wait for threads to finish\n",
    "thread1.join()\n",
    "thread2.join()\n",
    "\n",
    "print(\"Both threads have completed.\")\n"
   ]
  },
  {
   "cell_type": "markdown",
   "id": "4875e771",
   "metadata": {},
   "source": [
    "### Q5. State advantages and disadvantages of multithreading."
   ]
  },
  {
   "cell_type": "markdown",
   "id": "7b2cd0af",
   "metadata": {},
   "source": [
    "#### Advantages:\n",
    "\n",
    "1.Improved performance for I/O-bound tasks (e.g., downloading files, database queries).\n",
    "\n",
    "2.Better resource utilization since threads share the same memory space, leading to less overhead compared to creating multiple processes.\n",
    "\n",
    "3.Responsive programs — especially useful in GUI applications and real-time systems.\n",
    "\n",
    "4.Parallelism — in some cases, threads can run concurrently on multi-core processors, improving performance.\n",
    "\n",
    "#### Disadvantages:\n",
    "\n",
    "1.Complexity — multithreading adds complexity to the program, especially with synchronization and data-sharing issues.\n",
    "\n",
    "2.Global Interpreter Lock (GIL) in CPython limits true parallelism for CPU-bound tasks, as only one thread can execute Python bytecode at a time.\n",
    "\n",
    "3.Race conditions — threads accessing shared data can cause unpredictable results if not synchronized correctly.\n",
    "\n",
    "4.Deadlocks — threads can block each other indefinitely if not managed properly."
   ]
  },
  {
   "cell_type": "markdown",
   "id": "06f6368e",
   "metadata": {},
   "source": [
    "### Q6. Explain deadlocks and race conditions."
   ]
  },
  {
   "cell_type": "markdown",
   "id": "0523a9ef",
   "metadata": {},
   "source": [
    "### Deadlocks:\n",
    "A deadlock occurs when two or more threads are waiting for each other to release resources (e.g., locks), and as a result, none of the threads can proceed.\n",
    "\n",
    "Example: Thread 1 locks resource A and waits for resource B, while Thread 2 locks resource B and waits for resource A.\n",
    "\n",
    "Solution: Use proper synchronization techniques (e.g., timeouts, ordering of resource acquisition) to avoid deadlocks.\n",
    "\n",
    "### Race Conditions:\n",
    "A race condition occurs when two or more threads access shared data concurrently, and the final result depends on the non-deterministic order in which the threads execute.\n",
    "\n",
    "Example: If two threads increment a shared counter, the final result may be incorrect because both threads may read the counter before either increments it, leading to lost updates.\n",
    "\n",
    "**Solution:** Use synchronization mechanisms like locks, semaphores, or thread-safe data structures to prevent race conditions."
   ]
  }
 ],
 "metadata": {
  "kernelspec": {
   "display_name": "Python 3 (ipykernel)",
   "language": "python",
   "name": "python3"
  },
  "language_info": {
   "codemirror_mode": {
    "name": "ipython",
    "version": 3
   },
   "file_extension": ".py",
   "mimetype": "text/x-python",
   "name": "python",
   "nbconvert_exporter": "python",
   "pygments_lexer": "ipython3",
   "version": "3.9.7"
  }
 },
 "nbformat": 4,
 "nbformat_minor": 5
}
