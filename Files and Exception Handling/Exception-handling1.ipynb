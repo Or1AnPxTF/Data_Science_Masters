{
 "cells": [
  {
   "cell_type": "markdown",
   "id": "5bf8d904",
   "metadata": {},
   "source": [
    "### Q1. What is an Exception in python? Write the difference between Exceptions and Syntax errors."
   ]
  },
  {
   "cell_type": "markdown",
   "id": "92deb6a6",
   "metadata": {},
   "source": [
    "Ans) a) An **Exception** in Python is an event that occurs during the execution of a program and disrupts the normal flow of the program’s instructions.Exceptions are runtime errors, meaning they occur while the program is running.\n",
    "When an error occurs, Python stops executing the program and raises an exception.Exception handling allows to respond to the error, instead of crashing the running program. It enables you to catch and manage errors, making your code more robust and user-friendly. \n",
    "\n",
    "b) **Syntax errors** occur when the code violates the grammatical rules of the language—such as missing colons, incorrect indentation, or misspelled keywords and must be fixed before the program can run. On the other hand, exceptions are errors that occur during the execution of a program, such as dividing by zero or accessing a file that doesn't exist. "
   ]
  },
  {
   "cell_type": "markdown",
   "id": "5d4cd5e1",
   "metadata": {},
   "source": [
    "### Q2. What happens when an exception is not handled? Explain with an example."
   ]
  },
  {
   "cell_type": "markdown",
   "id": "0cb9baf2",
   "metadata": {},
   "source": [
    "Ans)When an exception is not handled, Python immediately terminates the program and displays an error message called a traceback. This traceback shows the type of exception, the line number where it occurred, and a brief description of the error. The rest of the code after the exception is not executed."
   ]
  },
  {
   "cell_type": "code",
   "execution_count": 12,
   "id": "4684d7f9",
   "metadata": {},
   "outputs": [
    {
     "name": "stdout",
     "output_type": "stream",
     "text": [
      "Program starts\n",
      "Error: Division by zero is not allowed!\n",
      "Program continues...\n"
     ]
    }
   ],
   "source": [
    "print(\"Program starts\")\n",
    "\n",
    "try:\n",
    "    # This will cause a ZeroDivisionError\n",
    "    result = 10 / 0\n",
    "except ZeroDivisionError:\n",
    "    print(\"Error: Division by zero is not allowed!\")\n",
    "else:\n",
    "    print(\"Result:\", result)\n",
    "\n",
    "print(\"Program continues...\")"
   ]
  },
  {
   "cell_type": "markdown",
   "id": "4d62a3bf",
   "metadata": {},
   "source": [
    "### Q3. Which Python statements are used to catch and handle exceptions? Explain with an example."
   ]
  },
  {
   "cell_type": "markdown",
   "id": "89a1c77b",
   "metadata": {},
   "source": [
    "Python uses the **try-except** statement to catch and handle exceptions. This allows a program to continue running even if an error occurs, by handling the error properly instead of crashing.\n",
    "\n",
    "You can also use else and finally blocks for more control:\n",
    "\n",
    "1.else: Runs if no exception occurs.\n",
    "\n",
    "2.finally: Always runs, whether an exception occurs or not—useful for cleanup code."
   ]
  },
  {
   "cell_type": "code",
   "execution_count": 2,
   "id": "c8754438",
   "metadata": {},
   "outputs": [
    {
     "name": "stdout",
     "output_type": "stream",
     "text": [
      "Enter a number: 0\n",
      "You can't divide by zero!\n",
      "Program finished.\n"
     ]
    }
   ],
   "source": [
    "try:\n",
    "    num = int(input(\"Enter a number: \"))\n",
    "    result = 10 / num\n",
    "    print(\"Result:\", result)\n",
    "except ZeroDivisionError:\n",
    "    print(\"You can't divide by zero!\")\n",
    "except ValueError:\n",
    "    print(\"Invalid input! Please enter a number.\")\n",
    "else:\n",
    "    print(\"Operation successful.\")\n",
    "finally:\n",
    "    print(\"Program finished.\")"
   ]
  },
  {
   "cell_type": "markdown",
   "id": "bc7a09a4",
   "metadata": {},
   "source": [
    "### Q4. Explain with an example:\n",
    "\n",
    "#### 1.try and else\n",
    "\n",
    "#### 2.finally\n",
    "\n",
    "#### 3.raise"
   ]
  },
  {
   "cell_type": "markdown",
   "id": "7f164c1c",
   "metadata": {},
   "source": [
    "#### Ans) 1.try and else \n",
    "The else block runs only if no exception occurs in the try block.The try block contains code that might cause an exception.  \n",
    "The except block catches and handles specific exceptions.   \n",
    "The else block only runs if the try block succeeds (i.e., no exception was raised).  "
   ]
  },
  {
   "cell_type": "code",
   "execution_count": 6,
   "id": "f6587e69",
   "metadata": {},
   "outputs": [
    {
     "name": "stdout",
     "output_type": "stream",
     "text": [
      "Enter a number: test\n",
      "That's not a valid number!\n"
     ]
    }
   ],
   "source": [
    "# Example of  try and else\n",
    "try:\n",
    "    num = int(input(\"Enter a number: \"))\n",
    "    print(\"You entered:\", num)\n",
    "except ValueError:\n",
    "    print(\"That's not a valid number!\")\n",
    "else:\n",
    "    print(\"Conversion was successful.\")"
   ]
  },
  {
   "cell_type": "markdown",
   "id": "c6c7a930",
   "metadata": {},
   "source": [
    "#### 2.finally\n",
    "The finally block always executes, whether an exception occurred or not.It’s typically used for cleanup like closing files or releasing resources."
   ]
  },
  {
   "cell_type": "code",
   "execution_count": 8,
   "id": "39f82c65",
   "metadata": {},
   "outputs": [
    {
     "name": "stdout",
     "output_type": "stream",
     "text": [
      "Inside try block\n",
      "This will always run (finally block)\n"
     ]
    }
   ],
   "source": [
    "#Example for finally\n",
    "try:\n",
    "    print(\"Inside try block\")\n",
    "    x = 10 / 2                       #The code in the try block runs and doesn't raise an error.\n",
    "except ZeroDivisionError:\n",
    "    print(\"Division by zero error!\")             #The finally block still runs, no matter what.\n",
    "finally:\n",
    "    print(\"This will always run (finally block)\")      #If an error occurred, the finally block would still execute after the except."
   ]
  },
  {
   "cell_type": "markdown",
   "id": "e2d5caea",
   "metadata": {},
   "source": [
    "#### 3.raise\n",
    "The raise statement is used to manually trigger an exception.Useful when you want to enforce certain conditions in your code.\n",
    "You can raise built-in exceptions like ValueError, or even define and raise custom exceptions."
   ]
  },
  {
   "cell_type": "code",
   "execution_count": 11,
   "id": "a952cbac",
   "metadata": {},
   "outputs": [
    {
     "name": "stdout",
     "output_type": "stream",
     "text": [
      "Enter your age: 34\n",
      "Your age is: 34\n"
     ]
    }
   ],
   "source": [
    "age = int(input(\"Enter your age: \"))\n",
    "\n",
    "if age < 0:\n",
    "    raise ValueError(\"Age cannot be negative!\")\n",
    "else:\n",
    "    print(\"Your age is:\", age)"
   ]
  },
  {
   "cell_type": "markdown",
   "id": "de976229",
   "metadata": {},
   "source": [
    "### Q5. What are Custom Exceptions in python? Why do we need Custom Exceptions? Explain with an example."
   ]
  },
  {
   "cell_type": "markdown",
   "id": "e394cc98",
   "metadata": {},
   "source": [
    "Ans)Custom exceptions in Python are exceptions that you define yourself to represent specific errors or problems in your program. While Python provides a set of built-in exceptions (like ValueError, TypeError, ZeroDivisionError, etc.), there are times when your application needs its own set of error types to better capture the unique issues in your code.  \n",
    "\n",
    "**Need:**   \n",
    "Instead of just catching a generic exception, custom exceptions help to clearly define the kind of error that occurred, making it easier to understand.  \n",
    "\n",
    "As your project grows, you’ll likely want to differentiate between different types of errors. Using custom exceptions can help you keep your code organized and maintainable."
   ]
  },
  {
   "cell_type": "code",
   "execution_count": 15,
   "id": "42cdbd62",
   "metadata": {},
   "outputs": [
    {
     "name": "stdout",
     "output_type": "stream",
     "text": [
      "Enter a number above 10: 7\n",
      "Custom Error: Number must be greater than 10.\n"
     ]
    }
   ],
   "source": [
    "class MyError(Exception):\n",
    "    pass\n",
    "\n",
    "try:\n",
    "    num = int(input(\"Enter a number above 10: \"))\n",
    "    if num <= 10:\n",
    "        raise MyError(\"Number must be greater than 10.\")\n",
    "    print(\"You entered:\", num)\n",
    "except MyError as e:\n",
    "    print(\"Custom Error:\", e)\n",
    "except ValueError:\n",
    "    print(\"Error: Please enter a valid number.\")"
   ]
  },
  {
   "cell_type": "markdown",
   "id": "3dde738f",
   "metadata": {},
   "source": [
    "### Q6. Create a custom exception class. Use this class to handle an exception."
   ]
  },
  {
   "cell_type": "code",
   "execution_count": 16,
   "id": "8d5bf97f",
   "metadata": {},
   "outputs": [
    {
     "name": "stdout",
     "output_type": "stream",
     "text": [
      "Enter a positive number: -78\n",
      "Error: Only positive numbers are allowed.\n"
     ]
    }
   ],
   "source": [
    "class NegativeNumberError(Exception):\n",
    "    pass\n",
    "\n",
    "def check_positive(number):\n",
    "    if number < 0:\n",
    "        raise NegativeNumberError(\"Only positive numbers are allowed.\")\n",
    "    print(\"Valid number:\", number)\n",
    "\n",
    "try:\n",
    "    num = int(input(\"Enter a positive number: \"))\n",
    "    check_positive(num)\n",
    "except NegativeNumberError as e:\n",
    "    print(\"Error:\", e)\n",
    "except ValueError:\n",
    "    print(\"Error: Enter a valid integer.\")"
   ]
  }
 ],
 "metadata": {
  "kernelspec": {
   "display_name": "Python 3 (ipykernel)",
   "language": "python",
   "name": "python3"
  },
  "language_info": {
   "codemirror_mode": {
    "name": "ipython",
    "version": 3
   },
   "file_extension": ".py",
   "mimetype": "text/x-python",
   "name": "python",
   "nbconvert_exporter": "python",
   "pygments_lexer": "ipython3",
   "version": "3.9.7"
  }
 },
 "nbformat": 4,
 "nbformat_minor": 5
}
