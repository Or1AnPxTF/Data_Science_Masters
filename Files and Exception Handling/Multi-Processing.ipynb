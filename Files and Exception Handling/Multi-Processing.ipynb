{
 "cells": [
  {
   "cell_type": "markdown",
   "id": "eb2ba15b",
   "metadata": {},
   "source": [
    "### Q1. What is multiprocessing in python? Why is it useful?"
   ]
  },
  {
   "cell_type": "markdown",
   "id": "e66ef7e9",
   "metadata": {},
   "source": [
    "Ans)**Multiprocessing** in Python is a module that allows you to run multiple processes concurrently. Each process has its own memory space and Python interpreter, which makes it ideal for CPU-bound tasks that require a lot of computation.\n",
    "\n",
    "#### Why is it useful?\n",
    "\n",
    "It bypasses the Global Interpreter Lock (GIL), allowing true parallelism.\n",
    "\n",
    "Improves performance for tasks that utilize multiple CPU cores.\n",
    "\n",
    "Useful for parallel execution of independent tasks, like data processing, image processing, simulations, etc."
   ]
  },
  {
   "cell_type": "markdown",
   "id": "7fa1edd5",
   "metadata": {},
   "source": [
    "### Q2. What are the differences between multiprocessing and multithreading?"
   ]
  },
  {
   "cell_type": "markdown",
   "id": "56a066e1",
   "metadata": {},
   "source": [
    "**Multithreading** in Python allows multiple threads to run within a single process, sharing the same memory space. It is best suited for I/O-bound tasks like reading files or handling user input, where the program spends time waiting. However, due to Python’s Global Interpreter Lock (GIL), only one thread can execute Python bytecode at a time, which limits the ability to achieve true parallelism in CPU-bound operations.\n",
    "\n",
    "**Multiprocessing**, on the other hand, involves creating separate processes, each with its own memory and Python interpreter. This enables true parallel execution, making it ideal for CPU-bound tasks that require heavy computation. Although it uses more memory and has a bit more overhead than multithreading, it fully utilizes multiple CPU cores and avoids GIL-related limitations."
   ]
  },
  {
   "cell_type": "markdown",
   "id": "3c36118b",
   "metadata": {},
   "source": [
    "### Q3. Write a python code to create a process using the multiprocessing module."
   ]
  },
  {
   "cell_type": "code",
   "execution_count": 1,
   "id": "47531809",
   "metadata": {},
   "outputs": [],
   "source": [
    "from multiprocessing import Process\n",
    "\n",
    "def task():\n",
    "    print(\"Process is running.\")\n",
    "\n",
    "if __name__ == '__main__':\n",
    "    p = Process(target=task)\n",
    "    p.start()\n",
    "    p.join()"
   ]
  },
  {
   "cell_type": "markdown",
   "id": "32bcee75",
   "metadata": {},
   "source": [
    "### Q4. What is a multiprocessing pool in python? Why is it used?"
   ]
  },
  {
   "cell_type": "markdown",
   "id": "d97d77c4",
   "metadata": {},
   "source": [
    "A **multiprocessing pool** is a way to manage a fixed number of worker processes. It allows you to run multiple tasks in parallel using a pool of workers instead of creating and managing individual processes manually.\n",
    "\n",
    "#### Why is it used?\n",
    "\n",
    "To easily parallelize the execution of a function across multiple inputs.\n",
    "\n",
    "To avoid the overhead of creating a new process for each task.\n",
    "\n",
    "To manage resources efficiently using a fixed number of worker processes."
   ]
  },
  {
   "cell_type": "markdown",
   "id": "f045a7e9",
   "metadata": {},
   "source": [
    "### Q5. How can we create a pool of worker processes in python using the multiprocessing module?"
   ]
  },
  {
   "cell_type": "code",
   "execution_count": null,
   "id": "8bc90f69",
   "metadata": {},
   "outputs": [],
   "source": [
    "#Here, a pool of 4 worker processes is created, and the square function is run in parallel for each number in the list.\n",
    "from multiprocessing import Pool\n",
    "\n",
    "def square(n):\n",
    "    return n * n\n",
    "\n",
    "if __name__ == '__main__':\n",
    "    numbers = [1, 2, 3, 4, 5]\n",
    "    with Pool(processes=4) as pool:\n",
    "        results = pool.map(square, numbers)\n",
    "    print(\"Squares:\", results)\n"
   ]
  },
  {
   "cell_type": "markdown",
   "id": "a9d11ae6",
   "metadata": {},
   "source": [
    "### Q6. Write a python program to create 4 processes, each process should print a different number using themultiprocessing module in python."
   ]
  },
  {
   "cell_type": "code",
   "execution_count": null,
   "id": "201acf73",
   "metadata": {},
   "outputs": [],
   "source": [
    "from multiprocessing import Process\n",
    "\n",
    "def print_number(num):\n",
    "    print(f\"Process printing number: {num}\")\n",
    "\n",
    "if __name__ == '__main__':\n",
    "    numbers = [1, 2, 3, 4]\n",
    "    processes = []\n",
    "\n",
    "    for num in numbers:\n",
    "        p = Process(target=print_number, args=(num,))\n",
    "        processes.append(p)\n",
    "        p.start()\n",
    "\n",
    "    for p in processes:\n",
    "        p.join()\n",
    "\n",
    "#Each process in this program prints a different number from the list [1, 2, 3, 4]."
   ]
  }
 ],
 "metadata": {
  "kernelspec": {
   "display_name": "Python 3 (ipykernel)",
   "language": "python",
   "name": "python3"
  },
  "language_info": {
   "codemirror_mode": {
    "name": "ipython",
    "version": 3
   },
   "file_extension": ".py",
   "mimetype": "text/x-python",
   "name": "python",
   "nbconvert_exporter": "python",
   "pygments_lexer": "ipython3",
   "version": "3.9.7"
  }
 },
 "nbformat": 4,
 "nbformat_minor": 5
}
