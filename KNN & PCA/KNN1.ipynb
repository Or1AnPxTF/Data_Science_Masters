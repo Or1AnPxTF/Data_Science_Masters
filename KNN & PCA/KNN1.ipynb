{
 "cells": [
  {
   "cell_type": "markdown",
   "id": "a14f9e31",
   "metadata": {},
   "source": [
    "### Q1. What is the KNN algorithm?"
   ]
  },
  {
   "cell_type": "markdown",
   "id": "a6d7f3e3",
   "metadata": {},
   "source": [
    "Ans) The K-Nearest Neighbors (KNN) algorithm is a simple machine learning technique used for classification and regression tasks. It makes predictions by finding the k-nearest data points in the training dataset to a new data point and using the majority class (for classification) or the average value (for regression) of those neighbors to predict the target value for the new data point. KNN is easy to understand and implement but can be computationally expensive for large datasets."
   ]
  },
  {
   "cell_type": "markdown",
   "id": "fd7ff4e7",
   "metadata": {},
   "source": [
    "### Q2. How do you choose the value of K in KNN?"
   ]
  },
  {
   "cell_type": "markdown",
   "id": "22dbfa1d",
   "metadata": {},
   "source": [
    "**The value of K in KNN can be choosen by:**\n",
    "\n",
    "1. Smaller K values (e.g., 1, 3, 5) make the model sensitive to noise, potentially leading to overfitting. They capture fine-grained patterns but may not generalize well. Larger K values (e.g., 10, 20, or more) smooth the decision boundary, making the model less sensitive to noise, but they can underfit if the data has complex patterns, capturing more global trends.\n",
    "\n",
    "\n",
    "2. Preferably choosing an odd value for K in binary classification to avoid ties when voting for the majority class, ensuring a clear winner. For multiclass classification, consider the number of classes and the potential for ties when deciding whether to use an odd or even K.\n",
    "\n",
    "\n",
    "3. Using cross-validation to evaluate K's performance on a validation set.   \n",
    "\n",
    "\n",
    "4. Trying a range of K values and selecting the one that results in the best model performance (e.g., accuracy for classification, mean squared error for regression).  \n",
    "\n",
    "\n",
    "5. Being mindful of computational resources when selecting K.   "
   ]
  },
  {
   "cell_type": "markdown",
   "id": "37c39288",
   "metadata": {},
   "source": [
    "### Q3. What is the difference between KNN classifier and KNN regressor?"
   ]
  },
  {
   "cell_type": "markdown",
   "id": "f0dc74cc",
   "metadata": {},
   "source": [
    "The K-Nearest Neighbors (KNN) classifier and regressor are both types of supervised machine learning algorithms that use the same core principle: identifying the ‘k’ closest training examples to a given input based on distance metrics (usually Euclidean). \n",
    "\n",
    "However, the **KNN classifier** is used for categorical output, meaning it predicts class labels. It works by checking the majority class among the k-nearest neighbors and assigning that class to the new data point. For example, if 3 out of 5 nearest neighbors belong to class \"A\", then the input is classified as \"A\". This makes KNN classification suitable for problems like spam detection, image recognition, or disease classification.\n",
    "\n",
    "In contrast, the **KNN regressor** is used for continuous output, meaning it predicts numerical values. Instead of voting for a class, it calculates the average (or weighted average) of the target values of the k-nearest neighbors. For example, to predict house prices, the algorithm finds the k most similar houses and returns the average of their prices. KNN regression is useful in applications where an exact value is needed, such as predicting temperatures, stock prices, or real estate values.\n",
    "\n",
    "While both algorithms are non-parametric and lazy learners, the key difference lies in their output type and how they aggregate results from neighboring points."
   ]
  },
  {
   "cell_type": "markdown",
   "id": "eaf1f79f",
   "metadata": {},
   "source": [
    "### Q4. How do you measure the performance of KNN?"
   ]
  },
  {
   "cell_type": "markdown",
   "id": "117a0fc7",
   "metadata": {},
   "source": [
    "The performance of K-Nearest Neighbors (KNN) using the following metrics:\n",
    "\n",
    "* For KNN Classification:\n",
    "    * Accuracy for overall correctness.\n",
    "    * Precision for the ratio of true positives to positive predictions.\n",
    "    * Recall for the ratio of true positives to actual positives.\n",
    "    * F1-Score for a balance between precision and recall.\n",
    "    * Confusion Matrix for detailed classification results.\n",
    "    * ROC Curve and AUC for binary classification.      \n",
    "\n",
    "\n",
    "* For  KNN Regression:\n",
    "    * Mean Squared Error (MSE) for average squared prediction errors.\n",
    "    * Root Mean Squared Error (RMSE) for interpretable error in the same units.\n",
    "    * Mean Absolute Error (MAE) for average absolute prediction errors.\n",
    "    * R-squared (R2) for explaining the variance in the target variable."
   ]
  },
  {
   "cell_type": "markdown",
   "id": "01dd2905",
   "metadata": {},
   "source": [
    "### Q5. What is the curse of dimensionality in KNN?"
   ]
  },
  {
   "cell_type": "markdown",
   "id": "752a60ca",
   "metadata": {},
   "source": [
    "The curse of dimensionality in K-Nearest Neighbors (KNN) refers to the challenges and limitations that arise when dealing with high-dimensional data. In high-dimensional spaces, the volume increases exponentially as the number of dimensions grows, resulting in sparse data and making it difficult to find meaningful nearest neighbors. This sparsity leads to increased computational complexity, reduced discriminative power, and a need for larger datasets to maintain data density. As a result, KNN may perform poorly in high-dimensional settings, requiring careful feature selection, dimensionality reduction, or alternative distance metrics to mitigate these issues.\n",
    "\n",
    "In short as the number of dimensions increases (ie,number of features) in a dataset only upto a certain number of features the increase in accuracy is observed once there threshold number of dimensions is crossed the the accuracy of the model then decreases with the increase in number of features,this is called curse of dimensionality."
   ]
  },
  {
   "cell_type": "markdown",
   "id": "e08eea09",
   "metadata": {},
   "source": [
    "### Q6. How do you handle missing values in KNN?"
   ]
  },
  {
   "cell_type": "markdown",
   "id": "364d4c60",
   "metadata": {},
   "source": [
    "###### To handle missing values in K-Nearest Neighbors (KNN) we use these methods :\n",
    "\n",
    "1. Remove Instances: If only a few instances have missing values, consider removing them if data loss is acceptable.\n",
    "\n",
    "1. Impute with Mean/Median: Fill missing values with the mean (for numeric data) or median (robust to outliers) of the respective feature.\n",
    "\n",
    "3. KNN Imputation: Use KNN to estimate missing values by averaging values from the K nearest neighbors for each missing data point.\n",
    "\n",
    "4. Predictive Models: Train predictive models to predict missing values based on other features.\n",
    "\n",
    "5. Multiple Imputation: Create multiple imputed datasets with different imputed values and analyze them separately to account for uncertainty.\n",
    "\n",
    "6. Weighted Distances: Assign different feature weights when calculating distances in KNN to reduce the impact of missing values in less important features."
   ]
  },
  {
   "cell_type": "markdown",
   "id": "9e47ec92",
   "metadata": {},
   "source": [
    "### Q7. Compare and contrast the performance of the KNN classifier and regressor. Which one is better for which type of problem?"
   ]
  },
  {
   "cell_type": "markdown",
   "id": "70e4078b",
   "metadata": {},
   "source": [
    "The K-Nearest Neighbors (KNN) classifier and regressor are two variations of the KNN algorithm, each suited for different types of machine learning tasks.\n",
    "\n",
    "#### KNN Classifier:\n",
    "\n",
    "* The KNN classifier is designed for classification tasks, where the goal is to predict discrete class labels for data points.\n",
    "* It works by assigning a data point to the majority class among its K-nearest neighbors, where K is a user-defined hyperparameter.\n",
    "* KNN classifiers are effective when dealing with categorical or nominal target variables.\n",
    "* They calculate distances (typically Euclidean) between data points in feature space and classify the data point based on the most common class among its neighbors.\n",
    "* KNN classifiers are sensitive to the choice of K and the distance metric used.\n",
    "* They are suitable for tasks like text classification, image classification, disease diagnosis, and fraud detection. However, they can be sensitive to class imbalance and may require class balancing techniques like oversampling or undersampling.\n",
    "\n",
    "#### KNN Regressor:\n",
    "\n",
    "* The KNN regressor is designed for regression tasks, where the objective is to predict continuous numerical values for data points.\n",
    "* It also uses a user-defined K to identify the K-nearest neighbors of a data point.\n",
    "* nstead of class labels, the KNN regressor predicts the target variable's value as the average (or weighted average) of the target values of its neighbors.\n",
    "* KNN regressors are sensitive to the choice of K and the distance metric, just like classifiers.\n",
    "* They are well-suited for tasks like house price prediction, stock price forecasting, and temperature prediction. However, they are sensitive to outliers and may require preprocessing techniques to handle them effectively.\n",
    "\n",
    "**Choosing Between KNN Classifier and Regressor:** The choice between KNN classifier and regressor depends on the nature of the target variable and the problem context. If the target variable represents discrete categories or classes, the KNN classifier is the natural choice. Conversely, if the target variable is continuous and represents numerical values, the KNN regressor should be used. It's essential to consider the characteristics of the data and the specific objectives of the machine learning task when deciding between the two variants."
   ]
  },
  {
   "cell_type": "markdown",
   "id": "d0320567",
   "metadata": {},
   "source": [
    "### Q8. What are the strengths and weaknesses of the KNN algorithm for classification and regression tasks, and how can these be addressed?"
   ]
  },
  {
   "cell_type": "markdown",
   "id": "ca210ad0",
   "metadata": {},
   "source": [
    "#### Strengths\n",
    "1. Simplicity: Easy to understand and implement.\n",
    "2. Versatility: Applicable to both classification and regression tasks.\n",
    "3. Adaptability: Can capture complex decision boundaries.\n",
    "\n",
    "#### Weaknesses\n",
    "1. Computational Complexity: Can be slow for large datasets.\n",
    "2. Sensitivity to Noise and Outliers: Prone to noisy data and outliers.\n",
    "3. Impact of Irrelevant Features: Treats all features equally.\n",
    "4. Hyperparameter Sensitivity: Choice of K and distance metric crucial.\n",
    "\n",
    "#### Addressing Weaknesses:\n",
    "1. Dimensionality Reduction: Use PCA or feature selection to reduce dimensionality.\n",
    "2. Outlier Handling: Apply outlier detection and removal techniques.\n",
    "3. Feature Engineering: Carefully select and engineer relevant features.\n",
    "4. Distance Metric Selection: Experiment with different distance metrics.\n",
    "5. Class Balancing: Employ class balancing methods for imbalanced data.\n",
    "6. Cross-Validation: Use cross-validation for hyperparameter tuning.\n",
    "7. Ensemble Methods: Combine KNN models or use ensemble techniques."
   ]
  },
  {
   "cell_type": "markdown",
   "id": "67ce66eb",
   "metadata": {},
   "source": [
    "### Q9. What is the difference between Euclidean distance and Manhattan distance in KNN?"
   ]
  },
  {
   "attachments": {
    "image.png": {
     "image/png": "[encoded data removed]"
    }
   },
   "cell_type": "markdown",
   "id": "4abf55ef",
   "metadata": {},
   "source": [
    "In KNN (K-Nearest Neighbors), Euclidean distance and Manhattan distance are two commonly used distance metrics that help determine how \"close\" one data point is to another.\n",
    "\n",
    "The **Euclidean distance** is the straight-line distance between two points in a multidimensional space, calculated using the Pythagorean theorem.\n",
    "This metric works well when the data is continuous and the features are on a similar scale. It’s ideal for round, compact clusters where direct spatial proximity matters.\n",
    "\n",
    "On the other hand, **Manhattan distance** (also known as L1 distance or taxicab distance) measures the total absolute difference across dimensions. Instead of a straight line, it calculates the distance a taxi would travel in a grid-like path (moving only horizontally or vertically).Manhattan distance is more suitable when dealing with high-dimensional data or cases where movement is restricted to axes (like city blocks). It’s less sensitive to outliers compared to Euclidean distance, which can be heavily influenced by large feature differences. The choice between the two depends on the nature of the data and the problem context.\n",
    "\n",
    "![image.png](attachment:image.png)"
   ]
  },
  {
   "cell_type": "markdown",
   "id": "64d82f91",
   "metadata": {},
   "source": [
    "### Q10. What is the role of feature scaling in KNN?"
   ]
  },
  {
   "cell_type": "markdown",
   "id": "584d17ef",
   "metadata": {},
   "source": [
    "The role of feature scaling in K-Nearest Neighbors (KNN) are:\n",
    "\n",
    "* **Equal Contribution:** Feature scaling ensures all features contribute equally to distance calculations.\n",
    "\n",
    "* **Distance Metric Consistency:** Scaling makes distance metrics meaningful and unbiased.\n",
    "\n",
    "* **Convergence Improvement:** It can help KNN converge faster, especially in high dimensions.\n",
    "\n",
    "* **Robustness to Outliers:** Scaling can make KNN more robust to extreme values.\n",
    "\n",
    "* **Effective in High Dimensions:** Especially important in high-dimensional datasets.\n",
    "\n",
    "* **Common Scaling Methods:** Include Min-Max scaling, Z-score scaling, and robust scaling.\n",
    "\n",
    "Feature scaling is essential to ensure KNN provides accurate and unbiased results across various datasets and dimensions."
   ]
  }
 ],
 "metadata": {
  "kernelspec": {
   "display_name": "Python 3 (ipykernel)",
   "language": "python",
   "name": "python3"
  },
  "language_info": {
   "codemirror_mode": {
    "name": "ipython",
    "version": 3
   },
   "file_extension": ".py",
   "mimetype": "text/x-python",
   "name": "python",
   "nbconvert_exporter": "python",
   "pygments_lexer": "ipython3",
   "version": "3.9.7"
  }
 },
 "nbformat": 4,
 "nbformat_minor": 5
}
